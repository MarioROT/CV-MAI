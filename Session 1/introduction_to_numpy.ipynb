{
  "nbformat": 4,
  "nbformat_minor": 0,
  "metadata": {
    "colab": {
      "provenance": [],
      "include_colab_link": true
    },
    "kernelspec": {
      "name": "python3",
      "display_name": "Python 3"
    }
  },
  "cells": [
    {
      "cell_type": "markdown",
      "metadata": {
        "id": "view-in-github",
        "colab_type": "text"
      },
      "source": [
        "<a href=\"https://colab.research.google.com/github/MarioROT/CV-MAI/blob/main/Session%201/introduction_to_numpy.ipynb\" target=\"_parent\"><img src=\"https://colab.research.google.com/assets/colab-badge.svg\" alt=\"Open In Colab\"/></a>"
      ]
    },
    {
      "cell_type": "markdown",
      "source": [
        "# Computational Vision Lab 1\n",
        "Students:\n",
        "- Alam López\n",
        "- Mario Rosas"
      ],
      "metadata": {
        "id": "CWsV-W4q6oLV"
      }
    },
    {
      "cell_type": "markdown",
      "metadata": {
        "id": "8A01NEn8SKWm"
      },
      "source": [
        "# NumPy (Numerical Python)\n",
        "\n",
        "NumPy works on **multidimensional homogeneous array objects** and it provides a collection of functions to process those arrays. NumPy is known for the fast numerical computations. Numpy provides a high level syntax and it has a very vibrant ecosystem that interopertes for different application areas. The n-dimensional arrays are known as **ndarray**. ndarray forms the primitive building blocks of numerous python libraries."
      ]
    },
    {
      "cell_type": "markdown",
      "metadata": {
        "id": "kRC90wkCaGdV"
      },
      "source": [
        "# Importing numpy\n",
        "\n",
        "NumPy is available by default in Colab notebooks. Therefore the library can be invoked directly using the *import* statement\n",
        "\n",
        "*PS: Follow the instructions on the [Installation section](https://numpy.org/install/) of NumPy to make local installations.*\n"
      ]
    },
    {
      "cell_type": "code",
      "metadata": {
        "id": "f6ey4hZmBYoe",
        "colab": {
          "base_uri": "https://localhost:8080/"
        },
        "outputId": "8db8c6fc-f2ab-46f1-dd0a-403fd28d878b"
      },
      "source": [
        "import numpy as np\n",
        "print(\"Loaded\", np.__version__, \"version of numpy!!!\")"
      ],
      "execution_count": 1,
      "outputs": [
        {
          "output_type": "stream",
          "name": "stdout",
          "text": [
            "Loaded 1.23.5 version of numpy!!!\n"
          ]
        }
      ]
    },
    {
      "cell_type": "markdown",
      "metadata": {
        "id": "E1QyghMraoIU"
      },
      "source": [
        "# Creating NumPy arrays\n",
        "\n",
        "The basic ndarray is created using the **array** function, which takes any sequence as an input parameter. NumPy arrays can be easily created from lists\n"
      ]
    },
    {
      "cell_type": "code",
      "metadata": {
        "id": "69_hyreHan2i",
        "colab": {
          "base_uri": "https://localhost:8080/"
        },
        "outputId": "a5a3cbe3-f91a-4c3c-997e-51266c305d80"
      },
      "source": [
        "# creating a 1 dimensional array\n",
        "var1 = np.array([1, 2, 3, 4, 5])\n",
        "\n",
        "# creating a 2 dimensional array\n",
        "var2 = np.array([[1, 2, 3, 4, 5],\n",
        "                 [6, 7, 8, 9, 0]])\n",
        "\n",
        "print(\"var1 =\", var1)\n",
        "print(\"var2 =\", var2)"
      ],
      "execution_count": 2,
      "outputs": [
        {
          "output_type": "stream",
          "name": "stdout",
          "text": [
            "var1 = [1 2 3 4 5]\n",
            "var2 = [[1 2 3 4 5]\n",
            " [6 7 8 9 0]]\n"
          ]
        }
      ]
    },
    {
      "cell_type": "code",
      "metadata": {
        "id": "-BsQcnkzfUnw",
        "colab": {
          "base_uri": "https://localhost:8080/"
        },
        "outputId": "e8e9fb5f-7abc-4f72-9175-9bcd7ad1844c"
      },
      "source": [
        "# It is also possible to specify the type of the element during array creation\n",
        "var3 = np.array([1, 2, 3], dtype=np.float32)\n",
        "print(\"var3 =\", var3)\n",
        "\n",
        "# Notice the usage of numpy arrays to create another array with a different dtype\n",
        "var4 = np.array(var3, dtype=np.int32)\n",
        "print(\"var4 =\", var4)\n",
        "\n",
        "var5 = np.array(var4, dtype=complex)\n",
        "print(\"var5 =\", var5)"
      ],
      "execution_count": 6,
      "outputs": [
        {
          "output_type": "stream",
          "name": "stdout",
          "text": [
            "var3 = [1. 2. 3.]\n",
            "var4 = [1 2 3]\n",
            "var5 = [1.+0.j 2.+0.j 3.+0.j]\n"
          ]
        }
      ]
    },
    {
      "cell_type": "markdown",
      "metadata": {
        "id": "txjNpncRbr63"
      },
      "source": [
        "# Array Properties\n",
        "The important attributes of the ndarray are\n",
        "\n",
        "*   shape: Dimensions of the array\n",
        "*   size: Total number of elements in the array\n",
        "*   ndim: Number of axes\n",
        "*   dtype: Type of the elements of the array\n",
        "\n"
      ]
    },
    {
      "cell_type": "code",
      "metadata": {
        "id": "-_R08BJ7djMc",
        "colab": {
          "base_uri": "https://localhost:8080/"
        },
        "outputId": "c0ac1cad-de2e-48d8-c43a-5fd5ba788019"
      },
      "source": [
        "print(var1.dtype, '\\t', var1.shape, '\\t', var1.size, '\\t', var1.ndim)\n",
        "print(var2.dtype, '\\t', var2.shape, '\\t', var2.size, '\\t', var2.ndim)\n",
        "print(var3.dtype, '\\t', var3.shape, '\\t', var3.size, '\\t', var3.ndim)\n",
        "print(var4.dtype, '\\t', var4.shape, '\\t', var4.size, '\\t', var4.ndim)\n",
        "print(var5.dtype, '\\t', var5.shape, '\\t', var5.size, '\\t', var5.ndim)"
      ],
      "execution_count": 7,
      "outputs": [
        {
          "output_type": "stream",
          "name": "stdout",
          "text": [
            "int64 \t (5,) \t 5 \t 1\n",
            "int64 \t (2, 5) \t 10 \t 2\n",
            "float32 \t (3,) \t 3 \t 1\n",
            "int32 \t (3,) \t 3 \t 1\n",
            "complex128 \t (3,) \t 3 \t 1\n"
          ]
        }
      ]
    },
    {
      "cell_type": "markdown",
      "metadata": {
        "id": "s_0VKHuihhkU"
      },
      "source": [
        "# Other array creation methods\n",
        "\n",
        "It is not always necessary to have the elements defined during the creation of the arrays. There are several NumPy functions that allows you to create arrays to act as placeholders before the actual computations.\n",
        "\n",
        "**Exercise #01:**\n",
        "\n",
        "*   Create different array objects using the following functions: (1) zeros, (2) ones, (3) empty, (4) zeros_like, (5) ones_like, (6) empty_like\n"
      ]
    },
    {
      "cell_type": "code",
      "metadata": {
        "id": "88Gce1SwjCOO",
        "colab": {
          "base_uri": "https://localhost:8080/"
        },
        "outputId": "3b26287b-6605-4fa7-d3d4-8db85c48d64d"
      },
      "source": [
        "# Solution\n",
        "#Zeros\n",
        "var6 = np.zeros([1,3])\n",
        "print('\\n-- Zeros\\n', var6)\n",
        "\n",
        "# Ones\n",
        "var7 = np.ones([3,1], dtype=np.float32)\n",
        "print('\\n-- Ones\\n', var7)\n",
        "\n",
        "# Empty\n",
        "var8 = np.empty([3,3], dtype=np.int32)\n",
        "print('\\n-- Empty\\n',var8)\n",
        "\n",
        "#Zeros like\n",
        "var9= np.zeros_like([2,3],dtype=np.int32)\n",
        "print('\\n-- Zeros like\\n', var9)\n",
        "\n",
        "# Ones like\n",
        "var10 = np.ones_like([1,3])\n",
        "print('\\n-- Ones like\\n', var10)\n",
        "\n",
        "# Empty like\n",
        "var11 = np.empty_like([3,3], dtype=np.float32)\n",
        "print('\\n-- Empty like\\n',var11)"
      ],
      "execution_count": 11,
      "outputs": [
        {
          "output_type": "stream",
          "name": "stdout",
          "text": [
            "\n",
            "-- Zeros\n",
            " [[0. 0. 0.]]\n",
            "\n",
            "-- Ones\n",
            " [[1.]\n",
            " [1.]\n",
            " [1.]]\n",
            "\n",
            "-- Empty\n",
            " [[-871417456      22100          0]\n",
            " [         0        112          0]\n",
            " [ 678719340  691089970         48]]\n",
            "\n",
            "-- Zeros like\n",
            " [0 0]\n",
            "\n",
            "-- Ones like\n",
            " [1 1]\n",
            "\n",
            "-- Empty like\n",
            " [1.e-45 0.e+00]\n"
          ]
        }
      ]
    },
    {
      "cell_type": "markdown",
      "metadata": {
        "id": "wkSikFsXvySG"
      },
      "source": [
        "**Exercise #02:**\n",
        "\n",
        "*   What is the difference between **empty** and **zeros** methods?\n",
        "*   What is the use of **arange** and **linspace** functions?\n",
        "\n"
      ]
    },
    {
      "cell_type": "markdown",
      "metadata": {
        "id": "jHwXGNWljGA6"
      },
      "source": [
        "**Solution**\n",
        "\n",
        "- The **zeros** method returns and array with the specified shape and all values initialized to zero. On the other hand, the **empty** method returns also an array of the specified shape but, with uninitialized values (random initialization).\n",
        "\n",
        "\n",
        "- The arrange and linspace functions are very similar. Both help us to create a sequence of numbers by defining the starting and finish points. The main difference is that wih **arrange**, we can define the *specific step* between one number and the next one, to get from the min to the max, while the **linspace** we can define how many values evenly spaced we want to have between the min and max.\n"
      ]
    },
    {
      "cell_type": "markdown",
      "metadata": {
        "id": "wbOCONUDjb0q"
      },
      "source": [
        "# Shape Manipulations"
      ]
    },
    {
      "cell_type": "code",
      "metadata": {
        "id": "D5acQVQWqKUC",
        "colab": {
          "base_uri": "https://localhost:8080/"
        },
        "outputId": "9a5f4fea-edd5-4ec2-dfad-5eaec58317f9"
      },
      "source": [
        "# Creating a numpy array using arange function\n",
        "var6 = np.arange(10, dtype=int)\n",
        "print(var6, '\\n')\n",
        "\n",
        "# Reshaping the array into 2 x 5 array\n",
        "var6 = var6.reshape(2,5)\n",
        "print(var6, '\\n')\n",
        "\n",
        "# Reshaping the array in 3 dimensions\n",
        "var6 = var6.reshape(1,2,5)\n",
        "print(var6, '\\n')\n",
        "\n",
        "# Note that it is not always necessary to give all three dimensions\n",
        "var6 = var6.reshape(1,2,-1)\n",
        "print(var6)"
      ],
      "execution_count": 19,
      "outputs": [
        {
          "output_type": "stream",
          "name": "stdout",
          "text": [
            "[0 1 2 3 4 5 6 7 8 9] \n",
            "\n",
            "[[0 1 2 3 4]\n",
            " [5 6 7 8 9]] \n",
            "\n",
            "[[[0 1 2 3 4]\n",
            "  [5 6 7 8 9]]] \n",
            "\n",
            "[[[0 1 2 3 4]\n",
            "  [5 6 7 8 9]]]\n"
          ]
        }
      ]
    },
    {
      "cell_type": "markdown",
      "metadata": {
        "id": "XxeMES7tr-4z"
      },
      "source": [
        "**Exercise #03:**\n",
        "\n",
        "*   What is the difference between reshape and resize methods?\n",
        "\n"
      ]
    },
    {
      "cell_type": "markdown",
      "metadata": {
        "id": "k3VFt4FMetim"
      },
      "source": [
        "**Solution**\n",
        "\n",
        "When the **resize** and **reshape** methods are directly applied to the ndarray, **reshape** only takes comptible new shapes to transform the array, this means the same number of elements have to fit in the previous shape and in the new one. However, when the **resize** method is used, you can enter shapes with larger or smaller sizes, if it is larger it will fill with zeros the new spaces, if its smaller it will cut some of the elements.\n",
        "\n",
        "..."
      ]
    },
    {
      "cell_type": "markdown",
      "metadata": {
        "id": "i9ZCRBDlqENA"
      },
      "source": [
        "# Indexing, Slicing and Iterating\n",
        "\n",
        "Indexing and slicing is similar to python lists. We use the **[ ]** operator for providing slices and indices."
      ]
    },
    {
      "cell_type": "code",
      "metadata": {
        "id": "P-CZ_trPhBwH",
        "colab": {
          "base_uri": "https://localhost:8080/"
        },
        "outputId": "d26799a6-7778-430b-e188-cbd7724f029b"
      },
      "source": [
        "var7 = np.array([1, 2, 3, 4, 5])\n",
        "\n",
        "# indexing the second element\n",
        "# Remember array indices start with 0 in numpy\n",
        "print(var7[1])\n",
        "\n",
        "# slicing the first two elements of the array\n",
        "print(var7[0:2])"
      ],
      "execution_count": 26,
      "outputs": [
        {
          "output_type": "stream",
          "name": "stdout",
          "text": [
            "2\n",
            "[1 2]\n"
          ]
        }
      ]
    },
    {
      "cell_type": "code",
      "metadata": {
        "id": "aTpnDW7qhpZX",
        "colab": {
          "base_uri": "https://localhost:8080/"
        },
        "outputId": "5d7e3229-6df2-4d75-b25e-945934982530"
      },
      "source": [
        "# it is also possible to slice arrays based on a condition\n",
        "print(var7[var7 % 2 == 0])  # prints all the even numbers in the array"
      ],
      "execution_count": 29,
      "outputs": [
        {
          "output_type": "stream",
          "name": "stdout",
          "text": [
            "[2 4]\n"
          ]
        }
      ]
    },
    {
      "cell_type": "code",
      "metadata": {
        "id": "MP7Z7Zsikeaf",
        "colab": {
          "base_uri": "https://localhost:8080/"
        },
        "outputId": "162fb6f0-bba4-44ae-f21a-ddf2daf9586d"
      },
      "source": [
        "var8 = np.array([[1, 2, 3], [4, 5, 6], [7, 8, 9]])\n",
        "print(var8 , '\\n')\n",
        "\n",
        "# indexing the element at second row and second column\n",
        "print(var8[1,1] , '\\n')\n",
        "\n",
        "# it is possible to slice the entire row or column\n",
        "print(var8[1], '\\n')\n",
        "print(var8[:,1], '\\n')\n",
        "\n",
        "# slice a particular range\n",
        "print(var8[0:2, 0:2])"
      ],
      "execution_count": 34,
      "outputs": [
        {
          "output_type": "stream",
          "name": "stdout",
          "text": [
            "[[1 2 3]\n",
            " [4 5 6]\n",
            " [7 8 9]] \n",
            "\n",
            "5 \n",
            "\n",
            "[4 5 6] \n",
            "\n",
            "[2 5 8] \n",
            "\n",
            "[[1 2]\n",
            " [4 5]]\n"
          ]
        }
      ]
    },
    {
      "cell_type": "markdown",
      "metadata": {
        "id": "EoGBpQv_wDrn"
      },
      "source": [
        "A visual illustration of slicing mechanism can be seen here\n",
        "\n",
        "![numpy_indexing.png](https://drive.google.com/uc?export=view&id=1y6rrsrihu3QS5_NGdYMo9mBnbv0qHehq)\n",
        "\n",
        "*Reference: http://scipy-lectures.org*"
      ]
    },
    {
      "cell_type": "markdown",
      "metadata": {
        "id": "KPx5YbuBiKjw"
      },
      "source": [
        "**Exercise #04:**\n",
        "\n",
        "*   What is the use of non-zero function? Provide an example of how non-zero function can be used.\n",
        "\n"
      ]
    },
    {
      "cell_type": "markdown",
      "metadata": {
        "id": "0SbXe2gHipxo"
      },
      "source": [
        "**Solution**\n",
        "\n",
        "The **nonzero** function returns the location (indices) of the values in the array that are different from zero. Indices are returned in a tuple of arrays, one for each dimension. If it is used to slice the same array you get the non-zero values directly if the transpose method is also used, you get an array per non-zero value with all indices for each.  \n",
        "\n",
        "- This function can help when we are trying to perform some specific task only with the arrays that contain some data instead of all of them. We can easily keep only the ones that we really need to perform and threfore save some resouces.\n",
        "..."
      ]
    },
    {
      "cell_type": "code",
      "metadata": {
        "id": "07q5D1ygiblJ"
      },
      "source": [
        "# solution"
      ],
      "execution_count": null,
      "outputs": []
    },
    {
      "cell_type": "markdown",
      "metadata": {
        "id": "OJm98xQKzwgx"
      },
      "source": [
        "Iterating an array can be either performed using the python list style or using the nditer function."
      ]
    },
    {
      "cell_type": "code",
      "metadata": {
        "id": "trCOmdaxz3L6",
        "colab": {
          "base_uri": "https://localhost:8080/"
        },
        "outputId": "55da8e71-3e9f-4fef-eb08-2cc3302ab338"
      },
      "source": [
        "var9 = np.array([[1, 2, 3], [4, 5, 6],[7, 8, 9]])\n",
        "\n",
        "for i in var9: # outer loop to access row\n",
        "    print(i) # returs the entire row\n",
        "\n",
        "for i in var9: # outer loop to access row\n",
        "    for j in i:  # iterating each element of the row\n",
        "        print(j) # returs the element value"
      ],
      "execution_count": 44,
      "outputs": [
        {
          "output_type": "stream",
          "name": "stdout",
          "text": [
            "[1 2 3]\n",
            "[4 5 6]\n",
            "[7 8 9]\n",
            "1\n",
            "2\n",
            "3\n",
            "4\n",
            "5\n",
            "6\n",
            "7\n",
            "8\n",
            "9\n"
          ]
        }
      ]
    },
    {
      "cell_type": "code",
      "metadata": {
        "id": "yiSVVSTpyoZI",
        "colab": {
          "base_uri": "https://localhost:8080/"
        },
        "outputId": "decf80a7-f1c2-4981-fcfb-cebf85559d7a"
      },
      "source": [
        "# an alternative to the nesting for loop is the nditer function\n",
        "var10 = np.array([[1, 2, 3], [4, 5, 6],[7, 8, 9]])\n",
        "for i in np.nditer(var10):\n",
        "    print(i)"
      ],
      "execution_count": 41,
      "outputs": [
        {
          "output_type": "stream",
          "name": "stdout",
          "text": [
            "1\n",
            "2\n",
            "3\n",
            "4\n",
            "5\n",
            "6\n",
            "7\n",
            "8\n",
            "9\n"
          ]
        }
      ]
    },
    {
      "cell_type": "markdown",
      "metadata": {
        "id": "kQbB9NlV0J72"
      },
      "source": [
        "**Exercise #05:**\n",
        "\n",
        "*   How can we enumerate a numpy array?\n",
        "\n"
      ]
    },
    {
      "cell_type": "markdown",
      "metadata": {
        "id": "E4L8-Aso0Mef"
      },
      "source": [
        "**Solution**\n",
        "\n",
        "There are multiple approaches to anumerate an array. However in all of them we need o  use an iteration in order to make it general for any array.\n",
        "\n",
        "We can set a index = 0, and for each value inside the array we add 1 to the current index."
      ]
    },
    {
      "cell_type": "markdown",
      "metadata": {
        "id": "H5gsMBnSuNmN"
      },
      "source": [
        "It has to be noted that, slices share memory with original array.\n",
        "\n",
        "In the below example, var12 is created by slicing var11. Notice the change in var11 after modifying var12."
      ]
    },
    {
      "cell_type": "code",
      "metadata": {
        "id": "wMJMuZTps94q",
        "colab": {
          "base_uri": "https://localhost:8080/"
        },
        "outputId": "8d0c1ffc-dba9-432c-aa32-5010ee06e172"
      },
      "source": [
        "var11 = np.array([1, 2, 3])\n",
        "print(var11,'\\n')\n",
        "\n",
        "var12 = var11[0:1]\n",
        "print(var12,'\\n')\n",
        "\n",
        "print('before changing:', var11)\n",
        "\n",
        "var12[0] = 4\n",
        "\n",
        "print('after changing:', var11)"
      ],
      "execution_count": 49,
      "outputs": [
        {
          "output_type": "stream",
          "name": "stdout",
          "text": [
            "[1 2 3] \n",
            "\n",
            "[1] \n",
            "\n",
            "before changing: [1 2 3]\n",
            "after changing: [4 2 3]\n"
          ]
        }
      ]
    },
    {
      "cell_type": "markdown",
      "metadata": {
        "id": "5gh4783VyOPN"
      },
      "source": [
        "This leaves us with the question of how the array copy works in numpy"
      ]
    },
    {
      "cell_type": "markdown",
      "metadata": {
        "id": "nj5X_ym4tk3D"
      },
      "source": [
        "# Array Copy\n",
        "\n",
        "When you create a new array using the '=' operator, no new copy of the array is created, ie, only a name is created but it refers to the same object."
      ]
    },
    {
      "cell_type": "code",
      "metadata": {
        "id": "LRuyykbj5ce8",
        "colab": {
          "base_uri": "https://localhost:8080/"
        },
        "outputId": "9a9affd6-2a7d-4063-9098-4a2f381307a5"
      },
      "source": [
        "var13 = np.array([1, 2, 3, 4, 5])\n",
        "\n",
        "var14 = var13\n",
        "print('Before modifying', var13)\n",
        "\n",
        "var14[0] += 1\n",
        "print('After modifying', var13)"
      ],
      "execution_count": 50,
      "outputs": [
        {
          "output_type": "stream",
          "name": "stdout",
          "text": [
            "Before modifying [1 2 3 4 5]\n",
            "After modifying [2 2 3 4 5]\n"
          ]
        }
      ]
    },
    {
      "cell_type": "markdown",
      "metadata": {
        "id": "O9LJvXVU6moG"
      },
      "source": [
        "When a view function is used to create a copy of the array, or when the array is sliced, the returned array is only a shallow copy of the original array, ie, an array object is created but the object points to the same data"
      ]
    },
    {
      "cell_type": "code",
      "metadata": {
        "id": "wKiN-nK07P2U",
        "colab": {
          "base_uri": "https://localhost:8080/"
        },
        "outputId": "c6b46db5-15fd-4ee6-b370-43e9e3af5b4c"
      },
      "source": [
        "var15 = np.array([1, 2, 3, 4, 5])\n",
        "\n",
        "var16 = var15.view()\n",
        "print('Before modifying (using view)', var15)\n",
        "\n",
        "var16[0] += 1\n",
        "print('After modifying (using view)', var15)\n",
        "\n",
        "var17 = var15[0:3]\n",
        "print('Before modifying (using slice)', var15)\n",
        "\n",
        "var17[2] += 1\n",
        "print('After modifying (using slice)', var15)"
      ],
      "execution_count": 51,
      "outputs": [
        {
          "output_type": "stream",
          "name": "stdout",
          "text": [
            "Before modifying (using view) [1 2 3 4 5]\n",
            "After modifying (using view) [2 2 3 4 5]\n",
            "Before modifying (using slice) [2 2 3 4 5]\n",
            "After modifying (using slice) [2 2 4 4 5]\n"
          ]
        }
      ]
    },
    {
      "cell_type": "markdown",
      "metadata": {
        "id": "SxMWSP-o7oFo"
      },
      "source": [
        "To create a deep copy of the array, it is necessary to use the copy method"
      ]
    },
    {
      "cell_type": "code",
      "metadata": {
        "id": "Y5vKaBkk87Bp",
        "colab": {
          "base_uri": "https://localhost:8080/"
        },
        "outputId": "ce8626a1-ea01-40c3-8eee-e7e74415d416"
      },
      "source": [
        "var18 = np.array([1, 2, 3, 4, 5])\n",
        "\n",
        "var19 = var18.copy()\n",
        "print('Before modifying (using copy)', var18)\n",
        "\n",
        "var19[0] += 1\n",
        "print('After modifying (using copy)', var18)"
      ],
      "execution_count": 52,
      "outputs": [
        {
          "output_type": "stream",
          "name": "stdout",
          "text": [
            "Before modifying (using copy) [1 2 3 4 5]\n",
            "After modifying (using copy) [1 2 3 4 5]\n"
          ]
        }
      ]
    },
    {
      "cell_type": "markdown",
      "metadata": {
        "id": "DdxYPyqYukNf"
      },
      "source": [
        "# Adding new axis\n",
        "\n",
        "It is also possible to increase the dimensions of a numpy array. **np.newaxis** and **expand_dims** can be used to increase the dimensions of the array. This would be used very handy in building convolutional neural networks where you would need to have uniform channel lengths *(will be used in the later exercises)*."
      ]
    },
    {
      "cell_type": "code",
      "metadata": {
        "id": "6pb3JQWVujSr",
        "colab": {
          "base_uri": "https://localhost:8080/"
        },
        "outputId": "1fbc4e9e-dfdf-4e7a-8a9c-0818e6d765b3"
      },
      "source": [
        "var20 = np.array([1, 2, 3, 4, 5])\n",
        "print(var20.shape)\n",
        "\n",
        "a = var20[np.newaxis, :]  # adding new axis to the first axis\n",
        "print(a.shape)\n",
        "\n",
        "b = a[np.newaxis, :]  # adding new axis to the first axis\n",
        "print(b.shape)\n",
        "\n",
        "c = np.expand_dims(var20, axis=1)  # adding new axis to the second axis\n",
        "print(c.shape)\n",
        "\n",
        "d = np.expand_dims(var20, axis=0)  # adding new axis to the first axis\n",
        "print(d.shape)"
      ],
      "execution_count": 53,
      "outputs": [
        {
          "output_type": "stream",
          "name": "stdout",
          "text": [
            "(5,)\n",
            "(1, 5)\n",
            "(1, 1, 5)\n",
            "(5, 1)\n",
            "(1, 5)\n"
          ]
        }
      ]
    },
    {
      "cell_type": "markdown",
      "metadata": {
        "id": "o8xkokp5s3F4"
      },
      "source": [
        "# Broadcasting Rules\n",
        "\n",
        "Broadcasting deals with how numpy treats arrays with different sizes during arithmetic operations. In general, the smaller arrays are broadcasted into the larger array shapes so that both the arrays are compatible.\n",
        "\n",
        "Read [basic broadcasting rules](https://numpy.org/doc/stable/user/basics.broadcasting.html) for basic knowledge about broadcasting.\n",
        "Also read [Array broadcasting](https://numpy.org/doc/stable/user/theory.broadcasting.html#array-broadcasting-in-numpy).\n"
      ]
    },
    {
      "cell_type": "code",
      "metadata": {
        "id": "8c8Rza6BJ3Eq",
        "colab": {
          "base_uri": "https://localhost:8080/"
        },
        "outputId": "c24c49ff-e67f-4509-eb39-eb082a9fa334"
      },
      "source": [
        "var20 = np.array([[1.2, 2.3, 4.0],\n",
        "                  [1.2, 3.4, 5.2],\n",
        "                  [0.0, 1.0, 1.3],\n",
        "                  [0.0, 1.0, 2e-1]])\n",
        "\n",
        "print(var20,'\\n')\n",
        "\n",
        "print(var20 * 2,'\\n')  # multiplying each element with 2\n",
        "\n",
        "print(var20 + [1, 0, 1])  # adding each row with [1, 0, 1]]"
      ],
      "execution_count": 55,
      "outputs": [
        {
          "output_type": "stream",
          "name": "stdout",
          "text": [
            "[[1.2 2.3 4. ]\n",
            " [1.2 3.4 5.2]\n",
            " [0.  1.  1.3]\n",
            " [0.  1.  0.2]] \n",
            "\n",
            "[[ 2.4  4.6  8. ]\n",
            " [ 2.4  6.8 10.4]\n",
            " [ 0.   2.   2.6]\n",
            " [ 0.   2.   0.4]] \n",
            "\n",
            "[[2.2 2.3 5. ]\n",
            " [2.2 3.4 6.2]\n",
            " [1.  1.  2.3]\n",
            " [1.  1.  1.2]]\n"
          ]
        }
      ]
    },
    {
      "cell_type": "markdown",
      "metadata": {
        "id": "u-cBHSIZLX2I"
      },
      "source": [
        "**Exercise #06:**\n",
        "\n",
        "Normalizing values is an important area in any image processing and machine learning problem. In this exercise, we will try to apply normalization at different axis to understand the role of broadcasting."
      ]
    },
    {
      "cell_type": "code",
      "metadata": {
        "id": "T0nzFs-8WT3n",
        "colab": {
          "base_uri": "https://localhost:8080/"
        },
        "outputId": "28e4f16e-441b-4ceb-e494-a6e8896eb2cb"
      },
      "source": [
        "var21 = np.array([[1.2, 2.3, 4.0],\n",
        "                  [1.2, 3.4, 5.2],\n",
        "                  [0.0, 1.0, 1.3],\n",
        "                  [0.0, 1.0, 2e-1]])\n",
        "print('Original\\n',var21,'\\n' )\n",
        "\n",
        "# compute row wise mean\n",
        "var21_mean_row = var21.mean(1)   # code fill up\n",
        "print('Row Wise Mean\\n',var21_mean_row,'\\n')\n",
        "\n",
        "# compute column wise mean\n",
        "var21_mean_clm = var21.mean(0)  # code fill up\n",
        "print('Column Wise Mean\\n',var21_mean_clm,'\\n')\n",
        "\n",
        "# do row wise mean subtraction and column wise mean subtraction\n",
        "# solution¨\n",
        "var21_rwms=np.transpose(np.transpose(var21)-np.transpose(var21_mean_row) )\n",
        "print('Row Mean Substraction \\n',var21_rwms,'\\n')\n",
        "\n",
        "var21_cwms=var21-var21_mean_clm\n",
        "print('Column Mean Substraction \\n',var21_cwms,'\\n')\n",
        "# how do we normalize the entire array using the global mean?\n",
        "# solution\n",
        "\n",
        "\n"
      ],
      "execution_count": 77,
      "outputs": [
        {
          "output_type": "stream",
          "name": "stdout",
          "text": [
            "Original\n",
            " [[1.2 2.3 4. ]\n",
            " [1.2 3.4 5.2]\n",
            " [0.  1.  1.3]\n",
            " [0.  1.  0.2]] \n",
            "\n",
            "Row Wise Mean\n",
            " [2.5        3.26666667 0.76666667 0.4       ] \n",
            "\n",
            "Column Wise Mean\n",
            " [0.6   1.925 2.675] \n",
            "\n",
            "Row Mean Substraction \n",
            " [[-1.3        -0.2         1.5       ]\n",
            " [-2.06666667  0.13333333  1.93333333]\n",
            " [-0.76666667  0.23333333  0.53333333]\n",
            " [-0.4         0.6        -0.2       ]] \n",
            "\n",
            "Column Mean Substraction \n",
            " [[ 0.6    0.375  1.325]\n",
            " [ 0.6    1.475  2.525]\n",
            " [-0.6   -0.925 -1.375]\n",
            " [-0.6   -0.925 -2.475]] \n",
            "\n"
          ]
        }
      ]
    },
    {
      "cell_type": "markdown",
      "metadata": {
        "id": "d1H1A0uLW-34"
      },
      "source": [
        "\n",
        "\n",
        "*   Can you think of an example of row wise normalization and column wise normalization?\n",
        "\n"
      ]
    },
    {
      "cell_type": "markdown",
      "metadata": {
        "id": "9wjQ96aYXKf3"
      },
      "source": [
        "**Solution**\n",
        "\n",
        "- **Row wise normalization** can be used when you want to perform instance normalization, so between the values of a given instance of your dataset, this becomes useful for some techniques used in specific layers for convolutional networks known as normalization layers, a common type of normalization used is instance normalization, where this type of normalization can be applied.\n",
        "\n",
        "\n",
        "- **Column wise normalization** in the same way can be used to perform some standardization the input of a training data set for Neural Networks.\n"
      ]
    },
    {
      "cell_type": "markdown",
      "metadata": {
        "id": "DxBNbsYPYJ3Q"
      },
      "source": [
        "\n",
        "\n",
        "---\n",
        "\n",
        "\n",
        "**It has to be noted that this is not a complete tutorial covering the complete numpy aspects. This is provided as an introduction to numpy and its ease of use in numerical computation.**"
      ]
    }
  ]
}