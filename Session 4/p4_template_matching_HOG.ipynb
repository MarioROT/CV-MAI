{
  "cells": [
    {
      "cell_type": "markdown",
      "metadata": {
        "id": "view-in-github",
        "colab_type": "text"
      },
      "source": [
        "<a href=\"https://colab.research.google.com/github/MarioROT/CV-MAI/blob/main/Session4/p4_template_matching_HOG.ipynb\" target=\"_parent\"><img src=\"https://colab.research.google.com/assets/colab-badge.svg\" alt=\"Open In Colab\"/></a>"
      ]
    },
    {
      "cell_type": "markdown",
      "metadata": {
        "id": "Iwv2M0NNwTcy"
      },
      "source": [
        "# Laboratory #4 : Template Matching and HOG\n",
        "\n",
        "At the end of this laboratory, you would get familiarized with\n",
        "\n",
        "*   Normalized Correlation\n",
        "*   Histogram of Oriented Gaussian\n",
        "\n",
        "**Remember this is a graded exercise.**\n",
        "\n",
        "*   For every plot, make sure you provide appropriate titles, axis labels, legends, wherever applicable.\n",
        "*   Create reusable functions where ever possible, so that the code could be reused at different places.\n",
        "*   Mount your drive to access the images.\n",
        "*   Add sufficient comments and explanations wherever necessary.\n",
        "\n",
        "---"
      ]
    },
    {
      "cell_type": "code",
      "source": [
        "%%shell\n",
        "git clone https://github.com/mariorot/CV-MAI\n",
        "mv CV-MAI/scripts/custom_plots.py /content/\n",
        "mv CV-MAI/images/content/"
      ],
      "metadata": {
        "id": "qj4TFtDT_cS5",
        "outputId": "6304d72c-eb0e-41e7-ecfc-94043547ff2c",
        "colab": {
          "base_uri": "https://localhost:8080/"
        }
      },
      "execution_count": 1,
      "outputs": [
        {
          "output_type": "stream",
          "name": "stdout",
          "text": [
            "Cloning into 'CV-MAI'...\n",
            "remote: Enumerating objects: 179, done.\u001b[K\n",
            "remote: Counting objects: 100% (4/4), done.\u001b[K\n",
            "remote: Compressing objects: 100% (4/4), done.\u001b[K\n",
            "remote: Total 179 (delta 1), reused 0 (delta 0), pack-reused 175\u001b[K\n",
            "Receiving objects: 100% (179/179), 25.18 MiB | 19.50 MiB/s, done.\n",
            "Resolving deltas: 100% (65/65), done.\n"
          ]
        },
        {
          "output_type": "execute_result",
          "data": {
            "text/plain": []
          },
          "metadata": {},
          "execution_count": 1
        }
      ]
    },
    {
      "cell_type": "code",
      "execution_count": 2,
      "metadata": {
        "id": "R-6gx5OWFOPH"
      },
      "outputs": [],
      "source": [
        "# Loading necessary libraries (Feel free to add new libraries if you need for any computation)\n",
        "\n",
        "import numpy as np\n",
        "from matplotlib import pyplot as plt\n",
        "import os\n",
        "from skimage import color, data, exposure, feature, filters, io, transform\n",
        "\n",
        "# Importing a custom function just for plots\n",
        "import custom_plots as cp"
      ]
    },
    {
      "cell_type": "markdown",
      "metadata": {
        "id": "vXOSBTb5ICrc"
      },
      "source": [
        "## Template Matching"
      ]
    },
    {
      "cell_type": "markdown",
      "metadata": {
        "id": "Kk162m5u7mUD"
      },
      "source": [
        "### Exercise #1: Normalized correlation\n",
        "\n",
        "*   Load 'einstein.png' image and use 'template.png' to find the location of the template using normalized cross-correlation. *Hint:match_template function is available in the skimage.feature module.*\n",
        "*   Visualize the original image, template image and normalized cross-correlation image using matplotlib."
      ]
    },
    {
      "cell_type": "code",
      "execution_count": null,
      "metadata": {
        "id": "m8m_Av2S05oQ"
      },
      "outputs": [],
      "source": [
        "# solution\n",
        "einstein=io.imread('einstein.png')\n",
        "template=io.imread('template.png')\n",
        "normailized= feature.match_template(einstein,template)\n",
        "custom_grids([einstein,template,normalized],1,3,['Original','Template','Normalized'],axis='off').show()\n"
      ]
    },
    {
      "cell_type": "markdown",
      "source": [],
      "metadata": {
        "id": "ioTtV7TGAvwU"
      }
    },
    {
      "cell_type": "markdown",
      "metadata": {
        "id": "GEv5fk849E0D"
      },
      "source": [
        "*   What is the output of the normalized cross-correlation function?"
      ]
    },
    {
      "cell_type": "markdown",
      "metadata": {
        "id": "TSbEZAUy9RYS"
      },
      "source": [
        "**Solution**\n",
        "\n",
        "*(Double-click or enter to edit)*\n",
        "\n",
        "..."
      ]
    },
    {
      "cell_type": "markdown",
      "metadata": {
        "id": "kmZAbtoO8yO3"
      },
      "source": [
        "The output of match_template function gives the response image with correlation coefficients. Let us visualize the exact location of the match:\n",
        "*   Create a function to take the normalized cross-correlation image as input and return a bw image\n",
        "    *   The function should convert the normalized cross-correlation image to a thresholded image."
      ]
    },
    {
      "cell_type": "code",
      "execution_count": null,
      "metadata": {
        "id": "2MVctGA1-eht"
      },
      "outputs": [],
      "source": [
        "# solution\n",
        "\n"
      ]
    },
    {
      "cell_type": "markdown",
      "metadata": {
        "id": "4ryhUP9nB6gU"
      },
      "source": [
        "*   Visualize the thresholded image on top of the original image. Show the exact location of the match in red color.\n",
        "*   *Hint: learn about alpha channels and listed colormaps in matplotlib*"
      ]
    },
    {
      "cell_type": "code",
      "execution_count": null,
      "metadata": {
        "id": "ev7awT7poePf"
      },
      "outputs": [],
      "source": [
        "# solution\n",
        "\n"
      ]
    },
    {
      "cell_type": "markdown",
      "metadata": {
        "id": "RzzDL4oO-fM_"
      },
      "source": [
        "### Exercise #2: Effect of contrast\n",
        "\n",
        "*   Load 'einstein_br.png'\n",
        "*   Perform template matching with the 'template.png' image\n",
        "*   Visualize the original image, template image, normalized cross-correlation image and the thresholded image using matplotlib."
      ]
    },
    {
      "cell_type": "code",
      "execution_count": null,
      "metadata": {
        "id": "0ZXV76SdF2DG"
      },
      "outputs": [],
      "source": [
        "# solution\n",
        "\n"
      ]
    },
    {
      "cell_type": "markdown",
      "metadata": {
        "id": "p_9CDxJiF3h-"
      },
      "source": [
        "*   Repeat the above experiment with 'einstein_mask.png' image and visualize the results."
      ]
    },
    {
      "cell_type": "code",
      "execution_count": null,
      "metadata": {
        "id": "UgHX1ueeGAsZ"
      },
      "outputs": [],
      "source": [
        "# solution\n",
        "\n"
      ]
    },
    {
      "cell_type": "markdown",
      "metadata": {
        "id": "hRhrDdtvIVmP"
      },
      "source": [
        "*   Do you find any differences in results with respect to contrast changes?\n",
        "*   Explain your inferences."
      ]
    },
    {
      "cell_type": "markdown",
      "metadata": {
        "id": "Ret9l0NHimS1"
      },
      "source": [
        "**Solution**\n",
        "\n",
        "*(Double-click or enter to edit)*\n",
        "\n",
        "..."
      ]
    },
    {
      "cell_type": "markdown",
      "metadata": {
        "id": "Hw1pjjKnLXRm"
      },
      "source": [
        "*   What happens if you change the contrast of the template image?\n",
        "*   Use 'template_br.png' instead of 'template.png' and repeat the experiment with 'einstein.png'\n",
        "*   Visualize the results."
      ]
    },
    {
      "cell_type": "code",
      "execution_count": null,
      "metadata": {
        "id": "nE281b3fLYFf"
      },
      "outputs": [],
      "source": [
        "# solution\n",
        "\n"
      ]
    },
    {
      "cell_type": "markdown",
      "metadata": {
        "id": "N-8ipYgD_HQb"
      },
      "source": [
        "**Solution**\n",
        "\n",
        "*(Double-click or enter to edit)*\n",
        "\n",
        "..."
      ]
    },
    {
      "cell_type": "markdown",
      "metadata": {
        "id": "KxQfMju3_82x"
      },
      "source": [
        "**Exercise #3: Effect of rotation**\n",
        "\n",
        "*   Load 'einstein.png' image and 'template.png' image.\n",
        "*   Rotate the template by 10&deg;, 15&deg;, 20&deg; and perform template matching.\n",
        "*   Visualize the original image, template image and the thresholded normalized cross-correlation image for all the different templates.\n",
        "*   *Hint: rotate function is available in skimage.transform module*"
      ]
    },
    {
      "cell_type": "code",
      "execution_count": null,
      "metadata": {
        "id": "iJ0ghNe8D8Ai"
      },
      "outputs": [],
      "source": [
        "# solution\n",
        "\n"
      ]
    },
    {
      "cell_type": "markdown",
      "metadata": {
        "id": "gLvODyaZD837"
      },
      "source": [
        "*   What do you infer with respect to rotation?"
      ]
    },
    {
      "cell_type": "markdown",
      "metadata": {
        "id": "rjpEdpISMJrF"
      },
      "source": [
        "**Solution**\n",
        "\n",
        "*(Double-click or enter to edit)*\n",
        "\n",
        "..."
      ]
    },
    {
      "cell_type": "markdown",
      "metadata": {
        "id": "KXj5uNrl5n9j"
      },
      "source": [
        "## Histogram of Oriented Gaussians"
      ]
    },
    {
      "cell_type": "markdown",
      "metadata": {
        "id": "th0tewzRJ2KM"
      },
      "source": [
        "### Exercise #1: HOG Image Visualization\n",
        "\n",
        "*   Load 'astronaut' image from the data module.\n",
        "*   Apply hog over the image with default parameters. *Hint: hog function is available in skimage.feature module.*\n",
        "*   Visualize the original image and the hog_image using matplotlib\n"
      ]
    },
    {
      "cell_type": "code",
      "execution_count": null,
      "metadata": {
        "id": "hUxNW4UjQsVh"
      },
      "outputs": [],
      "source": [
        "# solution\n",
        "\n"
      ]
    },
    {
      "cell_type": "markdown",
      "metadata": {
        "id": "hEGE7Uby2aBq"
      },
      "source": [
        "*   Explain the algorithm behind HOG\n",
        "\n"
      ]
    },
    {
      "cell_type": "markdown",
      "metadata": {
        "id": "tFDhqyDA2ir7"
      },
      "source": [
        "**Solution**\n",
        "\n",
        "*(Double-click or enter to edit)*\n",
        "\n",
        "..."
      ]
    },
    {
      "cell_type": "markdown",
      "metadata": {
        "id": "shAgs9Wq3Eli"
      },
      "source": [
        "*   Is it necessary to do image pre-processing to normalize the color and gamma values before applying HoG?"
      ]
    },
    {
      "cell_type": "markdown",
      "metadata": {
        "id": "KbRROV253NUp"
      },
      "source": [
        "**Solution**\n",
        "\n",
        "*(Double-click or enter to edit)*\n",
        "\n",
        "..."
      ]
    },
    {
      "cell_type": "markdown",
      "metadata": {
        "id": "t1xt97MCQs8X"
      },
      "source": [
        "*   What do you infer from the parameters\n",
        "    *   orientation\n",
        "    *   pixels_per_cell\n"
      ]
    },
    {
      "cell_type": "markdown",
      "metadata": {
        "id": "XvFOvIuOMMUM"
      },
      "source": [
        "**Solution**\n",
        "\n",
        "*(Double-click or enter to edit)*\n",
        "\n",
        "..."
      ]
    },
    {
      "cell_type": "markdown",
      "metadata": {
        "id": "ahj8k0IJQwie"
      },
      "source": [
        "*   Change the value of orientation (try atleast 3 different values) and compare the hog_image using matplotlib subplot."
      ]
    },
    {
      "cell_type": "code",
      "execution_count": null,
      "metadata": {
        "id": "TZeLGnfDQv28"
      },
      "outputs": [],
      "source": [
        "# solution\n",
        "\n"
      ]
    },
    {
      "cell_type": "markdown",
      "metadata": {
        "id": "io8Qec8s3_8T"
      },
      "source": [
        "*   What is the role of block normalization in HoG?\n",
        "*   What are the different methods available in block normalization fo skimage?"
      ]
    },
    {
      "cell_type": "markdown",
      "metadata": {
        "id": "rdD4U46F4U86"
      },
      "source": [
        "**Solution**\n",
        "\n",
        "*(Double-click or enter to edit)*\n",
        "\n",
        "..."
      ]
    },
    {
      "cell_type": "markdown",
      "metadata": {
        "id": "lOL6O3YqhJb8"
      },
      "source": [
        "*   The hog function in skimage returns feature descriptors and hog image. Explain each dimension of the feature descriptor output"
      ]
    },
    {
      "cell_type": "markdown",
      "metadata": {
        "id": "nVsEh0flMPJE"
      },
      "source": [
        "**Solution**\n",
        "\n",
        "*(Double-click or enter to edit)*\n",
        "\n",
        "..."
      ]
    },
    {
      "cell_type": "markdown",
      "metadata": {
        "id": "7f3HKLpBRoWT"
      },
      "source": [
        "### Exercise #2: Pedestrian detection\n",
        "\n",
        "*   Read the template ('person_template.png') and obtain its HOG descriptor (try different values for the parameters and get the optimal value)\n",
        "*   Visualize the original image and the hog_image using matplotlib.\n",
        "*   Show different parameter selection steps also using matplotlib.\n",
        "*   How did you select the optimal value?"
      ]
    },
    {
      "cell_type": "code",
      "execution_count": null,
      "metadata": {
        "id": "ZWjug-NAj_Ja"
      },
      "outputs": [],
      "source": [
        "# solution\n",
        "\n"
      ]
    },
    {
      "cell_type": "markdown",
      "metadata": {
        "id": "3osupL3ac-6Z"
      },
      "source": [
        "\n",
        "*   Read the folder 'pedestrians' from the images folder.\n",
        "*   For each image, apply sliding window, to get the hog descriptors (Use a step size of 5 pixels for the sliding window)\n",
        "*   Use euclidean distance and dot product to compare the descriptors\n",
        "*   Visualize the location of the image that is most similar to the person_template using both the metrics in a matplotlib subplot*\n"
      ]
    },
    {
      "cell_type": "code",
      "execution_count": null,
      "metadata": {
        "id": "rqnNMCmOekso"
      },
      "outputs": [],
      "source": [
        "# solution\n",
        "\n"
      ]
    },
    {
      "cell_type": "markdown",
      "metadata": {
        "id": "ilH1WNA0elY4"
      },
      "source": [
        "*   Count the failures and discuss the possible reason for failure for each image."
      ]
    },
    {
      "cell_type": "markdown",
      "metadata": {
        "id": "o6ilccSYMSTd"
      },
      "source": [
        "**Solution**\n",
        "\n",
        "*(Double-click or enter to edit)*\n",
        "\n",
        "..."
      ]
    },
    {
      "cell_type": "markdown",
      "metadata": {
        "id": "0V94CATqfmkL"
      },
      "source": [
        "*   What is the failure rate for dot product and what is the failure rate for euclidean distance?"
      ]
    },
    {
      "cell_type": "markdown",
      "metadata": {
        "id": "ntmCv-WXMVKn"
      },
      "source": [
        "**Solution**\n",
        "\n",
        "*(Double-click or enter to edit)*\n",
        "\n",
        "..."
      ]
    },
    {
      "cell_type": "markdown",
      "metadata": {
        "id": "_bjELHypy6Z-"
      },
      "source": [
        "*   What is the difference between using dot product and euclidean distance?"
      ]
    },
    {
      "cell_type": "markdown",
      "metadata": {
        "id": "GLptEz2Ny8Ml"
      },
      "source": [
        "**Solution**\n",
        "\n",
        "*(Double-click or enter to edit)*\n",
        "\n",
        "..."
      ]
    },
    {
      "cell_type": "markdown",
      "metadata": {
        "id": "tW-pJ9TcbO87"
      },
      "source": [
        "*   Compare template matching and HOG.\n",
        "*   What are the advantages of HOG over template matching algorithm."
      ]
    },
    {
      "cell_type": "markdown",
      "metadata": {
        "id": "kTInjXcpMUIj"
      },
      "source": [
        "**Solution**\n",
        "\n",
        "*(Double-click or enter to edit)*\n",
        "\n",
        "..."
      ]
    },
    {
      "cell_type": "markdown",
      "metadata": {
        "id": "gqRUGL7KNEK5"
      },
      "source": [
        "\n",
        "---\n",
        "\n",
        "## **End of L2_1: Template Matching and HOG**\n",
        "Deadline for L2_1 submission in CampusVirtual is: **6th of November, 2023**\n"
      ]
    }
  ],
  "metadata": {
    "colab": {
      "provenance": [],
      "include_colab_link": true
    },
    "kernelspec": {
      "display_name": "Python 3 (ipykernel)",
      "language": "python",
      "name": "python3"
    },
    "language_info": {
      "codemirror_mode": {
        "name": "ipython",
        "version": 3
      },
      "file_extension": ".py",
      "mimetype": "text/x-python",
      "name": "python",
      "nbconvert_exporter": "python",
      "pygments_lexer": "ipython3",
      "version": "3.10.12"
    }
  },
  "nbformat": 4,
  "nbformat_minor": 0
}