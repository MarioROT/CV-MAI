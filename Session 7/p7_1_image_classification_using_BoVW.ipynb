{
 "cells": [
  {
   "cell_type": "markdown",
   "metadata": {
    "id": "Sk0eYw8ojrFq"
   },
   "source": [
    "# Laboratory #3_2 : Image Classification using Bag of Visual Words\n",
    "\n",
    "At the end of this laboratory, you would get familiarized with\n",
    "\n",
    "*   Creating Bag of Visual Words\n",
    "    *   Feature Extraction\n",
    "    *   Codebook construction\n",
    "    *   Classification\n",
    "\n",
    "**Remember this is a graded exercise.**\n",
    "\n",
    "*   For every plot, make sure you provide appropriate titles, axis labels, legends, wherever applicable.\n",
    "*   Create reusable functions where ever possible, so that the code could be reused at different places.\n",
    "*   Mount your drive to access the images.\n",
    "*   Add sufficient comments and explanations wherever necessary.\n",
    "\n",
    "---"
   ]
  },
  {
   "cell_type": "code",
   "execution_count": null,
   "metadata": {
    "id": "sYHw1lSBldl-"
   },
   "outputs": [],
   "source": [
    "from google.colab import drive\n",
    "drive.mount('/content/drive')"
   ]
  },
  {
   "cell_type": "code",
   "execution_count": null,
   "metadata": {
    "id": "aD5-E8PuaQ5P"
   },
   "outputs": [],
   "source": [
    "# Loading necessary libraries (Feel free to add new libraries if you need for any computation)\n",
    "\n",
    "import os\n",
    "import numpy as np\n",
    "\n",
    "from skimage.feature import ORB\n",
    "from skimage.color import rgb2gray\n",
    "from skimage.io import imread\n",
    "from scipy.cluster.vq import vq\n",
    "\n",
    "from matplotlib import pyplot as plt"
   ]
  },
  {
   "cell_type": "markdown",
   "metadata": {
    "id": "ampx9DIJiuGN"
   },
   "source": [
    "## Loading dataset\n",
    "\n",
    "We will use 3 categories from Caltech 101 objects dataset for this experiment. Upload the dataset to the drive and mount it."
   ]
  },
  {
   "cell_type": "code",
   "execution_count": null,
   "metadata": {
    "id": "PRSJP1XbG6-a"
   },
   "outputs": [],
   "source": [
    "# modify the dataset variable with the path from your drive\n",
    "\n",
    "dataset_path = r''"
   ]
  },
  {
   "cell_type": "code",
   "execution_count": null,
   "metadata": {
    "id": "fNoe7u755X6Q"
   },
   "outputs": [],
   "source": [
    "categories = ['butterfly', 'kangaroo', 'dalmatian']\n",
    "ncl = len(categories) * 10"
   ]
  },
  {
   "cell_type": "markdown",
   "metadata": {
    "id": "gxY0mDoK5EQj"
   },
   "source": [
    "*   Create a list of file and the corresponding labels"
   ]
  },
  {
   "cell_type": "code",
   "execution_count": null,
   "metadata": {
    "id": "EQptvDX5AFem"
   },
   "outputs": [],
   "source": [
    "# solution\n",
    "\n"
   ]
  },
  {
   "cell_type": "code",
   "execution_count": null,
   "metadata": {
    "id": "3x42veHz5LDt"
   },
   "outputs": [],
   "source": [
    "print('Total number of images:', len(data))"
   ]
  },
  {
   "cell_type": "markdown",
   "metadata": {
    "id": "XgVhdjYz5Zhs"
   },
   "source": [
    "*   Create a train / test split where the test is 10% of the total data"
   ]
  },
  {
   "cell_type": "code",
   "execution_count": null,
   "metadata": {
    "id": "QzYnjzXBZXXt"
   },
   "outputs": [],
   "source": [
    "# solution\n",
    "\n"
   ]
  },
  {
   "cell_type": "code",
   "execution_count": null,
   "metadata": {
    "id": "gd057lAc5jze"
   },
   "outputs": [],
   "source": [
    "print('Train set:', len(x_train))\n",
    "print('Test set:', len(x_test))"
   ]
  },
  {
   "cell_type": "markdown",
   "metadata": {
    "id": "_Hl36Ej_5k6Y"
   },
   "source": [
    "*   How do you select the train/test split?"
   ]
  },
  {
   "cell_type": "markdown",
   "metadata": {
    "id": "-aOe27Kx5vtd"
   },
   "source": [
    "**Solution**\n",
    "\n",
    "*(Double-click or enter to edit)*\n",
    "\n",
    "..."
   ]
  },
  {
   "cell_type": "markdown",
   "metadata": {
    "id": "18OZf2kfkVNB"
   },
   "source": [
    "## Feature Extraction using ORB\n",
    "\n",
    "The first step is to extract descriptors for each image in our dataset. We will use ORB to extract descriptors.\n",
    "\n",
    "*   Create ORB detector with 64 keypoints.\n"
   ]
  },
  {
   "cell_type": "code",
   "execution_count": null,
   "metadata": {
    "id": "ptLbPcoow-ar"
   },
   "outputs": [],
   "source": [
    "# solution\n",
    "\n"
   ]
  },
  {
   "cell_type": "markdown",
   "metadata": {
    "id": "3yinPkL8brow"
   },
   "source": [
    "*   Extract ORB descriptors from all the images in the train set.\n"
   ]
  },
  {
   "cell_type": "code",
   "execution_count": null,
   "metadata": {
    "id": "PCiXJeLFxGtP"
   },
   "outputs": [],
   "source": [
    "# solution\n",
    "\n"
   ]
  },
  {
   "cell_type": "markdown",
   "metadata": {
    "id": "GJehFdyt583b"
   },
   "source": [
    "*   What is the size of the feature descriptors? What does each dimension represent in the feature descriptors?"
   ]
  },
  {
   "cell_type": "code",
   "execution_count": null,
   "metadata": {
    "id": "bzTspvF96LeC"
   },
   "outputs": [],
   "source": [
    "# solution\n",
    "\n"
   ]
  },
  {
   "cell_type": "markdown",
   "metadata": {
    "id": "MNFOjsRj6PGk"
   },
   "source": [
    "**Solution**\n",
    "\n",
    "*(Double-click or enter to edit)*\n",
    "\n",
    "..."
   ]
  },
  {
   "cell_type": "markdown",
   "metadata": {
    "id": "420YQkAzleTQ"
   },
   "source": [
    "## Codebook Construction\n",
    "\n",
    "Codewords are nothing but vector representation of similar patches. This codeword produces a codebook similar to a word dictionary. We will create the codebook using K-Means algorithm\n",
    "\n",
    "*   Create a codebook using K-Means with k=number_of_classes*10\n",
    "*   Hint: Use sklearn.cluster.MiniBatchKMeans for K-Means"
   ]
  },
  {
   "cell_type": "code",
   "execution_count": null,
   "metadata": {
    "id": "iO0e4718ppJt"
   },
   "outputs": [],
   "source": [
    "# solution\n",
    "\n"
   ]
  },
  {
   "cell_type": "markdown",
   "metadata": {
    "id": "0GAD_JuNpqMt"
   },
   "source": [
    "*   Create a histogram using the cluster centers for each image descriptor.\n",
    "    *   Remember the histogram would be of size *n_images x n_clusters*."
   ]
  },
  {
   "cell_type": "code",
   "execution_count": null,
   "metadata": {
    "id": "SR0_9HnbDFBe"
   },
   "outputs": [],
   "source": [
    "# solution\n",
    "\n"
   ]
  },
  {
   "cell_type": "markdown",
   "metadata": {
    "id": "jmRO7dfLjgZa"
   },
   "source": [
    "\n",
    "# Creating Classification Model\n",
    "\n",
    "*   The next step is to create a classification model. We will use a C-Support Vector Classification for creating the model.\n",
    "\n"
   ]
  },
  {
   "cell_type": "code",
   "execution_count": null,
   "metadata": {
    "id": "K7VTBz1Oimtz"
   },
   "outputs": [],
   "source": [
    "from sklearn.svm import SVC\n",
    "from sklearn.model_selection import GridSearchCV"
   ]
  },
  {
   "cell_type": "markdown",
   "metadata": {
    "id": "lrit95Ud6pUU"
   },
   "source": [
    "*   Use GridSearchCV to find the optimal value of C and Gamma."
   ]
  },
  {
   "cell_type": "code",
   "execution_count": null,
   "metadata": {
    "id": "IjFFpykV-GOI"
   },
   "outputs": [],
   "source": [
    "# solution\n",
    "\n"
   ]
  },
  {
   "cell_type": "markdown",
   "metadata": {
    "id": "eqThTmO5j1-p"
   },
   "source": [
    "# Testing the Classification Model\n",
    "\n",
    "*   Extract descriptors using ORB for the test split\n",
    "*   Use the previously trained k-means to generate the histogram\n",
    "*   Use the classifier to predict the label\n"
   ]
  },
  {
   "cell_type": "code",
   "execution_count": null,
   "metadata": {
    "id": "x2Gzbww9e0pP"
   },
   "outputs": [],
   "source": [
    "# solution\n",
    "\n"
   ]
  },
  {
   "cell_type": "markdown",
   "metadata": {
    "id": "gGyQUtU3lAEz"
   },
   "source": [
    "*   Calculate the accuracy score for the classification model"
   ]
  },
  {
   "cell_type": "code",
   "execution_count": null,
   "metadata": {
    "id": "PszxSB0Ek_Lt"
   },
   "outputs": [],
   "source": [
    "# solution\n",
    "\n"
   ]
  },
  {
   "cell_type": "markdown",
   "metadata": {
    "id": "drlq-5AM615_"
   },
   "source": [
    "*   Generate the confusion matrix for the classification model"
   ]
  },
  {
   "cell_type": "code",
   "execution_count": null,
   "metadata": {
    "id": "NpqXVYrw61OG"
   },
   "outputs": [],
   "source": [
    "# solution\n",
    "\n"
   ]
  },
  {
   "cell_type": "markdown",
   "metadata": {
    "id": "7TN4rRra9yv_"
   },
   "source": [
    "*   Why do we use Clustering to create the codebook? \n",
    "*   What are the other techniques that can be used to create the codebook?"
   ]
  },
  {
   "cell_type": "markdown",
   "metadata": {
    "id": "Ri9kU3wa3Rei"
   },
   "source": [
    "**Solution**\n",
    "\n",
    "*(Double-click or enter to edit)*\n",
    "\n",
    "..."
   ]
  },
  {
   "cell_type": "markdown",
   "metadata": {
    "id": "b47OqebCOXpq"
   },
   "source": [
    "# Increased Feature Dimensions\n",
    "\n",
    "*   Repeat the classification using features of 256 ORB keypoints."
   ]
  },
  {
   "cell_type": "code",
   "execution_count": null,
   "metadata": {
    "id": "CiY8GERXOxbB"
   },
   "outputs": [],
   "source": [
    "# solution\n",
    "\n"
   ]
  },
  {
   "cell_type": "markdown",
   "metadata": {
    "id": "Ucf5mIeHOzBf"
   },
   "source": [
    "*   What is the difference in classifier performance between using 64 keypoints and 256 keypoints?"
   ]
  },
  {
   "cell_type": "markdown",
   "metadata": {
    "id": "AJt7kpHcO5nV"
   },
   "source": [
    "**Solution**\n",
    "\n",
    "*(Double-click or enter to edit)*\n",
    "\n",
    "..."
   ]
  },
  {
   "cell_type": "markdown",
   "metadata": {
    "id": "ll0j8G-oIaHd"
   },
   "source": [
    "*   Will further adding more keypoints increase the performance of the algorithm?"
   ]
  },
  {
   "cell_type": "markdown",
   "metadata": {
    "id": "ka3z1sJVInS5"
   },
   "source": [
    "**Solution**\n",
    "\n",
    "*(Double-click or enter to edit)*\n",
    "\n",
    "..."
   ]
  }
 ],
 "metadata": {
  "colab": {
   "collapsed_sections": [],
   "provenance": [],
   "toc_visible": true
  },
  "kernelspec": {
   "display_name": "Python 3 (ipykernel)",
   "language": "python",
   "name": "python3"
  },
  "language_info": {
   "codemirror_mode": {
    "name": "ipython",
    "version": 3
   },
   "file_extension": ".py",
   "mimetype": "text/x-python",
   "name": "python",
   "nbconvert_exporter": "python",
   "pygments_lexer": "ipython3",
   "version": "3.10.12"
  }
 },
 "nbformat": 4,
 "nbformat_minor": 4
}
