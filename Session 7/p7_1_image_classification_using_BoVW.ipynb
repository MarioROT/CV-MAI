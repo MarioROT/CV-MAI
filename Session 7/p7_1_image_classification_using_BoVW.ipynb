{
  "cells": [
    {
      "cell_type": "markdown",
      "metadata": {
        "id": "view-in-github",
        "colab_type": "text"
      },
      "source": [
        "<a href=\"https://colab.research.google.com/github/MarioROT/CV-MAI/blob/main/Session%207/p7_1_image_classification_using_BoVW.ipynb\" target=\"_parent\"><img src=\"https://colab.research.google.com/assets/colab-badge.svg\" alt=\"Open In Colab\"/></a>"
      ]
    },
    {
      "cell_type": "markdown",
      "metadata": {
        "id": "Sk0eYw8ojrFq"
      },
      "source": [
        "# Laboratory #3_2 : Image Classification using Bag of Visual Words\n",
        "\n",
        "At the end of this laboratory, you would get familiarized with\n",
        "\n",
        "*   Creating Bag of Visual Words\n",
        "    *   Feature Extraction\n",
        "    *   Codebook construction\n",
        "    *   Classification\n",
        "\n",
        "**Remember this is a graded exercise.**\n",
        "\n",
        "*   For every plot, make sure you provide appropriate titles, axis labels, legends, wherever applicable.\n",
        "*   Create reusable functions where ever possible, so that the code could be reused at different places.\n",
        "*   Mount your drive to access the images.\n",
        "*   Add sufficient comments and explanations wherever necessary.\n",
        "\n",
        "---"
      ]
    },
    {
      "cell_type": "code",
      "execution_count": 1,
      "metadata": {
        "id": "sYHw1lSBldl-",
        "colab": {
          "base_uri": "https://localhost:8080/"
        },
        "outputId": "73a989bb-a328-48af-b1a7-6a526f322b01"
      },
      "outputs": [
        {
          "output_type": "stream",
          "name": "stdout",
          "text": [
            "Cloning into 'CV-MAI'...\n",
            "remote: Enumerating objects: 21117, done.\u001b[K\n",
            "remote: Counting objects: 100% (45/45), done.\u001b[K\n",
            "remote: Compressing objects: 100% (38/38), done.\u001b[K\n",
            "remote: Total 21117 (delta 22), reused 16 (delta 7), pack-reused 21072\u001b[K\n",
            "Receiving objects: 100% (21117/21117), 171.92 MiB | 30.91 MiB/s, done.\n",
            "Resolving deltas: 100% (121/121), done.\n",
            "Updating files: 100% (21037/21037), done.\n"
          ]
        },
        {
          "output_type": "execute_result",
          "data": {
            "text/plain": []
          },
          "metadata": {},
          "execution_count": 1
        }
      ],
      "source": [
        "%%shell\n",
        "git clone https://github.com/mariorot/CV-MAI\n",
        "mv CV-MAI/scripts/* /content/\n",
        "mv 'CV-MAI/Session 7/101_ObjectCategories/'* /content/\n",
        "mv 'CV-MAI/Session 7/Caltech_101_subset/' /content/"
      ]
    },
    {
      "cell_type": "code",
      "source": [
        "%load_ext autoreload\n",
        "%autoreload 2"
      ],
      "metadata": {
        "id": "I1F1BjB_Nxt6",
        "outputId": "55262d81-a422-4d3f-aef2-dacb29dfada5",
        "colab": {
          "base_uri": "https://localhost:8080/"
        }
      },
      "execution_count": 210,
      "outputs": [
        {
          "output_type": "stream",
          "name": "stdout",
          "text": [
            "The autoreload extension is already loaded. To reload it, use:\n",
            "  %reload_ext autoreload\n"
          ]
        }
      ]
    },
    {
      "cell_type": "code",
      "execution_count": 211,
      "metadata": {
        "id": "aD5-E8PuaQ5P"
      },
      "outputs": [],
      "source": [
        "# Loading necessary libraries (Feel free to add new libraries if you need for any computation)\n",
        "\n",
        "import os\n",
        "import numpy as np\n",
        "from skimage.feature import ORB\n",
        "from skimage import exposure\n",
        "from skimage import feature\n",
        "from skimage.color import rgb2gray\n",
        "from skimage.io import imread\n",
        "from scipy.cluster.vq import vq\n",
        "from matplotlib import pyplot as plt\n",
        "from skimage import io\n",
        "from collections import defaultdict\n",
        "from sklearn.cluster import MiniBatchKMeans\n",
        "\n",
        "import custom_plots as cp"
      ]
    },
    {
      "cell_type": "markdown",
      "metadata": {
        "id": "ampx9DIJiuGN"
      },
      "source": [
        "## Loading dataset\n",
        "\n",
        "We will use 3 categories from Caltech 101 objects dataset for this experiment. Upload the dataset to the drive and mount it."
      ]
    },
    {
      "cell_type": "code",
      "execution_count": 212,
      "metadata": {
        "id": "PRSJP1XbG6-a"
      },
      "outputs": [],
      "source": [
        "# modify the dataset variable with the path from your drive\n",
        "\n",
        "#We define an empty dictionary an the root folder of the 3 categories\n",
        "images = []\n",
        "root_folder = '/content/Caltech_101_subset'"
      ]
    },
    {
      "cell_type": "code",
      "execution_count": 213,
      "metadata": {
        "id": "fNoe7u755X6Q"
      },
      "outputs": [],
      "source": [
        "categories = ['butterfly', 'kangaroo', 'dalmatian']"
      ]
    },
    {
      "cell_type": "markdown",
      "metadata": {
        "id": "gxY0mDoK5EQj"
      },
      "source": [
        "*   Create a list of file and the corresponding labels"
      ]
    },
    {
      "cell_type": "code",
      "execution_count": 214,
      "metadata": {
        "id": "EQptvDX5AFem"
      },
      "outputs": [],
      "source": [
        "# solution\n",
        "\n",
        "#We charged the images to the dictionary with the proper label and id\n",
        "for folder_name in os.listdir(root_folder):\n",
        "  folder_path = os.path.join(root_folder, folder_name)\n",
        "  for filename in os.listdir(folder_path):\n",
        "      label = folder_name\n",
        "      image_path = os.path.join(folder_path, filename)\n",
        "      images.append( (image_path,label))"
      ]
    },
    {
      "cell_type": "code",
      "execution_count": 215,
      "metadata": {
        "id": "3x42veHz5LDt",
        "colab": {
          "base_uri": "https://localhost:8080/"
        },
        "outputId": "21edab64-9d72-4dde-9ac0-265b140f33ef"
      },
      "outputs": [
        {
          "output_type": "stream",
          "name": "stdout",
          "text": [
            "Total number of images: 244\n"
          ]
        }
      ],
      "source": [
        "print('Total number of images:', len(images))"
      ]
    },
    {
      "cell_type": "markdown",
      "metadata": {
        "id": "XgVhdjYz5Zhs"
      },
      "source": [
        "*   Create a train / test split where the test is 10% of the total data"
      ]
    },
    {
      "cell_type": "code",
      "execution_count": 257,
      "metadata": {
        "id": "QzYnjzXBZXXt",
        "colab": {
          "base_uri": "https://localhost:8080/"
        },
        "outputId": "6386ecf9-8398-4608-dbbe-25a59a6467ab"
      },
      "outputs": [
        {
          "output_type": "stream",
          "name": "stdout",
          "text": [
            "Train set: 219\n",
            "Test set: 25\n"
          ]
        }
      ],
      "source": [
        "# solution\n",
        "from sklearn.model_selection import train_test_split\n",
        "\n",
        "im_array = np.array(images)\n",
        "img,labels=im_array[:,0],im_array[:,1]\n",
        "\n",
        "x_train, x_test, y_train, y_test = train_test_split(img, labels, test_size=0.1, random_state=5,shuffle=True)\n",
        "\n",
        "print('Train set:', len(x_train))\n",
        "print('Test set:', len(x_test))\n"
      ]
    },
    {
      "cell_type": "markdown",
      "metadata": {
        "id": "_Hl36Ej_5k6Y"
      },
      "source": [
        "*   How do you select the train/test split?"
      ]
    },
    {
      "cell_type": "markdown",
      "metadata": {
        "id": "-aOe27Kx5vtd"
      },
      "source": [
        "**Solution**\n",
        "\n",
        "In this case, since the split of the classes was somehow homogeneous  (91 images of butterfly - 37% , 67 images of dalmatian - 28% and 86 images of kangaroos - 35%)  and the test data was only 10% of the total data set, we decided to do it in a random way.\n",
        "\n",
        "However, this may not be possible in 2 scenarios:\n",
        "\n",
        "- The distribution of the actual images was not homogeneous. For example having only 10% of an specific class. Because this way, there is a chance that we do not take enough images of the small class for the training set.\n",
        "\n",
        "- The total training set was small enough to contain only images of the same class.\n",
        "\n",
        "Since neither of these scenarios were happening we decided to do it randomly.\n",
        "\n"
      ]
    },
    {
      "cell_type": "markdown",
      "metadata": {
        "id": "18OZf2kfkVNB"
      },
      "source": [
        "## Feature Extraction using ORB\n",
        "\n",
        "The first step is to extract descriptors for each image in our dataset. We will use ORB to extract descriptors.\n",
        "\n",
        "*   Create ORB detector with 64 keypoints.\n"
      ]
    },
    {
      "cell_type": "code",
      "execution_count": 217,
      "metadata": {
        "id": "ptLbPcoow-ar"
      },
      "outputs": [],
      "source": [
        "# solution\n",
        "def get_ORB(img1,n):\n",
        "  descriptor_extractor = feature.ORB(n_keypoints=n)\n",
        "  descriptor_extractor.detect_and_extract(img1)\n",
        "  keypoints= descriptor_extractor.keypoints\n",
        "  descriptors= descriptor_extractor.descriptors\n",
        "\n",
        "  return descriptors"
      ]
    },
    {
      "cell_type": "markdown",
      "metadata": {
        "id": "3yinPkL8brow"
      },
      "source": [
        "*   Extract ORB descriptors from all the images in the train set.\n"
      ]
    },
    {
      "cell_type": "code",
      "source": [
        "def load_img (paths):\n",
        "  images=[]\n",
        "  for image in paths:\n",
        "    read=io.imread(image)\n",
        "    if len(read.shape)==3:\n",
        "      if read.shape[2]==3:\n",
        "        images.append(rgb2gray(read))\n",
        "    else:\n",
        "      images.append(read)\n",
        "  return images"
      ],
      "metadata": {
        "id": "zfsVeizfRCmJ"
      },
      "execution_count": 218,
      "outputs": []
    },
    {
      "cell_type": "code",
      "source": [
        "train_img=load_img(x_train)\n",
        "test_img=load_img(x_test)"
      ],
      "metadata": {
        "id": "-NWqIRcRRoyy"
      },
      "execution_count": 219,
      "outputs": []
    },
    {
      "cell_type": "code",
      "source": [
        "from  utils import  get_multi_ORB\n",
        "\n",
        "_ , all_descriptors=get_multi_ORB(feature.ORB(n_keypoints=64),train_img)"
      ],
      "metadata": {
        "id": "LbawVpCKOe5_"
      },
      "execution_count": 221,
      "outputs": []
    },
    {
      "cell_type": "markdown",
      "metadata": {
        "id": "GJehFdyt583b"
      },
      "source": [
        "*   What is the size of the feature descriptors? What does each dimension represent in the feature descriptors?"
      ]
    },
    {
      "cell_type": "code",
      "execution_count": 222,
      "metadata": {
        "id": "bzTspvF96LeC",
        "colab": {
          "base_uri": "https://localhost:8080/"
        },
        "outputId": "d892c67a-0152-4599-eee7-af744fdb430b"
      },
      "outputs": [
        {
          "output_type": "stream",
          "name": "stdout",
          "text": [
            "Number of images: 219\n",
            "Number of feature descriptors: {(64, 256)}\n"
          ]
        }
      ],
      "source": [
        "# solution\n",
        "print(\"Number of images:\",len(all_descriptors))\n",
        "\n",
        "shapes = set()\n",
        "for desc in all_descriptors:\n",
        "  shapes.add(desc.shape)\n",
        "\n",
        "print(\"Number of feature descriptors:\",shapes)\n"
      ]
    },
    {
      "cell_type": "markdown",
      "metadata": {
        "id": "MNFOjsRj6PGk"
      },
      "source": [
        "**Solution**\n",
        "\n",
        "The size of the feature descriptor is 64x256, which means we have 64 keypoints ot descriptors for each image, with a 256-bit, which is a binary string that represent the local image structure around the key point.\n",
        "\n"
      ]
    },
    {
      "cell_type": "markdown",
      "metadata": {
        "id": "420YQkAzleTQ"
      },
      "source": [
        "## Codebook Construction\n",
        "\n",
        "Codewords are nothing but vector representation of similar patches. This codeword produces a codebook similar to a word dictionary. We will create the codebook using K-Means algorithm\n",
        "\n",
        "*   Create a codebook using K-Means with k=number_of_classes*10\n",
        "*   Hint: Use sklearn.cluster.MiniBatchKMeans for K-Means"
      ]
    },
    {
      "cell_type": "code",
      "source": [
        "#Solution\n",
        "\n",
        "#First we put all the descriptors in a list\n",
        "all_descriptors=all_descriptors.reshape(219*64,256)"
      ],
      "metadata": {
        "id": "6lHFSDCADEhx"
      },
      "execution_count": 223,
      "outputs": []
    },
    {
      "cell_type": "code",
      "execution_count": 224,
      "metadata": {
        "id": "iO0e4718ppJt",
        "colab": {
          "base_uri": "https://localhost:8080/"
        },
        "outputId": "8e63cbdc-005f-420e-969e-47a6fd8c247e"
      },
      "outputs": [
        {
          "output_type": "stream",
          "name": "stderr",
          "text": [
            "/usr/local/lib/python3.10/dist-packages/sklearn/cluster/_kmeans.py:870: FutureWarning: The default value of `n_init` will change from 3 to 'auto' in 1.4. Set the value of `n_init` explicitly to suppress the warning\n",
            "  warnings.warn(\n"
          ]
        },
        {
          "output_type": "stream",
          "name": "stdout",
          "text": [
            "Codebook:\n",
            "[[0.48094079 0.12570965 0.38442822 ... 0.82887267 0.46958637 0.5458232 ]\n",
            " [0.49461787 0.87621098 0.44940797 ... 0.41011841 0.77018299 0.51991389]\n",
            " [0.33750745 0.62373286 0.72629696 ... 0.48777579 0.65891473 0.29159213]\n",
            " ...\n",
            " [0.7755102  0.35003092 0.57328386 ... 0.73407545 0.53494125 0.30983302]\n",
            " [0.35301669 0.90885751 0.46405648 ... 0.40243902 0.78754814 0.87227214]\n",
            " [0.29641485 0.28489117 0.56402049 ... 0.40588988 0.38348271 0.50576184]]\n"
          ]
        }
      ],
      "source": [
        "#Then we apply K-Means\n",
        "\n",
        "k = len(categories) * 10\n",
        "kmeans = MiniBatchKMeans(n_clusters=k,random_state=8)\n",
        "kmeans.fit(all_descriptors)\n",
        "\n",
        "codebook = kmeans.cluster_centers_\n",
        "\n",
        "print(\"Codebook:\")\n",
        "print(codebook)"
      ]
    },
    {
      "cell_type": "code",
      "source": [
        "predicted=[kmeans.predict(i.reshape(1, -1))[0] for i in all_descriptors]"
      ],
      "metadata": {
        "id": "v7Y0Jhji9V3h"
      },
      "execution_count": 225,
      "outputs": []
    },
    {
      "cell_type": "code",
      "source": [
        "train_rep=np.array(predicted).reshape(219,64)"
      ],
      "metadata": {
        "id": "bPLu76mgDpPT"
      },
      "execution_count": 226,
      "outputs": []
    },
    {
      "cell_type": "markdown",
      "metadata": {
        "id": "0GAD_JuNpqMt"
      },
      "source": [
        "*   Create a histogram using the cluster centers for each image descriptor.\n",
        "    *   Remember the histogram would be of size *n_images x n_clusters*."
      ]
    },
    {
      "cell_type": "code",
      "execution_count": 227,
      "metadata": {
        "id": "SR0_9HnbDFBe",
        "outputId": "683c27dd-c917-4e94-e0d6-b8d720cf6393",
        "colab": {
          "base_uri": "https://localhost:8080/",
          "height": 443
        }
      },
      "outputs": [
        {
          "output_type": "execute_result",
          "data": {
            "text/plain": [
              "<BarContainer object of 30 artists>"
            ]
          },
          "metadata": {},
          "execution_count": 227
        },
        {
          "output_type": "display_data",
          "data": {
            "text/plain": [
              "<Figure size 640x480 with 1 Axes>"
            ],
            "image/png": "[encoded data removed]"
          },
          "metadata": {}
        }
      ],
      "source": [
        "import matplotlib.pyplot as plt\n",
        "unique, counts = np.unique(predicted, return_counts=True)\n",
        "plt.bar(unique,counts)"
      ]
    },
    {
      "cell_type": "markdown",
      "metadata": {
        "id": "eqThTmO5j1-p"
      },
      "source": [
        "# Testing the Classification Model\n",
        "\n",
        "*   Extract descriptors using ORB for the test split\n",
        "*   Use the previously trained k-means to generate the histogram\n",
        "*   Use the classifier to predict the label\n"
      ]
    },
    {
      "cell_type": "code",
      "source": [
        "_ , all_descriptors_test=get_multi_ORB(feature.ORB(n_keypoints=64),test_img)"
      ],
      "metadata": {
        "id": "rsoEEBxXU5BV"
      },
      "execution_count": 228,
      "outputs": []
    },
    {
      "cell_type": "code",
      "source": [
        "all_descriptors_test=all_descriptors_test.reshape(25*64,256)"
      ],
      "metadata": {
        "id": "-T2HXq5iVM1u"
      },
      "execution_count": 229,
      "outputs": []
    },
    {
      "cell_type": "code",
      "source": [
        "#K-means\n",
        "predicted_test=[kmeans.predict(i.reshape(1, -1))[0] for i in all_descriptors_test]"
      ],
      "metadata": {
        "id": "EpQyMVfB2hof"
      },
      "execution_count": 230,
      "outputs": []
    },
    {
      "cell_type": "code",
      "source": [
        "test_rep=np.array(predicted_test).reshape((25, 64))"
      ],
      "metadata": {
        "id": "SB5AKnmdC9Rq"
      },
      "execution_count": 231,
      "outputs": []
    },
    {
      "cell_type": "markdown",
      "metadata": {
        "id": "jmRO7dfLjgZa"
      },
      "source": [
        "\n",
        "# Creating Classification Model\n",
        "\n",
        "*   The next step is to create a classification model. We will use a C-Support Vector Classification for creating the model.\n",
        "\n"
      ]
    },
    {
      "cell_type": "markdown",
      "metadata": {
        "id": "lrit95Ud6pUU"
      },
      "source": [
        "*   Use GridSearchCV to find the optimal value of C and Gamma."
      ]
    },
    {
      "cell_type": "code",
      "execution_count": 232,
      "metadata": {
        "id": "K7VTBz1Oimtz"
      },
      "outputs": [],
      "source": [
        "from sklearn.svm import SVC\n",
        "from sklearn.model_selection import GridSearchCV\n",
        "from sklearn.metrics import accuracy_score"
      ]
    },
    {
      "cell_type": "code",
      "source": [],
      "metadata": {
        "id": "N-8_XS2vWehU"
      },
      "execution_count": 232,
      "outputs": []
    },
    {
      "cell_type": "code",
      "source": [
        "param_grid = {'C': np.linspace(0.1,5,num=25), 'gamma': [0.01, 0.1, 1,'scale','auto']}\n",
        "\n",
        "grid_search = GridSearchCV(SVC(), param_grid, cv=5, scoring='accuracy')\n",
        "grid_search.fit(train_rep, y_train)\n",
        "\n",
        "print(\"Best Parameters:\", grid_search.best_params_)\n",
        "\n",
        "# Evaluate the model on the test set with the best parameters\n",
        "best_svc = grid_search.best_estimator_\n",
        "y_pred = best_svc.predict(test_rep)"
      ],
      "metadata": {
        "id": "NXQYLe1hyUOC",
        "outputId": "693798e6-5e79-4d87-f0fd-3fa09035b618",
        "colab": {
          "base_uri": "https://localhost:8080/"
        }
      },
      "execution_count": 233,
      "outputs": [
        {
          "output_type": "stream",
          "name": "stdout",
          "text": [
            "Best Parameters: {'C': 1.1208333333333336, 'gamma': 'scale'}\n"
          ]
        }
      ]
    },
    {
      "cell_type": "markdown",
      "metadata": {
        "id": "gGyQUtU3lAEz"
      },
      "source": [
        "*   Calculate the accuracy score for the classification model"
      ]
    },
    {
      "cell_type": "code",
      "execution_count": 234,
      "metadata": {
        "id": "PszxSB0Ek_Lt",
        "outputId": "cefc8f18-ab57-458e-c550-a12c26cb1199",
        "colab": {
          "base_uri": "https://localhost:8080/"
        }
      },
      "outputs": [
        {
          "output_type": "stream",
          "name": "stdout",
          "text": [
            "Accuracy on Test Set: 0.24\n"
          ]
        }
      ],
      "source": [
        "# solution\n",
        "accuracy = accuracy_score(y_test, y_pred)\n",
        "print(\"Accuracy on Test Set:\", accuracy)"
      ]
    },
    {
      "cell_type": "markdown",
      "metadata": {
        "id": "drlq-5AM615_"
      },
      "source": [
        "*   Generate the confusion matrix for the classification model"
      ]
    },
    {
      "cell_type": "code",
      "execution_count": 235,
      "metadata": {
        "id": "NpqXVYrw61OG",
        "outputId": "bbdcd40a-40fa-4ee7-ee82-fbc8ac89b4c9",
        "colab": {
          "base_uri": "https://localhost:8080/",
          "height": 893
        }
      },
      "outputs": [
        {
          "output_type": "display_data",
          "data": {
            "text/plain": [
              "<Figure size 500x500 with 2 Axes>"
            ],
            "image/png": "[encoded data removed]"
          },
          "metadata": {}
        },
        {
          "output_type": "display_data",
          "data": {
            "text/plain": [
              "<Figure size 500x500 with 2 Axes>"
            ],
            "image/png": "[encoded data removed]"
          },
          "metadata": {}
        }
      ],
      "source": [
        "# solution\n",
        "from sklearn.metrics import confusion_matrix\n",
        "cp.plot_confusion_matrix(confusion_matrix(y_test, y_pred),categories, (5,5), colors='YlGnBu', normalize=False, fsizes={'font':8})\n",
        "cp.plot_confusion_matrix(confusion_matrix(y_test, y_pred),categories, (5,5), colors='YlGnBu', normalize=True, fsizes={'font':8})\n"
      ]
    },
    {
      "cell_type": "markdown",
      "metadata": {
        "id": "7TN4rRra9yv_"
      },
      "source": [
        "*   Why do we use Clustering to create the codebook?\n",
        "*   What are the other techniques that can be used to create the codebook?"
      ]
    },
    {
      "cell_type": "markdown",
      "metadata": {
        "id": "Ri9kU3wa3Rei"
      },
      "source": [
        "**Solution**\n",
        "\n",
        "- We use the clustering since we want to bring together all the descriptors that are similar in order to not reduce the amount of keypoints and conserve the more representatives patches that contain the most descriptors.\n",
        "\n",
        "- Since the main objective is to keep the similar information, most of the common clustering techniques will suit properly this task, as the hierarchical or agglomerative clustering. However we can use also some techniques as PCA that tries to achieve a dimmensionality reduction while keeping most of the data."
      ]
    },
    {
      "cell_type": "markdown",
      "metadata": {
        "id": "b47OqebCOXpq"
      },
      "source": [
        "# Increased Feature Dimensions\n",
        "\n",
        "*   Repeat the classification using features of 256 ORB keypoints."
      ]
    },
    {
      "cell_type": "code",
      "execution_count": 236,
      "metadata": {
        "id": "CiY8GERXOxbB"
      },
      "outputs": [],
      "source": [
        "_ , all_descriptors_2=get_multi_ORB(feature.ORB(n_keypoints=256),train_img)"
      ]
    },
    {
      "cell_type": "code",
      "source": [
        "y_train=np.array([ y_train[j] for j,i in enumerate(all_descriptors_2) if i.shape[0]==256])"
      ],
      "metadata": {
        "id": "_LyrWKSOcjNJ"
      },
      "execution_count": 237,
      "outputs": []
    },
    {
      "cell_type": "code",
      "source": [
        "all_descriptors_2=np.array([i for i in all_descriptors_2 if i.shape[0]==256 ]).reshape(219*256,256)"
      ],
      "metadata": {
        "id": "vhlRMQrfn8NQ"
      },
      "execution_count": 240,
      "outputs": []
    },
    {
      "cell_type": "code",
      "source": [
        "\n",
        "k = len(categories) * 10\n",
        "kmeans = MiniBatchKMeans(n_clusters=k,random_state=8)\n",
        "kmeans.fit(all_descriptors_2)\n",
        "\n",
        "codebook = kmeans.cluster_centers_\n",
        "\n",
        "print(\"Codebook:\")\n",
        "print(codebook)"
      ],
      "metadata": {
        "id": "ijwlKp0WgC4I",
        "outputId": "0e10acb4-de0c-456e-ee2e-41c888c6a20d",
        "colab": {
          "base_uri": "https://localhost:8080/"
        }
      },
      "execution_count": 241,
      "outputs": [
        {
          "output_type": "stream",
          "name": "stderr",
          "text": [
            "/usr/local/lib/python3.10/dist-packages/sklearn/cluster/_kmeans.py:870: FutureWarning: The default value of `n_init` will change from 3 to 'auto' in 1.4. Set the value of `n_init` explicitly to suppress the warning\n",
            "  warnings.warn(\n"
          ]
        },
        {
          "output_type": "stream",
          "name": "stdout",
          "text": [
            "Codebook:\n",
            "[[0.51514482 0.60800354 0.47910679 ... 0.44395313 0.55184612 0.60004422]\n",
            " [0.43281779 0.85693572 0.17182214 ... 0.36636056 0.71145481 0.86394393]\n",
            " [0.83824966 0.12365696 0.55088885 ... 0.66888064 0.38659895 0.59601485]\n",
            " ...\n",
            " [0.5125606  0.72344645 0.64676069 ... 0.49140591 0.79528427 0.46011459]\n",
            " [0.2697274  0.43390039 0.40889527 ... 0.37733142 0.27628612 0.42447223]\n",
            " [0.76198426 0.75459098 0.54901026 ... 0.50226568 0.73861197 0.72549487]]\n"
          ]
        }
      ]
    },
    {
      "cell_type": "code",
      "source": [
        "predicted_2=np.array([kmeans.predict(i.reshape(1, -1))[0] for i in all_descriptors_2])"
      ],
      "metadata": {
        "id": "Br82UKSghTB4"
      },
      "execution_count": 242,
      "outputs": []
    },
    {
      "cell_type": "code",
      "source": [
        "train_rep_2=np.array(predicted_2).reshape((219, 256))"
      ],
      "metadata": {
        "id": "c6Zk9h51j1rG"
      },
      "execution_count": 244,
      "outputs": []
    },
    {
      "cell_type": "code",
      "source": [
        "_ , all_descriptors_test_2=get_multi_ORB(feature.ORB(n_keypoints=256),test_img)"
      ],
      "metadata": {
        "id": "KGNAjYlxlHcZ"
      },
      "execution_count": 258,
      "outputs": []
    },
    {
      "cell_type": "code",
      "source": [
        "y_test=np.array([ y_test[j] for j,i in enumerate(all_descriptors_test_2) if i.shape[0]==256])"
      ],
      "metadata": {
        "id": "pWS_blhps7jF"
      },
      "execution_count": 262,
      "outputs": []
    },
    {
      "cell_type": "code",
      "source": [
        "all_descriptors_test_2=np.array([i for i in all_descriptors_test_2 if i.shape[0]==256 ]).reshape(24*256,256)"
      ],
      "metadata": {
        "id": "JOpkvbGktDBO"
      },
      "execution_count": 264,
      "outputs": []
    },
    {
      "cell_type": "code",
      "source": [
        "all_descriptors_test_2.shape\n",
        "all_descriptors_test_2=all_descriptors_test_2.reshape(24*256,256)"
      ],
      "metadata": {
        "id": "goTFXURClUuS"
      },
      "execution_count": 265,
      "outputs": []
    },
    {
      "cell_type": "code",
      "source": [
        "predicted_test_2=[kmeans.predict(i.reshape(1, -1))[0] for i in all_descriptors_test_2]"
      ],
      "metadata": {
        "id": "bcn23Sw5lwog"
      },
      "execution_count": 266,
      "outputs": []
    },
    {
      "cell_type": "code",
      "source": [
        "test_rep_2=np.array(predicted_test_2).reshape((24, 256))"
      ],
      "metadata": {
        "id": "a2pa3z20l5DR"
      },
      "execution_count": 268,
      "outputs": []
    },
    {
      "cell_type": "code",
      "source": [
        "param_grid = {'C': np.linspace(0.1,5,num=25), 'gamma': [0.01, 0.1, 1,'scale','auto']}\n",
        "\n",
        "grid_search_2 = GridSearchCV(SVC(), param_grid, cv=5, scoring='accuracy')\n",
        "grid_search_2.fit(train_rep_2, y_train)\n",
        "\n",
        "print(\"Best Parameters:\", grid_search_2.best_params_)\n",
        "\n",
        "# Evaluate the model on the test set with the best parameters\n",
        "best_svc = grid_search_2.best_estimator_\n",
        "y_pred_2 = best_svc.predict(test_rep_2)\n",
        "\n",
        "# solution\n",
        "accuracy = accuracy_score(y_test, y_pred_2)\n",
        "print(\"Accuracy on Test Set:\", accuracy)\n"
      ],
      "metadata": {
        "id": "qi6PE2wJGenA",
        "outputId": "fc5a04bd-194c-4cd5-a236-f2567c67bb4c",
        "colab": {
          "base_uri": "https://localhost:8080/"
        }
      },
      "execution_count": 269,
      "outputs": [
        {
          "output_type": "stream",
          "name": "stdout",
          "text": [
            "Best Parameters: {'C': 1.529166666666667, 'gamma': 'scale'}\n",
            "Accuracy on Test Set: 0.5\n"
          ]
        }
      ]
    },
    {
      "cell_type": "code",
      "source": [
        "from sklearn.metrics import confusion_matrix\n",
        "cp.plot_confusion_matrix(confusion_matrix(y_test, y_pred_2),categories, (5,5), colors='YlGnBu', normalize=False, fsizes={'font':8})\n",
        "cp.plot_confusion_matrix(confusion_matrix(y_test, y_pred_2),categories, (5,5), colors='YlGnBu', normalize=True, fsizes={'font':8})\n"
      ],
      "metadata": {
        "id": "H3pOvFigqdKA",
        "outputId": "9cf1d279-496e-4fbe-83d4-01737e8db904",
        "colab": {
          "base_uri": "https://localhost:8080/",
          "height": 893
        }
      },
      "execution_count": 270,
      "outputs": [
        {
          "output_type": "display_data",
          "data": {
            "text/plain": [
              "<Figure size 500x500 with 2 Axes>"
            ],
            "image/png": "[encoded data removed]"
          },
          "metadata": {}
        },
        {
          "output_type": "display_data",
          "data": {
            "text/plain": [
              "<Figure size 500x500 with 2 Axes>"
            ],
            "image/png": "[encoded data removed]"
          },
          "metadata": {}
        }
      ]
    },
    {
      "cell_type": "markdown",
      "metadata": {
        "id": "Ucf5mIeHOzBf"
      },
      "source": [
        "*   What is the difference in classifier performance between using 64 keypoints and 256 keypoints?"
      ]
    },
    {
      "cell_type": "markdown",
      "metadata": {
        "id": "AJt7kpHcO5nV"
      },
      "source": [
        "**Solution**\n",
        "\n",
        "The accuracy increases since we are taking into account more details of the image"
      ]
    },
    {
      "cell_type": "markdown",
      "metadata": {
        "id": "ll0j8G-oIaHd"
      },
      "source": [
        "*   Will further adding more keypoints increase the performance of the algorithm?"
      ]
    },
    {
      "cell_type": "markdown",
      "metadata": {
        "id": "ka3z1sJVInS5"
      },
      "source": [
        "**Solution**\n",
        "\n",
        "At some point adding more keypoints may work, however, there is a limit where more data will not impply more precision, since we are not giving more information, and it only increases the computation time.\n"
      ]
    }
  ],
  "metadata": {
    "colab": {
      "provenance": [],
      "include_colab_link": true
    },
    "kernelspec": {
      "display_name": "Python 3 (ipykernel)",
      "language": "python",
      "name": "python3"
    },
    "language_info": {
      "codemirror_mode": {
        "name": "ipython",
        "version": 3
      },
      "file_extension": ".py",
      "mimetype": "text/x-python",
      "name": "python",
      "nbconvert_exporter": "python",
      "pygments_lexer": "ipython3",
      "version": "3.10.12"
    }
  },
  "nbformat": 4,
  "nbformat_minor": 0
}