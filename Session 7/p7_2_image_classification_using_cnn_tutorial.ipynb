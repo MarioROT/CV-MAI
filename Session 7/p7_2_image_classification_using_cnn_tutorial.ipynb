{
  "nbformat": 4,
  "nbformat_minor": 0,
  "metadata": {
    "colab": {
      "provenance": [],
      "gpuType": "T4",
      "include_colab_link": true
    },
    "kernelspec": {
      "name": "python3",
      "display_name": "Python 3"
    },
    "accelerator": "GPU"
  },
  "cells": [
    {
      "cell_type": "markdown",
      "metadata": {
        "id": "view-in-github",
        "colab_type": "text"
      },
      "source": [
        "<a href=\"https://colab.research.google.com/github/MarioROT/CV-MAI/blob/main/Session%207/p7_2_image_classification_using_cnn_tutorial.ipynb\" target=\"_parent\"><img src=\"https://colab.research.google.com/assets/colab-badge.svg\" alt=\"Open In Colab\"/></a>"
      ]
    },
    {
      "cell_type": "markdown",
      "metadata": {
        "id": "_K94I7aFLQ9S"
      },
      "source": [
        "# Tutorial : Image Classification using CNN\n",
        "\n",
        "At the end of this tutorial, you would get familiarized with\n",
        "\n",
        "*   Creating deep networks using Keras\n",
        "*   Steps necessary in training a neural network\n",
        "*   Prediction and performance analysis using neural networks\n",
        "\n",
        "---"
      ]
    },
    {
      "cell_type": "markdown",
      "metadata": {
        "id": "KdglSzOi4Cp-"
      },
      "source": [
        "# **Colaboratory environment**\n",
        "By default, Colab notebooks run on CPU.\n",
        "You can switch your notebook to run with GPU.\n",
        "\n",
        "In order to obtain access to the GPU, you need to choose the tab Runtime and then select “Change runtime type” as shown in the following figure:\n",
        "\n",
        "![Changing runtime](https://miro.medium.com/max/747/1*euE7nGZ0uJQcgvkpgvkoQg.png)\n",
        "\n",
        "When a pop-up window appears select GPU.\n",
        "\n",
        "**Ensure “Hardware accelerator” is set to GPU.**"
      ]
    },
    {
      "cell_type": "markdown",
      "metadata": {
        "id": "Zli14lxJ48BK"
      },
      "source": [
        "# **Environment set up**\n",
        "**Keras** is a Python library that provides, in a simple way, the creation of a wide range of Deep Learning models using as backend other libraries such as TensorFlow, Theano or CNTK **(We would use Tensorflow backend)**.\n",
        "\n",
        "Keras is used since its learning curve is very smooth compared to others, and at the moment it is one of the popular middleware to implement neural networks.\n",
        "\n",
        "The developer guides for Keras can be found at: https://keras.io/guides/"
      ]
    },
    {
      "cell_type": "code",
      "metadata": {
        "id": "P3BPaal61sjX"
      },
      "source": [
        "from tensorflow import keras\n",
        "\n",
        "# print(keras.__version__)"
      ],
      "execution_count": 4,
      "outputs": []
    },
    {
      "cell_type": "markdown",
      "metadata": {
        "id": "I5slKBah5sLk"
      },
      "source": [
        "# **Understanding Data: MNIST Dataset**\n",
        "The MNIST dataset is an acronym that stands for the Modified National Institute of Standards and Technology dataset.\n",
        "\n",
        "It is a dataset of 60,000 small square 28×28 pixel grayscale images of handwritten single digits between 0 and 9.\n",
        "\n",
        "In Keras, the MNIST dataset is preloaded in the form of four Numpy arrays. x_train and y_train contain the training set, while x_test and y_test contain the test data. The images are encoded as Numpy arrays and their corresponding labels ranging from 0 to 9."
      ]
    },
    {
      "cell_type": "code",
      "metadata": {
        "id": "KWxUKDUf0N70",
        "colab": {
          "base_uri": "https://localhost:8080/"
        },
        "outputId": "122dfae2-e275-4df5-a328-f1f3333f026e"
      },
      "source": [
        "from tensorflow.keras.datasets import mnist\n",
        "(x_train, y_train), (x_test, y_test) = mnist.load_data()\n",
        "\n",
        "print(x_train.shape)\n",
        "print(x_train.ndim)\n",
        "print(x_train.dtype)\n",
        "\n",
        "print(x_test.shape)"
      ],
      "execution_count": 5,
      "outputs": [
        {
          "output_type": "stream",
          "name": "stdout",
          "text": [
            "Downloading data from https://storage.googleapis.com/tensorflow/tf-keras-datasets/mnist.npz\n",
            "11490434/11490434 [==============================] - 0s 0us/step\n",
            "(60000, 28, 28)\n",
            "3\n",
            "uint8\n",
            "(10000, 28, 28)\n"
          ]
        }
      ]
    },
    {
      "cell_type": "markdown",
      "metadata": {
        "id": "ibzTShLR-ZYv"
      },
      "source": [
        "## Visualizing the Data\n",
        "\n",
        "A plot of the first nine images in the dataset is created showing the natural handwritten nature of the images to be classified.\n",
        "\n",
        "**Let us create a 3*3 subplot to visualize the first 9 images of the dataset.**"
      ]
    },
    {
      "cell_type": "code",
      "metadata": {
        "id": "o8VOg4ix0Yry",
        "colab": {
          "base_uri": "https://localhost:8080/",
          "height": 433
        },
        "outputId": "5e86c548-4940-45f3-e4c5-4370f433ce07"
      },
      "source": [
        "import matplotlib.pyplot as plt\n",
        "\n",
        "for i in range(9):\n",
        "\tplt.subplot(330 + 1 + i)\n",
        "\tplt.imshow(x_train[i], cmap=plt.get_cmap('gray'))\n",
        "plt.show()"
      ],
      "execution_count": 6,
      "outputs": [
        {
          "output_type": "display_data",
          "data": {
            "text/plain": [
              "<Figure size 640x480 with 9 Axes>"
            ],
            "image/png": "[encoded data removed]"
          },
          "metadata": {}
        }
      ]
    },
    {
      "cell_type": "markdown",
      "metadata": {
        "id": "uGZkLxinEN6L"
      },
      "source": [
        "## Data normalization\n",
        "\n",
        "The pixel values for each image in the dataset are unsigned integers in the range between black and white, or 0 and 255.\n",
        "\n",
        "**Let us normalize the pixel values of grayscale images, e.g. rescale them to the range [0,1].**\n",
        "\n",
        "*Hint: 'astype' is a numpy function that could be used to cast the numpy array to a specified type*"
      ]
    },
    {
      "cell_type": "code",
      "metadata": {
        "id": "iODdnwlH0xyw",
        "colab": {
          "base_uri": "https://localhost:8080/"
        },
        "outputId": "08298d5a-90ab-4589-8b10-0410b9ef6bc3"
      },
      "source": [
        "x_train = x_train.astype(\"float32\") / 255\n",
        "x_test = x_test.astype(\"float32\") / 255\n",
        "\n",
        "print(x_train.shape)\n",
        "print(x_test.shape)"
      ],
      "execution_count": 7,
      "outputs": [
        {
          "output_type": "stream",
          "name": "stdout",
          "text": [
            "(60000, 28, 28)\n",
            "(10000, 28, 28)\n"
          ]
        }
      ]
    },
    {
      "cell_type": "markdown",
      "metadata": {
        "id": "-AK7-4arKNF9"
      },
      "source": [
        "## Preparing data\n",
        "The images are all pre-aligned (e.g. each image only contains a hand-drawn digit) and they have the same square size of 28×28 pixels. Also, the images are grayscale. Therefore, we can load the images and reshape the data arrays to have a 1D vector data.\n",
        "\n",
        "*Note that this data preparation is not applicable for all networks*\n",
        "\n",
        "**Let us reshape the images as a 1D vector.**"
      ]
    },
    {
      "cell_type": "code",
      "metadata": {
        "id": "mQWNj20I0_-w",
        "colab": {
          "base_uri": "https://localhost:8080/"
        },
        "outputId": "9a38ffcd-b0c3-471c-e504-2886b637b967"
      },
      "source": [
        "x_train = x_train.reshape(60000, 784)\n",
        "x_test = x_test.reshape(10000, 784)\n",
        "\n",
        "print(x_train.shape)\n",
        "print(x_test.shape)"
      ],
      "execution_count": 8,
      "outputs": [
        {
          "output_type": "stream",
          "name": "stdout",
          "text": [
            "(60000, 784)\n",
            "(10000, 784)\n"
          ]
        }
      ]
    },
    {
      "cell_type": "markdown",
      "metadata": {
        "id": "3yNN4gs-LOmS"
      },
      "source": [
        "## Preparing labels\n",
        "\n",
        "The labels for each input data (remember that in our case they are numbers between 0 and 9) indicate which digit represents the image, that is, to which class it is associated.\n",
        "\n",
        "In this case, we will represent this label with a vector of 10 positions, where the position corresponding to the digit that represents the image contains a 1 and the remaining positions of the vector contain the value 0. This is known as **one-hot encoding.**\n",
        "\n",
        "**Let us convert the labels into the equivalent one-hot encoded form.**\n",
        "\n",
        "*Hint: keras.utils.to_categorical could be used to convert an integer vector to a binary class matrix.*"
      ]
    },
    {
      "cell_type": "code",
      "metadata": {
        "id": "hRBa1_PA1KBX",
        "colab": {
          "base_uri": "https://localhost:8080/"
        },
        "outputId": "f010b587-c154-4d62-c137-33ad4de0ca5e"
      },
      "source": [
        "from tensorflow.keras.utils import to_categorical\n",
        "\n",
        "y_train = to_categorical(y_train, num_classes=10)\n",
        "y_test = to_categorical(y_test, num_classes=10)\n",
        "\n",
        "print(y_train.shape)\n",
        "print(y_test.shape)"
      ],
      "execution_count": 9,
      "outputs": [
        {
          "output_type": "stream",
          "name": "stdout",
          "text": [
            "(60000, 10)\n",
            "(10000, 10)\n"
          ]
        }
      ]
    },
    {
      "cell_type": "markdown",
      "metadata": {
        "id": "dfEBWzOpOmP7"
      },
      "source": [
        "# **Defining Model**\n",
        "\n",
        "The Sequential class of the Keras library is a wrapper for the sequential neural network model. In this case, the model in Keras is considered as a sequence of layers and each of them gradually “distills” the input data to obtain the desired output.\n",
        "\n",
        "In Keras we can find all the required types of layers that can be easily added to the model through the add() method.\n",
        "\n",
        "Below snippet shows a simple network with a single dense layer.\n",
        "\n",
        "*Note that the input information has to be defined in the first layer of the model.*"
      ]
    },
    {
      "cell_type": "code",
      "metadata": {
        "id": "KjW4xAFaP1KG"
      },
      "source": [
        "from tensorflow.keras.models import Sequential\n",
        "from tensorflow.keras.layers import Dense, Activation\n",
        "\n",
        "model = Sequential()\n",
        "model.add(Dense(10, input_dim=784))\n",
        "model.add(Activation('relu'))"
      ],
      "execution_count": 10,
      "outputs": []
    },
    {
      "cell_type": "markdown",
      "metadata": {
        "id": "wqxvLQf6QSv1"
      },
      "source": [
        "The architecture of the model can be checked using the function **summary()** available in the model class. Note that the summary returns the layer information along with the output shape for each layer and the number of parameters that needs to be trained.\n",
        "\n",
        "In this simple example, it indicates that 7,850 parameters are required (column Param #). In the first layer, for each neuron i (between 0 and 9) we require 784 parameters for the weights wij and therefore 10×784 parameters to store the weights of the 10 neurons. In addition to that 10 additional parameters for the 10 bj biases corresponding to each one of them.\n",
        "\n",
        "The non-trainable parameters of a model are those that will not be updating and optimized during training, and that have to be defined a priori, or passed as inputs."
      ]
    },
    {
      "cell_type": "code",
      "metadata": {
        "id": "8mktMmmURAfb",
        "colab": {
          "base_uri": "https://localhost:8080/"
        },
        "outputId": "2fde4b64-7365-43fa-8b7e-193493cb32ad"
      },
      "source": [
        "model.summary()"
      ],
      "execution_count": 11,
      "outputs": [
        {
          "output_type": "stream",
          "name": "stdout",
          "text": [
            "Model: \"sequential\"\n",
            "_________________________________________________________________\n",
            " Layer (type)                Output Shape              Param #   \n",
            "=================================================================\n",
            " dense (Dense)               (None, 10)                7850      \n",
            "                                                                 \n",
            " activation (Activation)     (None, 10)                0         \n",
            "                                                                 \n",
            "=================================================================\n",
            "Total params: 7850 (30.66 KB)\n",
            "Trainable params: 7850 (30.66 KB)\n",
            "Non-trainable params: 0 (0.00 Byte)\n",
            "_________________________________________________________________\n"
          ]
        }
      ]
    },
    {
      "cell_type": "markdown",
      "metadata": {
        "id": "sqHk3fztYFjs"
      },
      "source": [
        "# Compiling models\n",
        "\n",
        "Before training a model, we need to configure the learning process, which is done via the compile method. It receives three arguments:\n",
        "\n",
        "*   Loss function\n",
        "*   Optimizer\n",
        "*   Metrics\n",
        "\n",
        "**Hint: Learn the commonly used loss functions and optimizers available in Keras documentation.**"
      ]
    },
    {
      "cell_type": "code",
      "metadata": {
        "id": "aVdNIBmv102V"
      },
      "source": [
        "model.compile(loss='categorical_crossentropy',\n",
        "              optimizer='sgd',\n",
        "              metrics = ['accuracy'])"
      ],
      "execution_count": 12,
      "outputs": []
    },
    {
      "cell_type": "markdown",
      "metadata": {
        "id": "ktS7_-13ZSfp"
      },
      "source": [
        "## Training models\n",
        "\n",
        "Keras models are trained on Numpy arrays of input data and labels. For training a model, we will typically use the fit function."
      ]
    },
    {
      "cell_type": "code",
      "metadata": {
        "id": "gCpox6Oa19c9",
        "colab": {
          "base_uri": "https://localhost:8080/"
        },
        "outputId": "139b2dae-ced4-4883-b14a-b951b2e2eda9"
      },
      "source": [
        "history = model.fit(x_train, y_train, batch_size=1024, epochs=5)"
      ],
      "execution_count": 13,
      "outputs": [
        {
          "output_type": "stream",
          "name": "stdout",
          "text": [
            "Epoch 1/5\n",
            "59/59 [==============================] - 7s 4ms/step - loss: 2.4959 - accuracy: 0.1356\n",
            "Epoch 2/5\n",
            "59/59 [==============================] - 0s 4ms/step - loss: 2.0958 - accuracy: 0.1488\n",
            "Epoch 3/5\n",
            "59/59 [==============================] - 0s 5ms/step - loss: 1.9598 - accuracy: 0.1604\n",
            "Epoch 4/5\n",
            "59/59 [==============================] - 0s 5ms/step - loss: 1.8291 - accuracy: 0.1899\n",
            "Epoch 5/5\n",
            "59/59 [==============================] - 0s 4ms/step - loss: 1.6679 - accuracy: 0.2769\n"
          ]
        }
      ]
    },
    {
      "cell_type": "markdown",
      "metadata": {
        "id": "ViagI49FvTmo"
      },
      "source": [
        "## History Callback\n",
        "\n",
        "A callback is a set of functions to be applied at given stages of the training procedure. It can be used to get a view on internal states and statistics of the model during training. There are several callbacks are available in Keras and they are passed as a list of callbacks to the .fit() method.\n",
        "\n",
        "The History object gets returned by the fit method of models and is automatically applied to every Keras model."
      ]
    },
    {
      "cell_type": "code",
      "metadata": {
        "id": "bPsnRowdMT1P",
        "colab": {
          "base_uri": "https://localhost:8080/"
        },
        "outputId": "2fa1aaca-47c8-490e-d504-bd9fe13db008"
      },
      "source": [
        "print(history.history.keys())"
      ],
      "execution_count": 14,
      "outputs": [
        {
          "output_type": "stream",
          "name": "stdout",
          "text": [
            "dict_keys(['loss', 'accuracy'])\n"
          ]
        }
      ]
    },
    {
      "cell_type": "code",
      "metadata": {
        "id": "sJFu3XH8nV6G",
        "colab": {
          "base_uri": "https://localhost:8080/"
        },
        "outputId": "3115da9a-2b89-422d-93e0-b77c157b29b4"
      },
      "source": [
        "print(history.history['loss']) # returns the loss value at the end of each epoch\n",
        "print(history.history['accuracy']) # returns the accuracy at the end of each epoch"
      ],
      "execution_count": 15,
      "outputs": [
        {
          "output_type": "stream",
          "name": "stdout",
          "text": [
            "[2.495912790298462, 2.0958313941955566, 1.9598363637924194, 1.8290928602218628, 1.6678770780563354]\n",
            "[0.1355833262205124, 0.14883333444595337, 0.16041666269302368, 0.18988333642482758, 0.27693334221839905]\n"
          ]
        }
      ]
    },
    {
      "cell_type": "markdown",
      "metadata": {
        "id": "leHvxD0twlKs"
      },
      "source": [
        "**Let us plot the loss values and the accuracy values as a 2 x 1 plot.**\n",
        "\n",
        "Note that the loss term decreases and the accuracy increases with respect to the epochs."
      ]
    },
    {
      "cell_type": "code",
      "metadata": {
        "id": "lX6vd-n7wjmd",
        "colab": {
          "base_uri": "https://localhost:8080/",
          "height": 452
        },
        "outputId": "a0009ea2-ff8b-4a62-e41f-1994798695b6"
      },
      "source": [
        "plt.subplot(211)\n",
        "plt.title('Cross Entropy Loss')\n",
        "plt.plot(history.history['loss'], color='blue', label='train')\n",
        "\n",
        "plt.subplot(212)\n",
        "plt.title('Classification Accuracy')\n",
        "plt.plot(history.history['accuracy'], color='green', label='train')\n",
        "plt.show()"
      ],
      "execution_count": 16,
      "outputs": [
        {
          "output_type": "display_data",
          "data": {
            "text/plain": [
              "<Figure size 640x480 with 2 Axes>"
            ],
            "image/png": "[encoded data removed]"
          },
          "metadata": {}
        }
      ]
    },
    {
      "cell_type": "markdown",
      "metadata": {
        "id": "Pk0HXuQxaNvS"
      },
      "source": [
        "# **Model evaluation**\n",
        "\n",
        "## Accuracy\n",
        "\n",
        "After training the model, the network has to be evaluated with new test data. This can be achieved by using the evaluate() method.\n",
        "\n",
        "**Let us print the test accuracy of the network.**"
      ]
    },
    {
      "cell_type": "code",
      "metadata": {
        "id": "1Xmdv_Ql3UbR",
        "colab": {
          "base_uri": "https://localhost:8080/"
        },
        "outputId": "a76ea1dd-9e45-4767-9a18-a822c6910477"
      },
      "source": [
        "test_loss, test_acc = model.evaluate(x_test, y_test)\n",
        "print('Test loss:', test_loss)\n",
        "print('Test accuracy:', test_acc)"
      ],
      "execution_count": 17,
      "outputs": [
        {
          "output_type": "stream",
          "name": "stdout",
          "text": [
            "313/313 [==============================] - 1s 3ms/step - loss: 1.5665 - accuracy: 0.3626\n",
            "Test loss: 1.5664572715759277\n",
            "Test accuracy: 0.3625999987125397\n"
          ]
        }
      ]
    },
    {
      "cell_type": "markdown",
      "metadata": {
        "id": "7FWrHB8S5-Pb"
      },
      "source": [
        "## Confusion matrix\n",
        "\n",
        "Note that accuracy is the ratio between the correct predictions that the model has made over the total predictions regardless of what category it is. However, it is necessary to delve a little more and take into account the types of correct and incorrect predictions made by the model in each of its categories.\n",
        "\n",
        "For this purpose, a confusion matrix is used. It is a table with rows and columns that count the predictions in comparison with the real values. This is used to better understand how well the model behaves and it is very useful to show explicitly when one class is confused with another.\n",
        "\n",
        "**Hint:**\n",
        "1.   predict() is used to predict the output for the input samples.\n",
        "2.   confusion_matrix is available in sklearn.metrics"
      ]
    },
    {
      "cell_type": "code",
      "metadata": {
        "id": "RXwGXfi6i2qm",
        "colab": {
          "base_uri": "https://localhost:8080/"
        },
        "outputId": "e79bbf82-d07f-40f7-cfdd-b2e0dfbc74c2"
      },
      "source": [
        "predictions = model.predict(x_test)"
      ],
      "execution_count": 18,
      "outputs": [
        {
          "output_type": "stream",
          "name": "stdout",
          "text": [
            "313/313 [==============================] - 1s 2ms/step\n"
          ]
        }
      ]
    },
    {
      "cell_type": "markdown",
      "metadata": {
        "id": "FKjrVaeeDyEL"
      },
      "source": [
        "It has to be noted that the predictions is the probability of the input belonging to any one of the class."
      ]
    },
    {
      "cell_type": "code",
      "metadata": {
        "id": "p7fyPS7LD058",
        "colab": {
          "base_uri": "https://localhost:8080/"
        },
        "outputId": "6b5a7778-e378-4e46-d0f5-979de086f0a4"
      },
      "source": [
        "print(predictions[0])"
      ],
      "execution_count": 19,
      "outputs": [
        {
          "output_type": "stream",
          "name": "stdout",
          "text": [
            "[0.04942611 0.         0.         0.56405663 0.4052235  0.\n",
            " 0.24601445 2.8738136  1.9287453  1.1411055 ]\n"
          ]
        }
      ]
    },
    {
      "cell_type": "markdown",
      "metadata": {
        "id": "CIvCcFe0EKFE"
      },
      "source": [
        "**Now, let us convert the probability distribution to get single output for each input. For this, we would take the maximum probability score.**"
      ]
    },
    {
      "cell_type": "code",
      "metadata": {
        "id": "wFAtFDzOlFXn"
      },
      "source": [
        "import numpy as np\n",
        "predictions = np.argmax(predictions, axis=1)"
      ],
      "execution_count": 20,
      "outputs": []
    },
    {
      "cell_type": "code",
      "metadata": {
        "id": "EApByl7wlk5a"
      },
      "source": [
        "from sklearn.metrics import confusion_matrix\n",
        "gt = np.argmax(y_test, axis=1)"
      ],
      "execution_count": 21,
      "outputs": []
    },
    {
      "cell_type": "markdown",
      "metadata": {
        "id": "uZR9oEl-E4yD"
      },
      "source": [
        "**Now, we will use the confusion matrix function to get the table for all the 10 classes.**"
      ]
    },
    {
      "cell_type": "code",
      "metadata": {
        "id": "SMyihJtbmVQO",
        "colab": {
          "base_uri": "https://localhost:8080/"
        },
        "outputId": "1dcaff06-6fcd-49b4-850c-5ad0669ec654"
      },
      "source": [
        "confusion_matrix(gt, predictions)"
      ],
      "execution_count": 22,
      "outputs": [
        {
          "output_type": "execute_result",
          "data": {
            "text/plain": [
              "array([[ 504,    4,    1,    0,    0,    0,    8,    0,  463,    0],\n",
              "       [   0, 1087,    0,    6,    0,    3,    0,    0,   39,    0],\n",
              "       [  14,  429,  115,    0,    2,    2,    1,    1,  467,    1],\n",
              "       [   4,   83,    3,   25,    0,   17,    2,    2,  874,    0],\n",
              "       [   1,   71,    0,    0,  273,    1,    3,    1,  623,    9],\n",
              "       [   1,  112,    3,    6,    2,   38,    4,    1,  725,    0],\n",
              "       [  13,   37,   10,    0,   11,    5,  373,    0,  509,    0],\n",
              "       [   2,  137,    0,    1,    1,    0,    0,  445,  418,   24],\n",
              "       [   0,  259,    0,    0,    0,    2,    0,    1,  711,    1],\n",
              "       [   2,   26,    0,    0,   18,    0,    0,    5,  903,   55]])"
            ]
          },
          "metadata": {},
          "execution_count": 22
        }
      ]
    },
    {
      "cell_type": "markdown",
      "metadata": {
        "id": "UPmsnSf7oJEO"
      },
      "source": [
        "# **Defining different models**\n",
        "\n",
        "In the previous example, we designed a neural network with just dense layers. But in practice, the deep networks are more wider and deeper.\n",
        "\n",
        "When we define a model, the shallow layers learn the low level features such as edges and as the networks go deeper, the network learns the high level features.\n",
        "The model, in general, has two main aspects: the feature extraction front end comprised of convolutional and pooling layers, and the classifier backend that will make a prediction.\n",
        "\n",
        "**Define the following model:**\n",
        "\n",
        "**For the convolutional front-end, start with a single convolutional layer with a small filter size (3,3) and a modest number of filters (32) followed by a max pooling layer. Use the input as (28,28,1) instead of (784,). The filter maps can then be flattened to provide features to the classifier. Use a dense layer with 100 units before the classification layer (which is also a dense layer with softmax activation).**\n",
        "\n",
        "*Hint: Conv2D, MaxPooling2D, Flatten, Dense and other layers can be obtained by importing keras.layer*"
      ]
    },
    {
      "cell_type": "code",
      "metadata": {
        "id": "1jZHNMZCn-ps"
      },
      "source": [
        "from keras.layers import Conv2D, MaxPooling2D, Flatten, Dense\n",
        "model = Sequential()\n",
        "model.add(Conv2D(32, (3, 3), activation='relu', kernel_initializer='he_uniform', input_shape=(28, 28, 1)))\n",
        "model.add(MaxPooling2D((2, 2)))\n",
        "model.add(Flatten())\n",
        "model.add(Dense(100, activation='relu', kernel_initializer='he_uniform'))\n",
        "model.add(Dense(10, activation='softmax'))"
      ],
      "execution_count": 23,
      "outputs": []
    },
    {
      "cell_type": "markdown",
      "metadata": {
        "id": "fO3aLXZUJQe1"
      },
      "source": [
        "**Let us check the architecture using summary().**"
      ]
    },
    {
      "cell_type": "code",
      "metadata": {
        "id": "6Y0CAn2DJWec",
        "colab": {
          "base_uri": "https://localhost:8080/"
        },
        "outputId": "75bfef51-5125-4052-8a6c-450bb35ac1a1"
      },
      "source": [
        "model.summary()"
      ],
      "execution_count": 24,
      "outputs": [
        {
          "output_type": "stream",
          "name": "stdout",
          "text": [
            "Model: \"sequential_1\"\n",
            "_________________________________________________________________\n",
            " Layer (type)                Output Shape              Param #   \n",
            "=================================================================\n",
            " conv2d (Conv2D)             (None, 26, 26, 32)        320       \n",
            "                                                                 \n",
            " max_pooling2d (MaxPooling2  (None, 13, 13, 32)        0         \n",
            " D)                                                              \n",
            "                                                                 \n",
            " flatten (Flatten)           (None, 5408)              0         \n",
            "                                                                 \n",
            " dense_1 (Dense)             (None, 100)               540900    \n",
            "                                                                 \n",
            " dense_2 (Dense)             (None, 10)                1010      \n",
            "                                                                 \n",
            "=================================================================\n",
            "Total params: 542230 (2.07 MB)\n",
            "Trainable params: 542230 (2.07 MB)\n",
            "Non-trainable params: 0 (0.00 Byte)\n",
            "_________________________________________________________________\n"
          ]
        }
      ]
    },
    {
      "cell_type": "markdown",
      "metadata": {
        "id": "SKsSmt7wJa83"
      },
      "source": [
        "**Compile the model.**"
      ]
    },
    {
      "cell_type": "code",
      "metadata": {
        "id": "u3fm1gyXor98"
      },
      "source": [
        "model.compile(optimizer='sgd', loss='categorical_crossentropy', metrics=['accuracy'])"
      ],
      "execution_count": 25,
      "outputs": []
    },
    {
      "cell_type": "markdown",
      "metadata": {
        "id": "oesI8fU5KPik"
      },
      "source": [
        "**Reshape the input of the mnist dataset to the new input dimensions (28, 28, 1).**"
      ]
    },
    {
      "cell_type": "code",
      "metadata": {
        "id": "UNECu5UvpT4f",
        "colab": {
          "base_uri": "https://localhost:8080/"
        },
        "outputId": "1362d74d-029b-46e8-9c02-52ee37280918"
      },
      "source": [
        "from tensorflow.keras.datasets import mnist\n",
        "from tensorflow.keras.utils import to_categorical\n",
        "\n",
        "(x_train, y_train), (x_test, y_test) = mnist.load_data()\n",
        "\n",
        "print(x_train.shape)\n",
        "print(x_train.ndim)\n",
        "print(x_train.dtype)\n",
        "print(x_test.shape)\n",
        "\n",
        "x_train = x_train.astype(\"float32\") / 255\n",
        "x_test = x_test.astype(\"float32\") / 255\n",
        "\n",
        "print('After reshaping:')\n",
        "\n",
        "x_train = np.expand_dims(x_train, -1)\n",
        "x_test = np.expand_dims(x_test, -1)\n",
        "\n",
        "print(x_train.shape)\n",
        "print(x_train.ndim)\n",
        "print(x_train.dtype)\n",
        "print(x_test.shape)\n",
        "\n",
        "y_train = to_categorical(y_train, num_classes=10)\n",
        "y_test = to_categorical(y_test, num_classes=10)\n",
        "\n",
        "print(y_train.shape)\n",
        "print(y_test.shape)"
      ],
      "execution_count": 26,
      "outputs": [
        {
          "output_type": "stream",
          "name": "stdout",
          "text": [
            "(60000, 28, 28)\n",
            "3\n",
            "uint8\n",
            "(10000, 28, 28)\n",
            "After reshaping:\n",
            "(60000, 28, 28, 1)\n",
            "4\n",
            "float32\n",
            "(10000, 28, 28, 1)\n",
            "(60000, 10)\n",
            "(10000, 10)\n"
          ]
        }
      ]
    },
    {
      "cell_type": "markdown",
      "metadata": {
        "id": "ALGpoYHkKmda"
      },
      "source": [
        "**Train the model for 10 epochs with a batch size of 100.**"
      ]
    },
    {
      "cell_type": "code",
      "metadata": {
        "id": "e_aADgN6o8da",
        "colab": {
          "base_uri": "https://localhost:8080/"
        },
        "outputId": "03036a81-ce42-4afa-b683-03bd190600d8"
      },
      "source": [
        "history = model.fit(x_train, y_train, batch_size=1024, epochs=25, validation_split=0.1)"
      ],
      "execution_count": 27,
      "outputs": [
        {
          "output_type": "stream",
          "name": "stdout",
          "text": [
            "Epoch 1/25\n",
            "53/53 [==============================] - 7s 17ms/step - loss: 1.1273 - accuracy: 0.7289 - val_loss: 0.5599 - val_accuracy: 0.8843\n",
            "Epoch 2/25\n",
            "53/53 [==============================] - 1s 12ms/step - loss: 0.5361 - accuracy: 0.8700 - val_loss: 0.3848 - val_accuracy: 0.9098\n",
            "Epoch 3/25\n",
            "53/53 [==============================] - 1s 11ms/step - loss: 0.4259 - accuracy: 0.8887 - val_loss: 0.3219 - val_accuracy: 0.9182\n",
            "Epoch 4/25\n",
            "53/53 [==============================] - 1s 12ms/step - loss: 0.3749 - accuracy: 0.8998 - val_loss: 0.2891 - val_accuracy: 0.9278\n",
            "Epoch 5/25\n",
            "53/53 [==============================] - 1s 12ms/step - loss: 0.3433 - accuracy: 0.9059 - val_loss: 0.2662 - val_accuracy: 0.9313\n",
            "Epoch 6/25\n",
            "53/53 [==============================] - 1s 11ms/step - loss: 0.3212 - accuracy: 0.9115 - val_loss: 0.2507 - val_accuracy: 0.9350\n",
            "Epoch 7/25\n",
            "53/53 [==============================] - 1s 12ms/step - loss: 0.3041 - accuracy: 0.9154 - val_loss: 0.2383 - val_accuracy: 0.9382\n",
            "Epoch 8/25\n",
            "53/53 [==============================] - 1s 12ms/step - loss: 0.2903 - accuracy: 0.9188 - val_loss: 0.2283 - val_accuracy: 0.9393\n",
            "Epoch 9/25\n",
            "53/53 [==============================] - 1s 12ms/step - loss: 0.2785 - accuracy: 0.9222 - val_loss: 0.2198 - val_accuracy: 0.9420\n",
            "Epoch 10/25\n",
            "53/53 [==============================] - 1s 11ms/step - loss: 0.2684 - accuracy: 0.9247 - val_loss: 0.2130 - val_accuracy: 0.9428\n",
            "Epoch 11/25\n",
            "53/53 [==============================] - 1s 11ms/step - loss: 0.2593 - accuracy: 0.9276 - val_loss: 0.2075 - val_accuracy: 0.9457\n",
            "Epoch 12/25\n",
            "53/53 [==============================] - 1s 12ms/step - loss: 0.2512 - accuracy: 0.9297 - val_loss: 0.2003 - val_accuracy: 0.9460\n",
            "Epoch 13/25\n",
            "53/53 [==============================] - 1s 12ms/step - loss: 0.2440 - accuracy: 0.9320 - val_loss: 0.1949 - val_accuracy: 0.9478\n",
            "Epoch 14/25\n",
            "53/53 [==============================] - 1s 12ms/step - loss: 0.2374 - accuracy: 0.9333 - val_loss: 0.1899 - val_accuracy: 0.9490\n",
            "Epoch 15/25\n",
            "53/53 [==============================] - 1s 14ms/step - loss: 0.2310 - accuracy: 0.9354 - val_loss: 0.1853 - val_accuracy: 0.9498\n",
            "Epoch 16/25\n",
            "53/53 [==============================] - 1s 13ms/step - loss: 0.2254 - accuracy: 0.9370 - val_loss: 0.1811 - val_accuracy: 0.9517\n",
            "Epoch 17/25\n",
            "53/53 [==============================] - 1s 14ms/step - loss: 0.2200 - accuracy: 0.9386 - val_loss: 0.1783 - val_accuracy: 0.9513\n",
            "Epoch 18/25\n",
            "53/53 [==============================] - 1s 13ms/step - loss: 0.2152 - accuracy: 0.9392 - val_loss: 0.1744 - val_accuracy: 0.9533\n",
            "Epoch 19/25\n",
            "53/53 [==============================] - 1s 13ms/step - loss: 0.2104 - accuracy: 0.9409 - val_loss: 0.1700 - val_accuracy: 0.9562\n",
            "Epoch 20/25\n",
            "53/53 [==============================] - 1s 12ms/step - loss: 0.2059 - accuracy: 0.9424 - val_loss: 0.1669 - val_accuracy: 0.9563\n",
            "Epoch 21/25\n",
            "53/53 [==============================] - 1s 12ms/step - loss: 0.2016 - accuracy: 0.9437 - val_loss: 0.1642 - val_accuracy: 0.9577\n",
            "Epoch 22/25\n",
            "53/53 [==============================] - 1s 11ms/step - loss: 0.1976 - accuracy: 0.9447 - val_loss: 0.1613 - val_accuracy: 0.9587\n",
            "Epoch 23/25\n",
            "53/53 [==============================] - 1s 11ms/step - loss: 0.1940 - accuracy: 0.9455 - val_loss: 0.1579 - val_accuracy: 0.9598\n",
            "Epoch 24/25\n",
            "53/53 [==============================] - 1s 11ms/step - loss: 0.1903 - accuracy: 0.9467 - val_loss: 0.1552 - val_accuracy: 0.9607\n",
            "Epoch 25/25\n",
            "53/53 [==============================] - 1s 11ms/step - loss: 0.1866 - accuracy: 0.9476 - val_loss: 0.1531 - val_accuracy: 0.9595\n"
          ]
        }
      ]
    },
    {
      "cell_type": "code",
      "metadata": {
        "id": "7c8ezZ4OPOz3",
        "colab": {
          "base_uri": "https://localhost:8080/"
        },
        "outputId": "5a9fd557-4fde-4520-ec58-48213b194702"
      },
      "source": [
        "print(history.history.keys())"
      ],
      "execution_count": 28,
      "outputs": [
        {
          "output_type": "stream",
          "name": "stdout",
          "text": [
            "dict_keys(['loss', 'accuracy', 'val_loss', 'val_accuracy'])\n"
          ]
        }
      ]
    },
    {
      "cell_type": "markdown",
      "metadata": {
        "id": "mY4Lh9ILXj66"
      },
      "source": [
        "**Plot the loss function and the accuracy curves as before.**"
      ]
    },
    {
      "cell_type": "code",
      "metadata": {
        "id": "_yHkKxn9XsTR",
        "colab": {
          "base_uri": "https://localhost:8080/",
          "height": 452
        },
        "outputId": "8d70f9cb-504b-472f-b8f3-72a6f49887c1"
      },
      "source": [
        "plt.subplot(211)\n",
        "plt.title('Cross Entropy Loss')\n",
        "plt.plot(history.history['loss'], color='blue', label='train')\n",
        "plt.plot(history.history['val_loss'], color='red', label='val')\n",
        "\n",
        "# plot accuracy\n",
        "plt.subplot(212)\n",
        "plt.title('Classification Accuracy')\n",
        "plt.plot(history.history['accuracy'], color='green', label='train')\n",
        "plt.plot(history.history['val_accuracy'], color='red', label='val')\n",
        "plt.show()"
      ],
      "execution_count": 29,
      "outputs": [
        {
          "output_type": "display_data",
          "data": {
            "text/plain": [
              "<Figure size 640x480 with 2 Axes>"
            ],
            "image/png": "[encoded data removed]"
          },
          "metadata": {}
        }
      ]
    },
    {
      "cell_type": "markdown",
      "metadata": {
        "id": "Dc4OAmYxKnx2"
      },
      "source": [
        "**Print the loss and the test accuracy.**"
      ]
    },
    {
      "cell_type": "code",
      "metadata": {
        "id": "EaCBLBnCuVqS",
        "colab": {
          "base_uri": "https://localhost:8080/"
        },
        "outputId": "a702911d-8e4a-4d96-bbba-71ecb838689a"
      },
      "source": [
        "test_loss, test_acc = model.evaluate(x_test, y_test)\n",
        "print('Test loss:', test_loss)\n",
        "print('Test accuracy:', test_acc)"
      ],
      "execution_count": 30,
      "outputs": [
        {
          "output_type": "stream",
          "name": "stdout",
          "text": [
            "313/313 [==============================] - 1s 3ms/step - loss: 0.1758 - accuracy: 0.9515\n",
            "Test loss: 0.17575839161872864\n",
            "Test accuracy: 0.9514999985694885\n"
          ]
        }
      ]
    },
    {
      "cell_type": "markdown",
      "metadata": {
        "id": "aBgqZkJ7Kod0"
      },
      "source": [
        "**Print the confusion matrix for the test samples.**"
      ]
    },
    {
      "cell_type": "code",
      "metadata": {
        "id": "kAuXj1yGuFI5",
        "colab": {
          "base_uri": "https://localhost:8080/"
        },
        "outputId": "52ff8199-5c03-497c-be06-d36cf3e1dff6"
      },
      "source": [
        "import numpy as np\n",
        "predictions = model.predict(x_test)\n",
        "\n",
        "print(predictions.shape)\n",
        "predictions = np.argmax(predictions, axis=1)"
      ],
      "execution_count": 31,
      "outputs": [
        {
          "output_type": "stream",
          "name": "stdout",
          "text": [
            "313/313 [==============================] - 1s 2ms/step\n",
            "(10000, 10)\n"
          ]
        }
      ]
    },
    {
      "cell_type": "code",
      "metadata": {
        "id": "c-0N628nuO4K",
        "colab": {
          "base_uri": "https://localhost:8080/"
        },
        "outputId": "45a018f0-304b-4057-97e3-670adf35eb22"
      },
      "source": [
        "confusion_matrix(gt, predictions)"
      ],
      "execution_count": 32,
      "outputs": [
        {
          "output_type": "execute_result",
          "data": {
            "text/plain": [
              "array([[ 967,    0,    1,    1,    0,    3,    3,    2,    3,    0],\n",
              "       [   0, 1117,    2,    2,    0,    0,    4,    1,    9,    0],\n",
              "       [   7,    1,  972,   10,    7,    1,    5,   10,   15,    4],\n",
              "       [   2,    1,   12,  954,    0,   10,    1,   11,   10,    9],\n",
              "       [   1,    1,    4,    0,  937,    0,    7,    3,    3,   26],\n",
              "       [   8,    2,    0,   28,    1,  816,   12,    4,   15,    6],\n",
              "       [   8,    3,    4,    1,    6,    5,  926,    1,    4,    0],\n",
              "       [   1,    6,   18,    9,    4,    0,    0,  967,    3,   20],\n",
              "       [   6,    2,    2,   11,    6,   12,    8,    7,  910,   10],\n",
              "       [  10,    6,    1,   11,   14,    2,    1,    9,    6,  949]])"
            ]
          },
          "metadata": {},
          "execution_count": 32
        }
      ]
    },
    {
      "cell_type": "markdown",
      "metadata": {
        "id": "D-p2DMcsHOii"
      },
      "source": [
        "# **Clearing models**\n",
        "clear_session() is useful when you're creating multiple models in succession, such as during hyperparameter search or cross-validation. Each model that is trained adds nodes (potentially numbering in the thousands) to the graph. Clearing the session removes all the nodes left over from previous models, freeing memory and preventing slowdown."
      ]
    },
    {
      "cell_type": "code",
      "metadata": {
        "id": "WfWCHxh8HGhN"
      },
      "source": [
        "from keras.backend import clear_session\n",
        "clear_session()"
      ],
      "execution_count": 33,
      "outputs": []
    }
  ]
}