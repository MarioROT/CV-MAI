{
  "cells": [
    {
      "cell_type": "markdown",
      "metadata": {
        "id": "WzM1eJDG-JUY"
      },
      "source": [
        "# Laboratory #06 : Face detection and recognition\n",
        "\n",
        "At the end of this laboratory, you would get familiarized with\n",
        "\n",
        "*   Face detection\n",
        "    *   Integral images\n",
        "    *   Haar-like feature computation\n",
        "    *   Adaboost\n",
        "*   Face recognition\n",
        "    *   Eigen Faces\n",
        "    *   PCA and LDA\n",
        "\n",
        "**Remember this is a graded exercise.**\n",
        "\n",
        "*   For every plot, make sure you provide appropriate titles, axis labels, legends, wherever applicable.\n",
        "*   Create reusable functions where ever possible, so that the code could be reused at different places.\n",
        "*   Use will have to mount your drive to access the images.\n",
        "\n",
        "---"
      ]
    },
    {
      "cell_type": "code",
      "source": [
        "%%shell\n",
        "git clone https://github.com/mariorot/CV-MAI\n",
        "mv CV-MAI/scripts/* /content/\n",
        "mv 'CV-MAI/Session 6/images' /content/"
      ],
      "metadata": {
        "id": "nXK4bjeyv3SL",
        "outputId": "9380e5be-f980-42e7-cde9-9fbe3c01da52",
        "colab": {
          "base_uri": "https://localhost:8080/"
        }
      },
      "execution_count": 1,
      "outputs": [
        {
          "output_type": "stream",
          "name": "stdout",
          "text": [
            "Cloning into 'CV-MAI'...\n",
            "remote: Enumerating objects: 21081, done.\u001b[K\n",
            "remote: Counting objects: 100% (9/9), done.\u001b[K\n",
            "remote: Compressing objects: 100% (8/8), done.\u001b[K\n",
            "remote: Total 21081 (delta 3), reused 1 (delta 1), pack-reused 21072\u001b[K\n",
            "Receiving objects: 100% (21081/21081), 171.02 MiB | 34.22 MiB/s, done.\n",
            "Resolving deltas: 100% (102/102), done.\n",
            "Updating files: 100% (21037/21037), done.\n"
          ]
        },
        {
          "output_type": "execute_result",
          "data": {
            "text/plain": []
          },
          "metadata": {},
          "execution_count": 1
        }
      ]
    },
    {
      "cell_type": "code",
      "source": [
        "%load_ext autoreload\n",
        "%autoreload 2"
      ],
      "metadata": {
        "id": "5LAwYxhwv602"
      },
      "execution_count": 2,
      "outputs": []
    },
    {
      "cell_type": "code",
      "execution_count": 80,
      "metadata": {
        "id": "mozS11CSt4sz"
      },
      "outputs": [],
      "source": [
        "# Loading necessary libraries (Feel free to add new libraries if you need for any computation)\n",
        "\n",
        "import numpy as np\n",
        "from skimage import io, data\n",
        "import os\n",
        "import matplotlib\n",
        "from PIL import Image\n",
        "from multiprocessing import Pool\n",
        "from functools import partial\n",
        "import time\n",
        "import timeit\n",
        "from matplotlib import pyplot as plt\n",
        "\n",
        "import custom_plots as cp\n",
        "\n",
        "imdir = \"images/\""
      ]
    },
    {
      "cell_type": "markdown",
      "metadata": {
        "id": "xcu2FUj856xz"
      },
      "source": [
        "**Exercise #1:**\n",
        "\n",
        "*   Build a function compute_integral_image that computes the integral image of an input (2D) array. In an integral image each pixel is the sum of all pixels in the original image that are 'left and above' the pixel. See the following example:\n",
        "\n",
        "```\n",
        "Original    Integral\n",
        "+--------   +------------\n",
        "| 1 2 3 .   | 0  0  0  0 .\n",
        "| 4 5 6 .   | 0  1  3  6 .\n",
        "| . . . .   | 0  5 12 21 .\n",
        "            | . . . . . .\n",
        "```\n",
        "\n",
        "*   The integral image must have an additional row and column full of zeros (first row and first column).\n",
        "*   Make sure that the values of the integral image are correct.\n",
        "*   Plot the output of the integral image for the following array:\n",
        "\n",
        "```\n",
        "img_array = np.array([[1,2,2,2,1],[1,2,2,2,1],[1,2,2,2,1],[1,2,2,2,1]])\n",
        "```"
      ]
    },
    {
      "cell_type": "code",
      "execution_count": 246,
      "metadata": {
        "id": "-bAnhO5i3zs5"
      },
      "outputs": [],
      "source": [
        "def compute_integral_image(img_arr):\n",
        "    \"\"\"\n",
        "    Calculates the integral image based on this instance's original image data.\n",
        "    :param img_arr: Image source data\n",
        "    :type img_arr: numpy.ndarray\n",
        "    :return Integral image for given image\n",
        "    :rtype: numpy.ndarray\n",
        "    \"\"\"\n",
        "    # an index of -1 refers to the last row/column\n",
        "    # since row_sum is calculated starting from (0,0),\n",
        "    # rowSum(x, -1) == 0 holds for all x\n",
        "    row_sum = np.zeros(img_arr.shape)\n",
        "    # we need an additional column and row\n",
        "    integral_image_arr = np.zeros((img_arr.shape[0] + 1, img_arr.shape[1] + 1))\n",
        "\n",
        "    for i in range(1,integral_image_arr.shape[0]):\n",
        "      for j in range(1,integral_image_arr.shape[1]):\n",
        "        integral_image_arr[i,j] = img_arr[:i,:j].sum()\n",
        "\n",
        "    return integral_image_arr\n",
        "\n",
        "integral_image_numpy = lambda x: np.append(np.zeros((1,x.shape[1]+1)),np.append(np.zeros((x.shape[0],1)),np.cumsum(np.cumsum(x, axis=0), axis=1), axis=1), axis=0)"
      ]
    },
    {
      "cell_type": "code",
      "execution_count": 251,
      "metadata": {
        "id": "dTAqVHSp-OMf",
        "outputId": "d5b407d8-abb5-4943-8b3e-6911d39ad183",
        "colab": {
          "base_uri": "https://localhost:8080/",
          "height": 452
        }
      },
      "outputs": [
        {
          "output_type": "display_data",
          "data": {
            "text/plain": [
              "<Figure size 640x480 with 1 Axes>"
            ],
            "image/png": "[encoded data removed]"
          },
          "metadata": {}
        }
      ],
      "source": [
        "img_array = np.array([[1, 2, 2, 2, 1], [1, 2, 2, 2, 1], [1, 2, 2, 2, 1], [1, 2, 2, 2, 1]])\n",
        "plt.imshow(img_array, cmap=\"gray\", vmin=0, vmax= 5)\n",
        "plt.title(\"Array image\")\n",
        "plt.show()"
      ]
    },
    {
      "cell_type": "code",
      "source": [
        "img_array2 = np.array([[1,2,3],[4,5,6]])\n",
        "compute_integral_image(img_array2)"
      ],
      "metadata": {
        "id": "cQk8a7MNzqxf",
        "outputId": "75ddf677-3554-4962-a046-c78b47379c12",
        "colab": {
          "base_uri": "https://localhost:8080/"
        }
      },
      "execution_count": 252,
      "outputs": [
        {
          "output_type": "execute_result",
          "data": {
            "text/plain": [
              "array([[ 0.,  0.,  0.,  0.],\n",
              "       [ 0.,  1.,  3.,  6.],\n",
              "       [ 0.,  5., 12., 21.]])"
            ]
          },
          "metadata": {},
          "execution_count": 252
        }
      ]
    },
    {
      "cell_type": "code",
      "execution_count": 253,
      "metadata": {
        "id": "d-PJakhX9W6Z",
        "outputId": "f96aba01-b1f0-4958-b812-076e51cc7d1e",
        "colab": {
          "base_uri": "https://localhost:8080/"
        }
      },
      "outputs": [
        {
          "output_type": "stream",
          "name": "stdout",
          "text": [
            "[[ 0.  0.  0.  0.  0.  0.]\n",
            " [ 0.  1.  3.  5.  7.  8.]\n",
            " [ 0.  2.  6. 10. 14. 16.]\n",
            " [ 0.  3.  9. 15. 21. 24.]\n",
            " [ 0.  4. 12. 20. 28. 32.]]\n"
          ]
        }
      ],
      "source": [
        "ii_img_array = compute_integral_image(img_array)\n",
        "print(ii_img_array)"
      ]
    },
    {
      "cell_type": "code",
      "source": [
        "integral_image_numpy(img_array)"
      ],
      "metadata": {
        "id": "ez0cn6Jri9h4",
        "outputId": "b6f8c7e8-92ed-4bd7-b4ab-9c8dd9e3e310",
        "colab": {
          "base_uri": "https://localhost:8080/"
        }
      },
      "execution_count": 254,
      "outputs": [
        {
          "output_type": "execute_result",
          "data": {
            "text/plain": [
              "array([[ 0.,  0.,  0.,  0.,  0.,  0.],\n",
              "       [ 0.,  1.,  3.,  5.,  7.,  8.],\n",
              "       [ 0.,  2.,  6., 10., 14., 16.],\n",
              "       [ 0.,  3.,  9., 15., 21., 24.],\n",
              "       [ 0.,  4., 12., 20., 28., 32.]])"
            ]
          },
          "metadata": {},
          "execution_count": 254
        }
      ]
    },
    {
      "cell_type": "markdown",
      "metadata": {
        "id": "zy6EhVNxusBd"
      },
      "source": [
        "*   Test the function using 'camera' image from the data module. Plot the original image and the integral image."
      ]
    },
    {
      "cell_type": "code",
      "execution_count": 255,
      "metadata": {
        "id": "AVjtmJ-Wu09i",
        "outputId": "e4c61403-f6ef-419b-c067-443a11d63bc8",
        "colab": {
          "base_uri": "https://localhost:8080/",
          "height": 384
        }
      },
      "outputs": [
        {
          "output_type": "display_data",
          "data": {
            "text/plain": [
              "<Figure size 1000x500 with 3 Axes>"
            ],
            "image/png": "[encoded data removed]"
          },
          "metadata": {}
        }
      ],
      "source": [
        "# solution\n",
        "camera = data.camera()\n",
        "cp.custom_grids([camera, compute_integral_image(camera), integral_image_numpy(camera)],1,3,['Original', 'Integral Image', 'Numpy Integral Image'], cmap=\"gray\", axis=\"off\", figsize=(10,5)).show()"
      ]
    },
    {
      "cell_type": "markdown",
      "metadata": {
        "id": "W8_9CkCk9n2P"
      },
      "source": [
        "**Exercise #2:**\n",
        "\n",
        "*   Create a function sum_region to compute the sum of the pixel intensities within a rectangle using the integral image. The rectangle will be defined using the top left (x, y) and bottom right (x, y) coordinates."
      ]
    },
    {
      "cell_type": "code",
      "execution_count": 256,
      "metadata": {
        "id": "dU24XMd892Mw"
      },
      "outputs": [],
      "source": [
        "def sum_region(integral_img_arr, top_left, bottom_right):\n",
        "    A = integral_img_arr[top_left[0], top_left[1]]\n",
        "    AB = integral_img_arr[top_left[0], bottom_right[1]]\n",
        "    AC = integral_img_arr[bottom_right[0], top_left[1]]\n",
        "    D = integral_img_arr[bottom_right[0], bottom_right[1]]\n",
        "    return (A+D) - (AB+AC)"
      ]
    },
    {
      "cell_type": "markdown",
      "metadata": {
        "id": "631_iCxd-u0o"
      },
      "source": [
        "*   Make the following tests:"
      ]
    },
    {
      "cell_type": "code",
      "execution_count": 257,
      "metadata": {
        "id": "_T3Xk2tm-vt7",
        "outputId": "80c08d29-342c-4733-b411-b90d8de3443d",
        "colab": {
          "base_uri": "https://localhost:8080/"
        }
      },
      "outputs": [
        {
          "output_type": "execute_result",
          "data": {
            "text/plain": [
              "12.0"
            ]
          },
          "metadata": {},
          "execution_count": 257
        }
      ],
      "source": [
        "# result you should get (12)\n",
        "sum_region(ii_img_array, [1, 1], [3, 4])"
      ]
    },
    {
      "cell_type": "code",
      "execution_count": 258,
      "metadata": {
        "id": "fdUOIZ1G-9Ex",
        "outputId": "c04317e2-db27-4bff-c42f-fa5f2c32ed07",
        "colab": {
          "base_uri": "https://localhost:8080/"
        }
      },
      "outputs": [
        {
          "output_type": "execute_result",
          "data": {
            "text/plain": [
              "32.0"
            ]
          },
          "metadata": {},
          "execution_count": 258
        }
      ],
      "source": [
        "# result you should get (32)\n",
        "sum_region(ii_img_array, [0, 0], [-1, -1]).sum()"
      ]
    },
    {
      "cell_type": "markdown",
      "metadata": {
        "id": "p7JG9MJ9_HXT"
      },
      "source": [
        "**Exercise #3:**\n",
        "\n",
        "*   Build a function load_integral_images to read all the images inside a given folder and compute the integral image of every image"
      ]
    },
    {
      "cell_type": "code",
      "execution_count": 269,
      "metadata": {
        "id": "KwYt5HmA_TnD"
      },
      "outputs": [],
      "source": [
        "def load_integral_images(path):\n",
        "    ii_images = []\n",
        "    for _file in os.listdir(path):\n",
        "      #### Complte here:\n",
        "      #### Read image\n",
        "      #### Remember to scale the images (with the max pixel intensity value)\n",
        "      ii_images.append(integral_image_numpy(io.imread(path+_file))/integral_image_numpy(io.imread(path+_file)).max())\n",
        "    return ii_images\n",
        "\n",
        "\n",
        "# With this function we are reading each file in the folder, calculating its integral image and after that normalizing the image.\n",
        "# Finally we put our processed image in the list that we will return"
      ]
    },
    {
      "cell_type": "code",
      "execution_count": 284,
      "metadata": {
        "id": "n_tI5926_fO8",
        "outputId": "6c58a19b-c72d-4f5c-dace-a222da0cbe47",
        "colab": {
          "base_uri": "https://localhost:8080/"
        }
      },
      "outputs": [
        {
          "output_type": "stream",
          "name": "stderr",
          "text": [
            "<ipython-input-269-36fdcfcc8122>:7: RuntimeWarning: invalid value encountered in divide\n",
            "  ii_images.append(integral_image_numpy(io.imread(path+_file))/integral_image_numpy(io.imread(path+_file)).max())\n"
          ]
        }
      ],
      "source": [
        "# change paths to your location\n",
        "data = {f'{i}_{j}':io.imread_collection(f'images/{i}_data/{j}/*.png') for i in ['train', 'test'] for j in ['faces', 'non_faces']}\n",
        "data_ii = {f'{i}_{j}':load_integral_images(f'images/{i}_data/{j}/') for i in ['train', 'test'] for j in ['faces', 'non_faces']}"
      ]
    },
    {
      "cell_type": "markdown",
      "metadata": {
        "id": "oSqDBYX_FbF8"
      },
      "source": [
        "*   Visualize a few original images and the corresponding integral images using matplotlib."
      ]
    },
    {
      "cell_type": "code",
      "source": [
        "data[f'train_faces'][75:80]"
      ],
      "metadata": {
        "id": "BLiG5S_9E8zj",
        "outputId": "685f1d46-97c4-4112-afd0-14cc143f7be8",
        "colab": {
          "base_uri": "https://localhost:8080/"
        }
      },
      "execution_count": 317,
      "outputs": [
        {
          "output_type": "execute_result",
          "data": {
            "text/plain": [
              "<skimage.io.collection.ImageCollection at 0x7f5aa6aa8340>"
            ]
          },
          "metadata": {},
          "execution_count": 317
        }
      ]
    },
    {
      "cell_type": "code",
      "execution_count": 326,
      "metadata": {
        "id": "mtVTF3dwFaqI",
        "outputId": "1b6db912-11db-41a1-e39a-9a99d2abcabb",
        "colab": {
          "base_uri": "https://localhost:8080/",
          "height": 1000
        }
      },
      "outputs": [
        {
          "output_type": "display_data",
          "data": {
            "text/plain": [
              "<Figure size 400x1500 with 12 Axes>"
            ],
            "image/png": "[encoded data removed]"
          },
          "metadata": {}
        }
      ],
      "source": [
        "# solution\n",
        "images = sum(zip(data[f'train_faces'][75:78], data_ii[f'train_faces'][75:78]), ()) + sum(zip(data[f'train_non_faces'][76:79], data_ii[f'train_non_faces'][76:79]), ())\n",
        "titles = [t for i in range(len(images)) for t in ['original', 'Int. image']]\n",
        "cp.custom_grids(images,10,2, titles, cmap='gray', axis='off', figsize=(4,15)).show()"
      ]
    },
    {
      "cell_type": "markdown",
      "metadata": {
        "id": "YPrncRBJvxJo"
      },
      "source": [
        "**Exercise 4:**\n",
        "\n",
        "*   Compute the Haar features of an image.\n",
        "*   We provide you with HaarLikeFeature class that has build in a get_score function and a get_vote function. Your job is to complete the code of the method _create_features in the class HaarLikeFeature:"
      ]
    },
    {
      "cell_type": "code",
      "execution_count": 335,
      "metadata": {
        "id": "CrqP6Wxev_0e"
      },
      "outputs": [],
      "source": [
        "def _create_features(img_height, img_width, min_feature_width, max_feature_width, min_feature_height, max_feature_height):\n",
        "    print('Creating Haar-like features..')\n",
        "\n",
        "    t0 = time.time()\n",
        "\n",
        "    features = []\n",
        "\n",
        "    for feature in FeatureTypes:\n",
        "        # FeatureTypes are just tuples\n",
        "        feature_start_width = max(min_feature_width, feature[0])\n",
        "        for feature_width in range(feature_start_width, max_feature_width, feature[0]):\n",
        "            feature_start_height = max(min_feature_height, feature[1])\n",
        "            for feature_height in range(feature_start_height, max_feature_height, feature[1]):\n",
        "                # Loop over possible x values and y values\n",
        "                # - For each (x,y) create the HarrLikeFeature objects.\n",
        "                # - append the HaarlikeFeatures in the features list.\n",
        "                # Notice that Haarlike features contain polarity, append features for polarity 1 and -1\n",
        "                # The threshold can be set to 0 for all of them.\n",
        "                for x in range(img_width - feature_width):\n",
        "                  for y in range(img_height - feature_height):\n",
        "                    features.append(HaarLikeFeature(feature, (x,y), feature_width, feature_height, 0, 1))\n",
        "                    features.append(HaarLikeFeature(feature, (x,y), feature_width, feature_height, 0, -1))\n",
        "\n",
        "    print('\\t' + str(len(features)) + ' features created.')\n",
        "    print('\\tTime needed for calculating Harr-like features:', time.time()-t0)\n",
        "\n",
        "    return features"
      ]
    },
    {
      "cell_type": "code",
      "execution_count": 336,
      "metadata": {
        "id": "RMcmkZIWwNJ0"
      },
      "outputs": [],
      "source": [
        "def enum(**enums):\n",
        "    return type('Enum', (), enums)\n",
        "\n",
        "FeatureType = enum(TWO_VERTICAL=(1, 2), TWO_HORIZONTAL=(2, 1), THREE_HORIZONTAL=(3, 1), THREE_VERTICAL=(1, 3), FOUR=(2, 2))\n",
        "FeatureTypes = [FeatureType.TWO_VERTICAL, FeatureType.TWO_HORIZONTAL, FeatureType.THREE_VERTICAL, FeatureType.THREE_HORIZONTAL, FeatureType.FOUR]"
      ]
    },
    {
      "cell_type": "code",
      "execution_count": 338,
      "metadata": {
        "id": "0M_hQ6zwwVP5"
      },
      "outputs": [],
      "source": [
        "class HaarLikeFeature(object):\n",
        "    \"\"\"\n",
        "    Class representing a haar-like feature.\n",
        "    \"\"\"\n",
        "\n",
        "    def __init__(self, feature_type, position, width, height, threshold, polarity):\n",
        "        \"\"\"\n",
        "        Creates a new haar-like feature.\n",
        "        :param feature_type: Type of new feature, see FeatureType enum\n",
        "        :type feature_type: HaarLikeFeature.FeatureTypes\n",
        "        :param position: Top left corner where the feature begins (x, y)\n",
        "        :type position: (int, int)\n",
        "        :param width: Width of the feature\n",
        "        :type width: int\n",
        "        :param height: Height of the feature\n",
        "        :type height: int\n",
        "        :param threshold: Feature threshold\n",
        "        :type threshold: float\n",
        "        :param polarity: polarity of the feature -1 or 1\n",
        "        :type polarity: int\n",
        "        \"\"\"\n",
        "        self.type = feature_type\n",
        "        self.top_left = position\n",
        "        self.bottom_right = (position[0] + width, position[1] + height)\n",
        "        self.width = width\n",
        "        self.height = height\n",
        "        self.threshold = threshold\n",
        "        self.polarity = polarity\n",
        "        self.weight = 1\n",
        "\n",
        "    def get_score(self, int_img):\n",
        "        \"\"\"\n",
        "        Get score for given integral image array.\n",
        "        :param int_img: Integral image array\n",
        "        :type int_img: numpy.ndarray\n",
        "\n",
        "        :return: Score for given feature\n",
        "        :rtype: float\n",
        "        \"\"\"\n",
        "        score = 0\n",
        "        if self.type == FeatureType.TWO_VERTICAL:\n",
        "            first = sum_region(int_img, self.top_left, (self.top_left[0] + self.width, int(self.top_left[1] + self.height / 2)))\n",
        "            second = sum_region(int_img, (self.top_left[0], int(self.top_left[1] + self.height / 2)), self.bottom_right)\n",
        "            score = first - second\n",
        "        elif self.type == FeatureType.TWO_HORIZONTAL:\n",
        "            first = sum_region(int_img, self.top_left, (int(self.top_left[0] + self.width / 2), self.top_left[1] + self.height))\n",
        "            second = sum_region(int_img, (int(self.top_left[0] + self.width / 2), self.top_left[1]), self.bottom_right)\n",
        "            score = first - second\n",
        "        elif self.type == FeatureType.THREE_HORIZONTAL:\n",
        "            first = sum_region(int_img, self.top_left, (int(self.top_left[0] + self.width / 3), self.top_left[1] + self.height))\n",
        "            second = sum_region(int_img, (int(self.top_left[0] + self.width / 3), self.top_left[1]), (int(self.top_left[0] + 2 * self.width / 3), self.top_left[1] + self.height))\n",
        "            third = sum_region(int_img, (int(self.top_left[0] + 2 * self.width / 3), self.top_left[1]), self.bottom_right)\n",
        "            score = first - second + third\n",
        "        elif self.type == FeatureType.THREE_VERTICAL:\n",
        "            first = sum_region(int_img, self.top_left, (self.bottom_right[0], int(self.top_left[1] + self.height / 3)))\n",
        "            second = sum_region(int_img, (self.top_left[0], int(self.top_left[1] + self.height / 3)), (self.bottom_right[0], int(self.top_left[1] + 2 * self.height / 3)))\n",
        "            third = sum_region(int_img, (self.top_left[0], int(self.top_left[1] + 2 * self.height / 3)), self.bottom_right)\n",
        "            score = first - second + third\n",
        "        elif self.type == FeatureType.FOUR:\n",
        "            # top left area\n",
        "            first = sum_region(int_img, self.top_left, (int(self.top_left[0] + self.width / 2), int(self.top_left[1] + self.height / 2)))\n",
        "            # top right area\n",
        "            second = sum_region(int_img, (int(self.top_left[0] + self.width / 2), self.top_left[1]), (self.bottom_right[0], int(self.top_left[1] + self.height / 2)))\n",
        "            # bottom left area\n",
        "            third = sum_region(int_img, (self.top_left[0], int(self.top_left[1] + self.height / 2)), (int(self.top_left[0] + self.width / 2), self.bottom_right[1]))\n",
        "            # bottom right area\n",
        "            fourth = sum_region(int_img, (int(self.top_left[0] + self.width / 2), int(self.top_left[1] + self.height / 2)), self.bottom_right)\n",
        "            score = first - second - third + fourth\n",
        "        return score\n",
        "\n",
        "    def get_vote(self, int_img):\n",
        "        \"\"\"\n",
        "        Get vote of this feature for given integral image.\n",
        "        :param int_img: Integral image array\n",
        "        :type int_img: numpy.ndarray\n",
        "\n",
        "        :return: 1 iff this feature votes positively, otherwise -1\n",
        "        :rtype: int\n",
        "        \"\"\"\n",
        "        score = self.get_score(int_img)\n",
        "        return self.weight * (1 if score < self.polarity * self.threshold else -1)"
      ]
    },
    {
      "cell_type": "code",
      "execution_count": 339,
      "metadata": {
        "id": "w9Bv1TanwqEH"
      },
      "outputs": [],
      "source": [
        "def learn(positive_iis, negative_iis, num_classifiers=-1, min_feature_width=1, max_feature_width=-1, min_feature_height=1, max_feature_height=-1):\n",
        "    \"\"\"\n",
        "    Selects a set of classifiers. Iteratively takes the best classifiers based\n",
        "    on a weighted error.\n",
        "    :param positive_iis: List of positive integral image examples\n",
        "    :type positive_iis: list[numpy.ndarray]\n",
        "    :param negative_iis: List of negative integral image examples\n",
        "    :type negative_iis: list[numpy.ndarray]\n",
        "    :param num_classifiers: Number of classifiers to select, -1 will use all\n",
        "    classifiers\n",
        "    :type num_classifiers: int\n",
        "\n",
        "    :return: List of selected features\n",
        "    :rtype: list[HaarLikeFeature.HaarLikeFeature]\n",
        "    \"\"\"\n",
        "    num_pos = len(positive_iis)\n",
        "    num_neg = len(negative_iis)\n",
        "    num_imgs = num_pos + num_neg\n",
        "    img_height, img_width = positive_iis[0].shape\n",
        "\n",
        "    # Maximum feature width and height default to image width and height\n",
        "    max_feature_height = img_height if max_feature_height == -1 else max_feature_height\n",
        "    max_feature_width = img_width if max_feature_width == -1 else max_feature_width\n",
        "\n",
        "    # Create initial weights and labels\n",
        "    pos_weights = np.ones(num_pos) * 1. / (2 * num_pos)\n",
        "    neg_weights = np.ones(num_neg) * 1. / (2 * num_neg)\n",
        "    weights = np.hstack((pos_weights, neg_weights))\n",
        "    labels = np.hstack((np.ones(num_pos), np.ones(num_neg) * -1))\n",
        "\n",
        "    images = positive_iis + negative_iis\n",
        "\n",
        "    # Create features for all sizes and locations\n",
        "    features = _create_features(img_height, img_width, min_feature_width, max_feature_width, min_feature_height, max_feature_height)\n",
        "    num_features = len(features)\n",
        "    feature_indexes = list(range(num_features))\n",
        "\n",
        "    num_classifiers = num_features if num_classifiers == -1 else num_classifiers\n",
        "\n",
        "    print('Calculating scores for images..')\n",
        "    t0 = time.time()\n",
        "    votes = np.zeros((num_imgs, num_features))\n",
        "    # Use as many workers as there are CPUs\n",
        "    pool = Pool(processes=8)\n",
        "    for i in range(num_imgs):\n",
        "        votes[i, :] = np.array(list(pool.map(partial(_get_feature_vote, image=images[i]), features)))\n",
        "\n",
        "\n",
        "    print('\\tTime needed for calculating scores:', time.time()-t0)\n",
        "\n",
        "    # select classifiers\n",
        "    classifiers = []\n",
        "\n",
        "    t0 = time.time()\n",
        "    print('Selecting classifiers..')\n",
        "    for _ in range(num_classifiers):\n",
        "\n",
        "        classification_errors = np.zeros(len(feature_indexes))\n",
        "\n",
        "        # normalize weights\n",
        "        weights *= 1. / np.sum(weights)\n",
        "\n",
        "        # select best classifier based on the weighted error\n",
        "        for f in range(len(feature_indexes)):\n",
        "            f_idx = feature_indexes[f]\n",
        "            # classifier error is the sum of image weights where the classifier\n",
        "            # is right\n",
        "            error = sum(map(lambda img_idx: weights[img_idx] if labels[img_idx] != votes[img_idx, f_idx] else 0, range(num_imgs)))\n",
        "            classification_errors[f] = error\n",
        "\n",
        "        # get best feature, i.e. with smallest error\n",
        "        min_error_idx = np.argmin(classification_errors)\n",
        "        best_error = classification_errors[min_error_idx]\n",
        "        best_feature_idx = feature_indexes[min_error_idx]\n",
        "\n",
        "        # set feature weight\n",
        "        best_feature = features[best_feature_idx]\n",
        "        feature_weight = 0.5 * np.log((1 - best_error) / best_error)\n",
        "        best_feature.weight = feature_weight\n",
        "\n",
        "        classifiers.append(best_feature)\n",
        "\n",
        "        # update image weights\n",
        "        weights = np.array(list(map(lambda img_idx: weights[img_idx] * np.sqrt((1-best_error)/best_error) if labels[img_idx] != votes[img_idx, best_feature_idx] else weights[img_idx] * np.sqrt(best_error/(1-best_error)), range(num_imgs))))\n",
        "\n",
        "        # remove feature (a feature can't be selected twice)\n",
        "        feature_indexes.remove(best_feature_idx)\n",
        "\n",
        "    print('\\tTime needed for Selecting Classifiers:', time.time()-t0,'\\n')\n",
        "\n",
        "    return classifiers\n",
        "\n",
        "\n",
        "def _get_feature_vote(feature, image):\n",
        "    return feature.get_vote(image)\n",
        "\n",
        "\n",
        "def _create_features(img_height, img_width, min_feature_width, max_feature_width, min_feature_height, max_feature_height):\n",
        "    print('Creating Haar-like features..')\n",
        "    t0 = time.time()\n",
        "    features = []\n",
        "    for feature in FeatureTypes:\n",
        "        # FeatureTypes are just tuples\n",
        "        feature_start_width = max(min_feature_width, feature[0])\n",
        "        for feature_width in range(feature_start_width, max_feature_width, feature[0]):\n",
        "            feature_start_height = max(min_feature_height, feature[1])\n",
        "            for feature_height in range(feature_start_height, max_feature_height, feature[1]):\n",
        "                ########################\n",
        "                ### FILL IN HERE\n",
        "                ########################\n",
        "                # pass # remove this pass\n",
        "                for x in range(img_width - feature_width):\n",
        "                  for y in range(img_height - feature_height):\n",
        "                    features.append(HaarLikeFeature(feature, (x,y), feature_width, feature_height, 0, 1))\n",
        "                    features.append(HaarLikeFeature(feature, (x,y), feature_width, feature_height, 0, -1))\n",
        "\n",
        "    print('\\t' + str(len(features)) + ' features created.')\n",
        "    print('\\tTime needed for calculating Harr-like features:', time.time()-t0)\n",
        "    return features"
      ]
    },
    {
      "cell_type": "markdown",
      "metadata": {
        "id": "rHuYBeQyxYGs"
      },
      "source": [
        "**Exercise #5:**\n",
        "\n",
        "*   Use the learn method to learn a list of two classifiers with the train data. With the learn function you can build a list of classifiers that detect whether an image contains a face or not.\n",
        "\n",
        "*   Use the following hyperparameters of the features and num_classifiers"
      ]
    },
    {
      "cell_type": "code",
      "execution_count": 341,
      "metadata": {
        "id": "YqnJpKbty91Z"
      },
      "outputs": [],
      "source": [
        "num_classifiers = 2\n",
        "min_feature_height = 8\n",
        "max_feature_height = 10\n",
        "min_feature_width = 8\n",
        "max_feature_width = 10"
      ]
    },
    {
      "cell_type": "code",
      "execution_count": 342,
      "metadata": {
        "id": "5OTwWIizy_1T",
        "outputId": "cc3a9d75-84d9-4a69-d5e5-00f590674c2e",
        "colab": {
          "base_uri": "https://localhost:8080/"
        }
      },
      "outputs": [
        {
          "output_type": "stream",
          "name": "stdout",
          "text": [
            "Creating Haar-like features..\n",
            "\t2496 features created.\n",
            "\tTime needed for calculating Harr-like features: 0.008076190948486328\n",
            "Calculating scores for images..\n",
            "\tTime needed for calculating scores: 414.3172342777252\n",
            "Selecting classifiers..\n",
            "\tTime needed for Selecting Classifiers: 39.819581031799316 \n",
            "\n",
            "CPU times: user 3min 40s, sys: 15.1 s, total: 3min 55s\n",
            "Wall time: 7min 34s\n"
          ]
        }
      ],
      "source": [
        "%%time\n",
        "classifiers = learn(data_ii['train_faces'], data_ii['train_non_faces'], num_classifiers, min_feature_width, max_feature_width, min_feature_height, max_feature_height)"
      ]
    },
    {
      "cell_type": "code",
      "source": [
        "votes = lambda x: max(set(x), key=x.count)\n",
        "int(votes([True,False]))"
      ],
      "metadata": {
        "id": "5DpWVur1WzJ7",
        "outputId": "d37c3c85-3203-4d85-d261-4b8aa2acd2ff",
        "colab": {
          "base_uri": "https://localhost:8080/"
        }
      },
      "execution_count": 356,
      "outputs": [
        {
          "output_type": "execute_result",
          "data": {
            "text/plain": [
              "0"
            ]
          },
          "metadata": {},
          "execution_count": 356
        }
      ]
    },
    {
      "cell_type": "code",
      "source": [
        "[True,False,False].count(False)"
      ],
      "metadata": {
        "id": "JEKgixNzbkXr",
        "outputId": "bdc8e390-3aa4-4eb5-b910-82036c17e606",
        "colab": {
          "base_uri": "https://localhost:8080/"
        }
      },
      "execution_count": 357,
      "outputs": [
        {
          "output_type": "execute_result",
          "data": {
            "text/plain": [
              "2"
            ]
          },
          "metadata": {},
          "execution_count": 357
        }
      ]
    },
    {
      "cell_type": "markdown",
      "metadata": {
        "id": "nOSfL5GezGux"
      },
      "source": [
        "**Exercise #6:**\n",
        "\n",
        "*   Make a function for voting with different classifiers\n",
        "*   Build two functions ensemble_vote and ensemble_vote_all.\n",
        "*   **ensemble_vote(int_img, classifiers)** has to return a 1 if the majority of the votes of the classifiers is positive and a zero otherwise\n",
        "*   **ensemble_vote_all(int_imgs, classifiers)** has to loop over the list int_imgs and compute the ensemble_vote for each image in the list. It has to return a list containing all the votes for all the images in int_imgs.\n"
      ]
    },
    {
      "cell_type": "code",
      "execution_count": null,
      "metadata": {
        "id": "v8ITkNPI1vo9"
      },
      "outputs": [],
      "source": [
        "# solution\n",
        "def esemble_vote(int_img, classifiers):\n",
        "    votes = [c.get_vot(int_img)>0 for c in classifiers]\n",
        "    pos =\n",
        "    return"
      ]
    },
    {
      "cell_type": "markdown",
      "metadata": {
        "id": "fgn_vG0e1aFs"
      },
      "source": [
        "*   Use the functions to compute the train and test acurracies for faces and non faces.\n",
        "*   Print the results in the following format:\n",
        "\n",
        "```\n",
        "train results:\n",
        "Correctly identified Faces: 2129/2429  (87.64923836969946%)\n",
        "Correctly identified non-Faces: 4276/8548  (50.02339728591484%)\n",
        "\n",
        "test results:\n",
        "Correctly identified Faces: 300/472  (63.559322033898304%)\n",
        "Correctly identified non-Faces: 74/128  (57.8125%)\n",
        "```\n",
        "\n",
        "*   It is not required to get this exact results but print the information in this format. It facilitates understanding the results."
      ]
    },
    {
      "cell_type": "code",
      "execution_count": null,
      "metadata": {
        "id": "_eCiAycJ1yCT"
      },
      "outputs": [],
      "source": [
        "# solution\n",
        "\n"
      ]
    },
    {
      "cell_type": "markdown",
      "metadata": {
        "id": "GzNiYc-g13n_"
      },
      "source": [
        "**Exercise #7:**\n",
        "\n",
        "*   Make another test with 20 classifiers instead of 2.\n",
        "*   Inspect the classification results if you use adaboost with 20 classifiers. *   Use the same hyperameters for the features. Print the results as in the previous exercise."
      ]
    },
    {
      "cell_type": "code",
      "execution_count": null,
      "metadata": {
        "id": "SYbr5B7Q14yM"
      },
      "outputs": [],
      "source": [
        "num_classifiers = 20\n",
        "min_feature_height = 8\n",
        "max_feature_height = 10\n",
        "min_feature_width = 8\n",
        "max_feature_width = 10"
      ]
    },
    {
      "cell_type": "code",
      "execution_count": null,
      "metadata": {
        "id": "G4n9iv_T16_n"
      },
      "outputs": [],
      "source": [
        "%%time\n",
        "#classifiers_20 = learn(...)"
      ]
    },
    {
      "cell_type": "markdown",
      "metadata": {
        "id": "lx7pAdkt2Las"
      },
      "source": [
        "*   Discuss if the classification results improved in the train data.\n"
      ]
    },
    {
      "cell_type": "markdown",
      "metadata": {
        "id": "uIDiUnYy2Sd_"
      },
      "source": [
        "**Solution**\n",
        "\n",
        "*(Double-click or enter to edit)*\n",
        "\n",
        "..."
      ]
    },
    {
      "cell_type": "markdown",
      "metadata": {
        "id": "KVRDrIVq2Uqc"
      },
      "source": [
        "**Exercise #8:**\n",
        "\n",
        "*   Change the voting functions so that you can set a threshold for deciding a prediction.\n",
        "*   The threshold value indicates the minimum score for assigning a \"positive\" label (detect a face).\n",
        "*   Create the following functions\n",
        "    *   ensemble_vote_t: returns the final decision of a list of classifiers for a given threshold.\n",
        "    *   ensemble_vote_all_t: Iterates over a list of integral images and returns the final decision of a list of classifiers for each of the images (for a given threshold)."
      ]
    },
    {
      "cell_type": "code",
      "execution_count": null,
      "metadata": {
        "id": "dVKa6Ou12jo9"
      },
      "outputs": [],
      "source": [
        "# solution\n",
        "\n"
      ]
    },
    {
      "cell_type": "markdown",
      "metadata": {
        "id": "xurLySYg2kIL"
      },
      "source": [
        "*   Using the list of 20 classifiers compute the following:\n",
        "\n",
        "    1.   number of correct faces over all faces (in the train data)\n",
        "    2.   number of correct non faces over all non faces (in the train data)\n",
        "    3.   number of correct faces over all faces (in the test data)\n",
        "    4.   number of correct non faces over all non faces (in the test data)\n",
        "\n",
        "*   The quantities have to be computed for each of the following thresholds:\n",
        "```\n",
        "thresholds = np.array([x for x in range(-5,5,1)])/10.\n",
        "```"
      ]
    },
    {
      "cell_type": "code",
      "execution_count": null,
      "metadata": {
        "id": "qdzWEiPc3FDd"
      },
      "outputs": [],
      "source": [
        "# solution\n",
        "\n"
      ]
    },
    {
      "cell_type": "markdown",
      "metadata": {
        "id": "wg8-nXwc3GCu"
      },
      "source": [
        "*   Make a bar plot for 1-4. In the x axis write the threshold value."
      ]
    },
    {
      "cell_type": "code",
      "execution_count": null,
      "metadata": {
        "id": "guWtTfnN3NwQ"
      },
      "outputs": [],
      "source": [
        "# solution\n",
        "\n"
      ]
    },
    {
      "cell_type": "markdown",
      "metadata": {
        "id": "Ed954GYs3IwK"
      },
      "source": [
        "*   Discuss what happens when you increase the threshold value."
      ]
    },
    {
      "cell_type": "markdown",
      "metadata": {
        "id": "Ri9kU3wa3Rei"
      },
      "source": [
        "**Solution**\n",
        "\n",
        "*(Double-click or enter to edit)*\n",
        "\n",
        "..."
      ]
    },
    {
      "cell_type": "markdown",
      "metadata": {
        "id": "b0o_rbZ5bl42"
      },
      "source": [
        "# Face Recognition"
      ]
    },
    {
      "cell_type": "code",
      "execution_count": null,
      "metadata": {
        "id": "MAayTY19blQt"
      },
      "outputs": [],
      "source": [
        "# Loading necessary libraries (Feel free to add new libraries if you need for any computation)\n",
        "\n",
        "from time import time\n",
        "import logging\n",
        "import matplotlib.pyplot as plt\n",
        "\n",
        "from sklearn.model_selection import train_test_split\n",
        "from sklearn.model_selection import GridSearchCV\n",
        "from sklearn.datasets import fetch_lfw_people\n",
        "from sklearn.metrics import classification_report\n",
        "from sklearn.metrics import confusion_matrix\n",
        "from sklearn.decomposition import PCA\n",
        "from sklearn.svm import SVC"
      ]
    },
    {
      "cell_type": "code",
      "execution_count": null,
      "metadata": {
        "id": "mm9ASG8Cbt8S"
      },
      "outputs": [],
      "source": [
        "# Download the data, if not already on disk and load it as numpy arrays\n",
        "\n",
        "lfw_people = fetch_lfw_people(min_faces_per_person=70, resize=0.4)\n",
        "\n",
        "# introspect the images arrays to find the shapes\n",
        "n_samples, h, w = lfw_people.images.shape\n",
        "\n",
        "# for machine learning we use the 2 data directly (as relative pixel\n",
        "# positions info is ignored by this model)\n",
        "X = lfw_people.data\n",
        "n_features = X.shape[1]\n",
        "\n",
        "# the label to predict is the id of the person\n",
        "y = lfw_people.target\n",
        "target_names = lfw_people.target_names\n",
        "n_classes = target_names.shape[0]\n",
        "\n",
        "print(\"Total dataset size:\")\n",
        "print(\"n_samples: %d\" % n_samples)\n",
        "print(\"n_features: %d\" % n_features)\n",
        "print(\"n_classes: %d\" % n_classes)"
      ]
    },
    {
      "cell_type": "code",
      "execution_count": null,
      "metadata": {
        "id": "bZDOq5L9byIc"
      },
      "outputs": [],
      "source": [
        "# split into a training and testing set\n",
        "X_train, X_test, y_train, y_test = train_test_split(X, y, test_size=0.25, random_state=42)"
      ]
    },
    {
      "cell_type": "code",
      "execution_count": null,
      "metadata": {
        "id": "6Fk3-1LWb0NM"
      },
      "outputs": [],
      "source": [
        "# Compute a PCA (eigenfaces) on the face dataset (treated as unlabeled\n",
        "# dataset): unsupervised feature extraction / dimensionality reduction\n",
        "\n",
        "n_components = 100\n",
        "\n",
        "print(\"Extracting the top %d eigenfaces from %d faces\" % (n_components, X_train.shape[0]))\n",
        "t0 = time()\n",
        "\n",
        "pca = PCA(n_components=n_components, svd_solver='randomized',\n",
        "          whiten=True).fit(X_train)\n",
        "\n",
        "print(\"done in %0.3fs\" % (time() - t0))\n",
        "\n",
        "eigenfaces = pca.components_.reshape((n_components, h, w))"
      ]
    },
    {
      "cell_type": "code",
      "execution_count": null,
      "metadata": {
        "id": "PCxUQ13FscJN"
      },
      "outputs": [],
      "source": [
        "print(\"Projecting the input data on the eigenfaces orthonormal basis\")\n",
        "t0 = time()\n",
        "\n",
        "X_train_pca = pca.transform(X_train)\n",
        "X_test_pca = pca.transform(X_test)\n",
        "\n",
        "print(\"done in %0.3fs\" % (time() - t0))"
      ]
    },
    {
      "cell_type": "code",
      "execution_count": null,
      "metadata": {
        "id": "s0_Q7bEJb2Rk"
      },
      "outputs": [],
      "source": [
        "# Train a SVM classification model\n",
        "\n",
        "print(\"Fitting the classifier to the training set\")\n",
        "\n",
        "t0 = time()\n",
        "param_grid = {'C': [1e3, 5e3, 1e4, 5e4, 1e5],\n",
        "              'gamma': [0.0001, 0.0005, 0.001, 0.005, 0.01, 0.1], }\n",
        "\n",
        "clf = GridSearchCV(SVC(kernel='rbf', class_weight='balanced'),\n",
        "                   param_grid, cv=5, iid=False)\n",
        "clf = clf.fit(X_train_pca, y_train)\n",
        "\n",
        "print(\"done in %0.3fs\" % (time() - t0))\n",
        "print(\"Best estimator found by grid search:\")\n",
        "print(clf.best_estimator_)"
      ]
    },
    {
      "cell_type": "code",
      "execution_count": null,
      "metadata": {
        "id": "GWpJTUmFb39U"
      },
      "outputs": [],
      "source": [
        "# Quantitative evaluation of the model quality on the test set\n",
        "\n",
        "print(\"Predicting people's names on the test set\")\n",
        "t0 = time()\n",
        "\n",
        "y_pred = clf.predict(X_test_pca)\n",
        "print(\"done in %0.3fs\" % (time() - t0))"
      ]
    },
    {
      "cell_type": "code",
      "execution_count": null,
      "metadata": {
        "id": "400D8Q50ssMu"
      },
      "outputs": [],
      "source": [
        "print(classification_report(y_test, y_pred, target_names=target_names))"
      ]
    },
    {
      "cell_type": "code",
      "execution_count": null,
      "metadata": {
        "id": "-fxqArN9st78"
      },
      "outputs": [],
      "source": [
        "print(confusion_matrix(y_test, y_pred, labels=range(n_classes)))"
      ]
    },
    {
      "cell_type": "code",
      "execution_count": null,
      "metadata": {
        "id": "8v3p-cffb6Pb"
      },
      "outputs": [],
      "source": [
        "# Qualitative evaluation of the predictions using matplotlib\n",
        "\n",
        "def plot_gallery(images, titles, h, w, n_row=3, n_col=4):\n",
        "    \"\"\"Helper function to plot a gallery of portraits\"\"\"\n",
        "    plt.figure(figsize=(1.8 * n_col, 2.4 * n_row))\n",
        "    plt.subplots_adjust(bottom=0, left=.01, right=.99, top=.90, hspace=.35)\n",
        "    for i in range(n_row * n_col):\n",
        "        plt.subplot(n_row, n_col, i + 1)\n",
        "        plt.imshow(images[i].reshape((h, w)), cmap=plt.cm.gray)\n",
        "        plt.title(titles[i], size=12)\n",
        "        plt.xticks(())\n",
        "        plt.yticks(())\n",
        "\n",
        "\n",
        "# plot the result of the prediction on a portion of the test set\n",
        "def title(y_pred, y_test, target_names, i):\n",
        "    pred_name = target_names[y_pred[i]].rsplit(' ', 1)[-1]\n",
        "    true_name = target_names[y_test[i]].rsplit(' ', 1)[-1]\n",
        "    return 'predicted: %s\\ntrue:      %s' % (pred_name, true_name)\n",
        "\n",
        "\n",
        "prediction_titles = [title(y_pred, y_test, target_names, i)\n",
        "                     for i in range(y_pred.shape[0])]\n",
        "\n",
        "plot_gallery(X_test, prediction_titles, h, w)"
      ]
    },
    {
      "cell_type": "code",
      "execution_count": null,
      "metadata": {
        "id": "dhRvTppZs0I1"
      },
      "outputs": [],
      "source": [
        "# plot the gallery of the most significative eigenfaces\n",
        "\n",
        "eigenface_titles = [\"eigenface %d\" % i for i in range(eigenfaces.shape[0])]\n",
        "plot_gallery(eigenfaces, eigenface_titles, h, w)\n",
        "\n",
        "plt.show()"
      ]
    },
    {
      "cell_type": "markdown",
      "metadata": {
        "id": "PGE2CDmeprup"
      },
      "source": [
        "**Exercise #1:**\n",
        "\n",
        "*   Show the total percentage of variance explained by the selected components of the PCA.\n"
      ]
    },
    {
      "cell_type": "code",
      "execution_count": null,
      "metadata": {
        "id": "iun4uPF7MVIj"
      },
      "outputs": [],
      "source": [
        "# solution\n",
        "\n"
      ]
    },
    {
      "cell_type": "markdown",
      "metadata": {
        "id": "cbwzTydgqBnp"
      },
      "source": [
        "**Exercise #2:**\n",
        "\n",
        "*   Explain all the measures showed in the classification report.\n",
        "*   Discuss the obtained classification results, the quantitative as well as the qualitative results.\n",
        "*   Comment the showed eigenfaces.\n",
        "\n"
      ]
    },
    {
      "cell_type": "markdown",
      "metadata": {
        "id": "tmXPb6JMMcKb"
      },
      "source": [
        "**Solution**\n",
        "\n",
        "*(Double-click or enter to edit)*\n",
        "\n",
        "..."
      ]
    },
    {
      "cell_type": "markdown",
      "metadata": {
        "id": "ssIri9MaqQgw"
      },
      "source": [
        "**Exercise #3:**\n",
        "\n",
        "*   Change the strategy for dimensionality reduction from PCA to LDA.\n",
        "*   *Hint: You can use sklearn.discriminant_analysis.LinearDiscriminantAnalysis*"
      ]
    },
    {
      "cell_type": "code",
      "execution_count": null,
      "metadata": {
        "id": "h5-rL47RpyFs"
      },
      "outputs": [],
      "source": [
        "# solution\n",
        "\n"
      ]
    },
    {
      "cell_type": "markdown",
      "metadata": {
        "id": "mu7-PCPVqdQ4"
      },
      "source": [
        "*   How many dimensions are we obtaining in the new space? Why?\n",
        "*   Comment the results and compare them with the ones obtained with PCA.\n",
        "*   Explain which is the main difference between the two approaches."
      ]
    },
    {
      "cell_type": "markdown",
      "metadata": {
        "id": "OwOBFVa0qhlh"
      },
      "source": [
        "**Solution**\n",
        "\n",
        "*(Double-click or enter to edit)*\n",
        "\n",
        "..."
      ]
    }
  ],
  "metadata": {
    "colab": {
      "name": "p5_face_detection_and_recognition.ipynb",
      "provenance": []
    },
    "kernelspec": {
      "display_name": "Python 3 (ipykernel)",
      "language": "python",
      "name": "python3"
    },
    "language_info": {
      "codemirror_mode": {
        "name": "ipython",
        "version": 3
      },
      "file_extension": ".py",
      "mimetype": "text/x-python",
      "name": "python",
      "nbconvert_exporter": "python",
      "pygments_lexer": "ipython3",
      "version": "3.10.12"
    }
  },
  "nbformat": 4,
  "nbformat_minor": 0
}