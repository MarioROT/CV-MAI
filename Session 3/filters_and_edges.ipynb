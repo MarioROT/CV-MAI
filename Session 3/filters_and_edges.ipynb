{
 "cells": [
  {
   "cell_type": "markdown",
   "metadata": {
    "id": "Iwv2M0NNwTcy"
   },
   "source": [
    "# Laboratory #03 : Filters and Edges\n",
    "\n",
    "At the end of this laboratory, you would get familiarized with\n",
    "\n",
    "*   Convolution\n",
    "*   Image Filters\n",
    "*   Edge detection\n",
    "\n",
    "## **Remember this is a graded exercise.**\n",
    "\n",
    "*   For every plot, make sure you provide appropriate titles, axis labels, legends, wherever applicable.\n",
    "*   Add sufficient comments and explanations wherever necessary.\n",
    "\n",
    "---"
   ]
  },
  {
   "cell_type": "code",
   "execution_count": null,
   "metadata": {
    "id": "8GrOL61mUewe"
   },
   "outputs": [],
   "source": [
    "# Loading necessary libraries (Feel free to add new libraries if you need for any computation)\n",
    "\n",
    "import numpy as np\n",
    "from matplotlib import pyplot as plt\n",
    "from skimage import color, data, exposure, feature, filters, io, morphology, util"
   ]
  },
  {
   "cell_type": "markdown",
   "metadata": {
    "id": "Ajkvg3V4RU5B"
   },
   "source": [
    "# Convolution\n",
    "Hint: \n",
    "*   *convolve function is available in scipy.ndimage module*\n",
    "*   The mask has to be normalized before convolving with the image\n",
    "\n",
    "### Exercise:\n",
    "*   Read 'camera' image from the data module\n",
    "*   Convolve the image with a horizontal mask:  (1 x 15) with all values set to ones\n"
   ]
  },
  {
   "cell_type": "code",
   "execution_count": null,
   "metadata": {
    "id": "yesMVxipPeh0"
   },
   "outputs": [],
   "source": [
    "# solution\n",
    "\n"
   ]
  },
  {
   "cell_type": "markdown",
   "metadata": {
    "id": "Xk-e5_KKhNgl"
   },
   "source": [
    "*   Convolve the image with a vertical mask:  (15 x 1) with all values set to ones"
   ]
  },
  {
   "cell_type": "code",
   "execution_count": null,
   "metadata": {
    "id": "zEp1u1mLzcsX"
   },
   "outputs": [],
   "source": [
    "# solution\n",
    "\n"
   ]
  },
  {
   "cell_type": "markdown",
   "metadata": {
    "id": "yv8lASKfhWgw"
   },
   "source": [
    "*   Convolve the image with a 2D mask:  (15 x 15) with all values set to ones"
   ]
  },
  {
   "cell_type": "code",
   "execution_count": null,
   "metadata": {
    "id": "qIm-a_Xkz2BE"
   },
   "outputs": [],
   "source": [
    "# solution\n",
    "\n"
   ]
  },
  {
   "cell_type": "markdown",
   "metadata": {
    "id": "ZfTvX5fuiTnc"
   },
   "source": [
    "*   Visualize the original image, horizontal convolution, vertical convolution, 2D convolution using matplotlib subplot."
   ]
  },
  {
   "cell_type": "code",
   "execution_count": null,
   "metadata": {
    "id": "SdcWwKC8ik0w"
   },
   "outputs": [],
   "source": [
    "# solution\n",
    "\n"
   ]
  },
  {
   "cell_type": "markdown",
   "metadata": {
    "id": "7T9nKqB0h5zZ"
   },
   "source": [
    "*   Apply 2 stage convolution: Horizontal mask (1 x 15) with all values set to 1 followed by vertical mask (15 x 1) with all values set to 1\n",
    "*   Visualize the original image, 2D convolved image, 2 stage convolved image using matplotlib subplot.\n"
   ]
  },
  {
   "cell_type": "code",
   "execution_count": null,
   "metadata": {
    "id": "raKiaNJiiTQT"
   },
   "outputs": [],
   "source": [
    "# solution\n",
    "\n"
   ]
  },
  {
   "cell_type": "markdown",
   "metadata": {
    "id": "S5RhnV6QxW57"
   },
   "source": [
    "*   Is the result different from applying convolution with 2D mask (15 x 15) with all values set to 1?"
   ]
  },
  {
   "cell_type": "markdown",
   "metadata": {
    "id": "Ret9l0NHimS1"
   },
   "source": [
    "**Solution**\n",
    "\n",
    "*(Double-click or enter to edit)*\n",
    "\n",
    "..."
   ]
  },
  {
   "cell_type": "markdown",
   "metadata": {
    "id": "-gyaOq09qzjI"
   },
   "source": [
    "# Image Blurring\n",
    "\n",
    "*   Why is blurring important?\n"
   ]
  },
  {
   "cell_type": "markdown",
   "metadata": {
    "id": "6ai06xljxytD"
   },
   "source": [
    "\n",
    "**Solution**\n",
    "\n",
    "*(Double-click or enter to edit)*\n",
    "\n",
    "..."
   ]
  },
  {
   "cell_type": "markdown",
   "metadata": {
    "id": "SabOdD3Ftmbc"
   },
   "source": [
    "### Exercise: Gaussian Filter\n",
    "*   Read 'astronaut' image from the data module\n",
    "*   Convert the image to grayscale.\n",
    "*   Apply a gaussian filter with sigma=1\n",
    "*   Hint: *gaussian function is available in skimage.filters module*"
   ]
  },
  {
   "cell_type": "code",
   "execution_count": null,
   "metadata": {
    "id": "aBt9iR55yDDI"
   },
   "outputs": [],
   "source": [
    "# solution\n",
    "\n"
   ]
  },
  {
   "cell_type": "markdown",
   "metadata": {
    "id": "uAvFyzcZt4Cp"
   },
   "source": [
    "*   Apply a gaussian filter with sigma=0. What is the result of this operation?"
   ]
  },
  {
   "cell_type": "code",
   "execution_count": null,
   "metadata": {
    "id": "wl20ajyeyEoN"
   },
   "outputs": [],
   "source": [
    "# solution\n",
    "\n"
   ]
  },
  {
   "cell_type": "markdown",
   "metadata": {
    "id": "AFWdVUMSuBQA"
   },
   "source": [
    "*   Vary the value of sigma in the gaussian filter. Apply sigma=0.25, 0.5, 1, 1.5, 2, 5\n",
    "*   Visualize the different results using matplotlib subplot."
   ]
  },
  {
   "cell_type": "code",
   "execution_count": null,
   "metadata": {
    "id": "UJgVg8K3yFQW"
   },
   "outputs": [],
   "source": [
    "# solution\n",
    "\n"
   ]
  },
  {
   "cell_type": "markdown",
   "metadata": {
    "id": "IqSlAVrksVVr"
   },
   "source": [
    "*    What happens when a larger sigma value is used and what happens when a smaller sigma value is used in the gaussian filter?\n",
    "*    What determines the optimal sigma value?\n",
    "\n"
   ]
  },
  {
   "cell_type": "markdown",
   "metadata": {
    "id": "OXBSE-K3yRWF"
   },
   "source": [
    "\n",
    "**Solution**\n",
    "\n",
    "*(Double-click or enter to edit)*\n",
    "\n",
    "..."
   ]
  },
  {
   "cell_type": "markdown",
   "metadata": {
    "id": "Jk72tQut0o-v"
   },
   "source": [
    "### Exercise: Median Filter\n",
    "*   Convert the 'astronauts' image to grayscale\n",
    "*   Apply median filter with a disk structuring element of radius 1, 5, 10\n",
    "*   Visualize the original image and the filtered image matplotlib subplot."
   ]
  },
  {
   "cell_type": "code",
   "execution_count": null,
   "metadata": {
    "id": "xIURzvjo1O_l"
   },
   "outputs": [],
   "source": [
    "# solution\n",
    "\n"
   ]
  },
  {
   "cell_type": "markdown",
   "metadata": {
    "id": "V6hqJ3UhJMAu"
   },
   "source": [
    "*   Change the structuring element to square, rectangle and diamond\n",
    "*   Visualize the original image and the filtered image using matplotlib"
   ]
  },
  {
   "cell_type": "code",
   "execution_count": null,
   "metadata": {
    "id": "MJkAfZWeJONA"
   },
   "outputs": [],
   "source": [
    "# solution\n",
    "\n"
   ]
  },
  {
   "cell_type": "markdown",
   "metadata": {
    "id": "4AQl3P-maZ70"
   },
   "source": [
    "*   What is the effect of the structuring element on the median filter?"
   ]
  },
  {
   "cell_type": "markdown",
   "metadata": {
    "id": "fbdHabBtabZO"
   },
   "source": [
    "\n",
    "**Solution**\n",
    "\n",
    "*(Double-click or enter to edit)*\n",
    "\n",
    "..."
   ]
  },
  {
   "cell_type": "markdown",
   "metadata": {
    "id": "4rJqFXgpsgY-"
   },
   "source": [
    "*   What is the difference between gaussian filter, mean filter and median filter?\n",
    "*   Provide an example where each one would be used."
   ]
  },
  {
   "cell_type": "markdown",
   "metadata": {
    "id": "tTidm13ryRmo"
   },
   "source": [
    "\n",
    "**Solution**\n",
    "\n",
    "*(Double-click or enter to edit)*\n",
    "\n",
    "..."
   ]
  },
  {
   "cell_type": "markdown",
   "metadata": {
    "id": "S0dxN9Hphbjw"
   },
   "source": [
    "### Exercise: Effect of noise\n",
    "\n",
    "It is easy to add noise to an image using the random_noise function available in skimage.util"
   ]
  },
  {
   "cell_type": "code",
   "execution_count": null,
   "metadata": {
    "id": "dOIP4lCJhyId"
   },
   "outputs": [],
   "source": [
    "from skimage.util import random_noise\n",
    "image = data.astronaut()\n",
    "image = color.rgb2gray(image)\n",
    "\n",
    "img_noise = random_noise(image, mode='s&p')  # salt and pepper noise is added\n",
    "\n",
    "fig, ax = plt.subplots(ncols=2, nrows=1, figsize=(15, 7))\n",
    "\n",
    "ax[0].imshow(image, cmap='gray')\n",
    "ax[0].set_title('Gray image')\n",
    "ax[1].imshow(img_noise, cmap='gray')\n",
    "ax[1].set_title('Salt and pepper noise')\n",
    "\n",
    "plt.show()"
   ]
  },
  {
   "cell_type": "markdown",
   "metadata": {
    "id": "jFCeUpKJmeTe"
   },
   "source": [
    "*   Create noisy images with **gaussian** noise and **salt and pepper** noise.\n",
    "*   Apply mean filter, median filter and gaussian filter in each of the noisy images.\n",
    "*   Visualize the images and observe the difference in each filter with respect to the noise."
   ]
  },
  {
   "cell_type": "code",
   "execution_count": null,
   "metadata": {
    "id": "yUK0aGsbm9O1"
   },
   "outputs": [],
   "source": [
    "# solution\n",
    "\n"
   ]
  },
  {
   "cell_type": "markdown",
   "metadata": {
    "id": "xt8ZBzRim9z_"
   },
   "source": [
    "*   Which filter works better for gaussian noise and which filter works better for salt and pepper noise? Explain your choice of the filter for that particular type of noise."
   ]
  },
  {
   "cell_type": "markdown",
   "metadata": {
    "id": "oLWWq5IdnOzi"
   },
   "source": [
    "\n",
    "**Solution**\n",
    "\n",
    "*(Double-click or enter to edit)*\n",
    "\n",
    "..."
   ]
  },
  {
   "cell_type": "markdown",
   "metadata": {
    "id": "T-gYjvCYJYN1"
   },
   "source": [
    "# Image Sharpening\n",
    "\n",
    "A sharpening filter can be broken down into two steps: It takes a smoothed image, subtracts it from the original image to obtain the \"details\" of the image, and adds the \"details\" to the original image.\n",
    "\n",
    "enhanced image = original + amount * (original - blurred)\n",
    "\n",
    "### Exercise:\n",
    "*   Read 'moon' image from the data module\n",
    "*   Perform smoothing using a gaussian filter of sigma 1\n",
    "*   Subtract the smoothened image from the original image.\n",
    "*   Enhance the image with amount=1\n",
    "*   Visualize each of the steps using matplotlib"
   ]
  },
  {
   "cell_type": "code",
   "execution_count": null,
   "metadata": {
    "id": "6Fx_-GGxJcCF"
   },
   "outputs": [],
   "source": [
    "# solution\n",
    "\n"
   ]
  },
  {
   "cell_type": "markdown",
   "metadata": {
    "id": "o-FFSHCfFIf9"
   },
   "source": [
    "*   Keeping amount=1, change the value of sigma=5,10 and repeat the enhancements\n",
    "*   Using the best sigma value, vary the amount value=0.5,2,5,10\n",
    "*   Visualize the sharpened images using matplotlib"
   ]
  },
  {
   "cell_type": "code",
   "execution_count": null,
   "metadata": {
    "id": "MLbhkc_R3_VY"
   },
   "outputs": [],
   "source": [
    "# solution\n",
    "\n"
   ]
  },
  {
   "cell_type": "markdown",
   "metadata": {
    "id": "IjHihdMe4w4N"
   },
   "source": [
    "# Edge Detection\n",
    "\n",
    "### Exercise:\n",
    "*   Read 'camera' image from the data module\n",
    "*   Perform sobel, prewitt and roberts edge detection on the image\n",
    "*   Visualize the original image, the edges and the edges superimposed on the original image"
   ]
  },
  {
   "cell_type": "code",
   "execution_count": null,
   "metadata": {
    "id": "ISR07XJA5Rbf"
   },
   "outputs": [],
   "source": [
    "# solution\n",
    "\n"
   ]
  },
  {
   "cell_type": "markdown",
   "metadata": {
    "id": "uYEGHIOC5X28"
   },
   "source": [
    "\n",
    "*   What is the difference between each of the edge detectors?\n",
    "*   What does you think is the limitation of each of the detector?\n"
   ]
  },
  {
   "cell_type": "markdown",
   "metadata": {
    "id": "zZ5r6MXX5hDA"
   },
   "source": [
    "\n",
    "**Solution**\n",
    "\n",
    "*(Double-click or enter to edit)*\n",
    "\n",
    "..."
   ]
  },
  {
   "cell_type": "markdown",
   "metadata": {
    "id": "JS_n8W96Jia-"
   },
   "source": [
    "### Exercise: Canny edge detector\n",
    "*   Read 'camera' image from the data module\n",
    "*   Apply canny operator with default parameters\n",
    "*   Apply canny by varying sigma=1, 3, 5, 10\n",
    "*   Visualize the original image along with the edges detected using matplotlib."
   ]
  },
  {
   "cell_type": "code",
   "execution_count": null,
   "metadata": {
    "id": "TEq9RQ3v6ZtZ"
   },
   "outputs": [],
   "source": [
    "# solution\n",
    "\n"
   ]
  },
  {
   "cell_type": "markdown",
   "metadata": {
    "id": "fm7ZT_CF6a7f"
   },
   "source": [
    "*   What is the effect of varying the sigma values on the edges?\n",
    "*   What do the high threshold and low threshold parameters denote?"
   ]
  },
  {
   "cell_type": "markdown",
   "metadata": {
    "id": "YOQTbKMK6sh_"
   },
   "source": [
    "\n",
    "**Solution**\n",
    "\n",
    "*(Double-click or enter to edit)*\n",
    "\n",
    "..."
   ]
  },
  {
   "cell_type": "markdown",
   "metadata": {
    "id": "ymQePAoY7a97"
   },
   "source": [
    "*   What is the algorithm behind the Canny operator?"
   ]
  },
  {
   "cell_type": "markdown",
   "metadata": {
    "id": "b8vElGfk7g5q"
   },
   "source": [
    "\n",
    "**Solution**\n",
    "\n",
    "*(Double-click or enter to edit)*\n",
    "\n",
    "..."
   ]
  },
  {
   "cell_type": "markdown",
   "metadata": {
    "id": "gqRUGL7KNEK5"
   },
   "source": [
    "\n",
    "---\n",
    "\n",
    "## **End of P3: Filters and Edges**\n",
    "Deadline for P3 submission in CampusVirtual is: **Thursday, the 16th of October, 2022**\n"
   ]
  }
 ],
 "metadata": {
  "colab": {
   "authorship_tag": "ABX9TyOS5lg1J7ZPvz43kj43V4er",
   "collapsed_sections": [],
   "provenance": []
  },
  "kernelspec": {
   "display_name": "Python 3 (ipykernel)",
   "language": "python",
   "name": "python3"
  },
  "language_info": {
   "codemirror_mode": {
    "name": "ipython",
    "version": 3
   },
   "file_extension": ".py",
   "mimetype": "text/x-python",
   "name": "python",
   "nbconvert_exporter": "python",
   "pygments_lexer": "ipython3",
   "version": "3.10.12"
  }
 },
 "nbformat": 4,
 "nbformat_minor": 4
}
