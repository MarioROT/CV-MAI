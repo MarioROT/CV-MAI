{
  "cells": [
    {
      "cell_type": "markdown",
      "metadata": {
        "id": "xZ7Rk_R4HIJn"
      },
      "source": [
        "# Laboratory #10 : Vision Transformers\n",
        "\n",
        "At the end of this laboratory, you would get familiarized with\n",
        "\n",
        "*   Vision Transformers\n",
        "\n",
        "**Remember this is a graded exercise.**\n",
        "\n",
        "*   For every plot, make sure you provide appropriate titles, axis labels, legends, wherever applicable.\n",
        "*   Create reusable functions where ever possible, so that the code could be reused at different places.\n",
        "*   Add sufficient comments and explanations wherever necessary.\n",
        "*   **Once you have the code completed, use GPU to train model faster.**\n",
        "\n",
        "---"
      ]
    },
    {
      "cell_type": "markdown",
      "metadata": {
        "id": "gQRtFkg6FSlG"
      },
      "source": [
        "# Vision Transformers\n",
        "\n",
        "Vision Transformers were introduced by Alexey Dosovitskiy et al. in the paper [An Image is Worth 16x16 Words: Transformers for Image Recognition at Scale](https://arxiv.org/abs/2010.11929)\n",
        "\n",
        "Read the ViT paper and answer the below descriptive questions.\n",
        "\n",
        "*   What are the differences between CNN and Transformers?\n",
        "*   What is Multi-head self-attention?\n",
        "*   What is Inductive Bias?"
      ]
    },
    {
      "cell_type": "markdown",
      "metadata": {
        "id": "7Lyt2KtJiEM_"
      },
      "source": [
        "**Solution**\n",
        "- What are the differences between CNN and Transformers?\n",
        "  - CNNs (Convolutional Neural Networks) are commonly used in computer vision tasks and have been the standard approach for image recognition. They rely on convolutional layers to extract local features from images and use pooling layers to downsample the feature maps.Transformers, on the other hand, have been widely used in natural language processing tasks but have limited applications in computer vision. They are based on self-attention mechanisms that allow them to capture global dependencies in the input sequence.\n",
        "\n",
        "  - Unlike CNNs, which operate on local patches of an image, Transformers can directly process sequences of image patches without the need for convolutional layers. This makes them more flexible and efficient in terms of computational resources required for training.\n",
        "  - CNNs have inherent inductive biases such as translation equivariance and locality, which make them effective in tasks with limited data. Transformers lack these biases and may not generalize well when trained on insufficient amounts of data.\n",
        "  - While CNNs are well-suited for tasks with spatial information, Transformers are better at capturing long-range dependencies and global context, making them suitable for tasks that require understanding relationships between different parts of an image.\n",
        "\n",
        "- What is Multi-head self-attention?\n",
        "  - Multi-head self-attention is a mechanism used in Transformers that allows the model to attend to different parts of the input sequence simultaneously. It involves splitting the input into multiple smaller representations, called heads, and applying self-attention independently on each head.\n",
        "\n",
        "  - Each head learns different relationships and captures different aspects of the input sequence, enabling the model to capture both local and global dependencies effectively.\n",
        "\n",
        "  - The outputs of the multiple attention heads are then concatenated and linearly transformed to obtain the final representation. This allows the model to capture different types of information and improve its ability to understand complex patterns in the input.\n",
        "\n",
        "- Inductive Bias\n",
        "  - Inductive bias are assumptions or biases that a ML model includes during the learning process to make predictions based on limited training data.\n",
        "\n",
        "  - CNNs have inherent inductive biases such as locality, two-dimensional neighborhood structure, and translation equivariance. These biases are baked into each layer of the CNN model, allowing it to effectively capture spatial information and patterns in images.\n",
        "\n",
        "  - In contrast, Vision Transformers (ViTs) have much less image-specific inductive bias than CNNs. While ViTs use self-attention layers to capture global dependencies in the input sequence, they do not have the same level of built-in assumptions about spatial relationships. ViTs rely on the learning process to discover and understand spatial relations between image patches.\n",
        "\n",
        "  - The reduced inductive bias in ViTs allows them to be more flexible and adaptable to different image recognition tasks, but it also means that they may require larger amounts of training data to generalize effectively.\n",
        "\n",
        "..."
      ]
    },
    {
      "cell_type": "markdown",
      "metadata": {
        "id": "blK0wdXkGxWM"
      },
      "source": [
        "*   Explain the model architecture of ViT."
      ]
    },
    {
      "cell_type": "markdown",
      "metadata": {
        "id": "H2kTURmHHVUB"
      },
      "source": [
        "**Solution**\n",
        "\n",
        "The Vision Transformer (ViT) model architecture is based on the regulat Transformer architecture.\n",
        " 1. ViT takes an image as input and divides it into a sequence of fixed-size non-overlapping patches.\n",
        " 2. Each patch is linearly projected to a lower-dimensional representation, called the patch embedding, which serves as the input to the Transformer encoder.\n",
        " 3. The Transformer encoder consists of multiple layers, each containing a multi-head self-attention mechanism and a feed-forward neural network. Layers included follow  Normalization --> Multi-Head Attention --> Normalization --> MLP.\n",
        " 4. The self-attention mechanism allows the model to capture global dependencies between the patches, while the feed-forward network applies non-linear transformations to the patch embeddings.\n",
        " 5. The outputs of the Transformer encoder are then passed through a classification head, which maps the sequence of patch embeddings to the final output classes.\n",
        "\n",
        "\n",
        "..."
      ]
    },
    {
      "cell_type": "markdown",
      "metadata": {
        "id": "d3fPvtIgUo_R"
      },
      "source": [
        "# Introduction\n",
        "\n",
        "We will implement the Vision Transformer (ViT) model for image classification and demonstrates it on the CIFAR-100 dataset.\n",
        "The ViT model applies the Transformer architecture with self-attention to sequences of image patches, without using convolution layers.\n"
      ]
    },
    {
      "cell_type": "markdown",
      "metadata": {
        "id": "sfv-aT740MVJ"
      },
      "source": [
        "## Setup\n",
        "For this exercise, we require TensorFlow 2.4 or higher, as well as\n",
        "[TensorFlow Addons](https://www.tensorflow.org/addons/overview)"
      ]
    },
    {
      "cell_type": "code",
      "execution_count": 1,
      "metadata": {
        "id": "0qx2czPY7sIB",
        "colab": {
          "base_uri": "https://localhost:8080/"
        },
        "outputId": "4e1315c1-0266-4a84-a58d-f0e9546f6221"
      },
      "outputs": [
        {
          "output_type": "stream",
          "name": "stdout",
          "text": [
            "Collecting tensorflow_addons\n",
            "  Downloading tensorflow_addons-0.23.0-cp310-cp310-manylinux_2_17_x86_64.manylinux2014_x86_64.whl (611 kB)\n",
            "\u001b[2K     \u001b[90m━━━━━━━━━━━━━━━━━━━━━━━━━━━━━━━━━━━━━━━━\u001b[0m \u001b[32m611.8/611.8 kB\u001b[0m \u001b[31m5.2 MB/s\u001b[0m eta \u001b[36m0:00:00\u001b[0m\n",
            "\u001b[?25hRequirement already satisfied: packaging in /usr/local/lib/python3.10/dist-packages (from tensorflow_addons) (23.2)\n",
            "Collecting typeguard<3.0.0,>=2.7 (from tensorflow_addons)\n",
            "  Downloading typeguard-2.13.3-py3-none-any.whl (17 kB)\n",
            "Installing collected packages: typeguard, tensorflow_addons\n",
            "Successfully installed tensorflow_addons-0.23.0 typeguard-2.13.3\n"
          ]
        }
      ],
      "source": [
        "pip install -U tensorflow_addons"
      ]
    },
    {
      "cell_type": "code",
      "execution_count": 2,
      "metadata": {
        "id": "vLf_7xWI8NB8",
        "colab": {
          "base_uri": "https://localhost:8080/"
        },
        "outputId": "c45dc4d5-a26f-4180-d6d3-9a45503c9718"
      },
      "outputs": [
        {
          "output_type": "stream",
          "name": "stderr",
          "text": [
            "/usr/local/lib/python3.10/dist-packages/tensorflow_addons/utils/tfa_eol_msg.py:23: UserWarning: \n",
            "\n",
            "TensorFlow Addons (TFA) has ended development and introduction of new features.\n",
            "TFA has entered a minimal maintenance and release mode until a planned end of life in May 2024.\n",
            "Please modify downstream libraries to take dependencies from other repositories in our TensorFlow community (e.g. Keras, Keras-CV, and Keras-NLP). \n",
            "\n",
            "For more information see: https://github.com/tensorflow/addons/issues/2807 \n",
            "\n",
            "  warnings.warn(\n"
          ]
        }
      ],
      "source": [
        "import numpy as np\n",
        "import tensorflow as tf\n",
        "from tensorflow import keras\n",
        "from tensorflow.keras import layers\n",
        "import tensorflow_addons as tfa"
      ]
    },
    {
      "cell_type": "markdown",
      "metadata": {
        "id": "BKnbipxm0fn6"
      },
      "source": [
        "## Preparing the data\n",
        "\n",
        "We will use the CIFAR-100 dataset available in tf.keras.datasets package."
      ]
    },
    {
      "cell_type": "code",
      "execution_count": 3,
      "metadata": {
        "id": "aUv0hh9o8P58",
        "colab": {
          "base_uri": "https://localhost:8080/"
        },
        "outputId": "aa7a5e42-3490-413e-9622-458f57fb118e"
      },
      "outputs": [
        {
          "output_type": "stream",
          "name": "stdout",
          "text": [
            "Downloading data from https://www.cs.toronto.edu/~kriz/cifar-100-python.tar.gz\n",
            "169001437/169001437 [==============================] - 11s 0us/step\n",
            "x_train shape: (50000, 32, 32, 3) - y_train shape: (50000, 1)\n",
            "x_test shape: (10000, 32, 32, 3) - y_test shape: (10000, 1)\n"
          ]
        }
      ],
      "source": [
        "num_classes = 100\n",
        "input_shape = (32, 32, 3)\n",
        "\n",
        "(x_train, y_train), (x_test, y_test) = keras.datasets.cifar100.load_data()\n",
        "\n",
        "print(f\"x_train shape: {x_train.shape} - y_train shape: {y_train.shape}\")\n",
        "print(f\"x_test shape: {x_test.shape} - y_test shape: {y_test.shape}\")"
      ]
    },
    {
      "cell_type": "markdown",
      "metadata": {
        "id": "V2op-WxA0l9t"
      },
      "source": [
        "## Configure the Hyper-parameters"
      ]
    },
    {
      "cell_type": "code",
      "execution_count": 4,
      "metadata": {
        "id": "5kDxBNE08TCQ"
      },
      "outputs": [],
      "source": [
        "learning_rate = 0.001\n",
        "weight_decay = 0.0001\n",
        "batch_size = 256\n",
        "num_epochs = 100\n",
        "image_size = 72  # We'll resize input images to this size\n",
        "patch_size = 6  # Size of the patches to be extract from the input images\n",
        "num_patches = (image_size // patch_size) ** 2\n",
        "projection_dim = 64\n",
        "num_heads = 4\n",
        "transformer_units = [\n",
        "    projection_dim * 2,\n",
        "    projection_dim,\n",
        "]  # Size of the transformer layers\n",
        "transformer_layers = 8\n",
        "mlp_head_units = [2048, 1024]  # Size of the dense layers of the final classifier"
      ]
    },
    {
      "cell_type": "markdown",
      "metadata": {
        "id": "_2YBwB800wvu"
      },
      "source": [
        "## Data Augmentation Pipeline"
      ]
    },
    {
      "cell_type": "code",
      "execution_count": 5,
      "metadata": {
        "id": "TrPHMK6y8Uzk"
      },
      "outputs": [],
      "source": [
        "data_augmentation = keras.Sequential(\n",
        "    [\n",
        "        layers.Normalization(),\n",
        "        layers.Resizing(image_size, image_size),\n",
        "        layers.RandomFlip(\"horizontal\"),\n",
        "        layers.RandomRotation(factor=0.02),\n",
        "        layers.RandomZoom(\n",
        "            height_factor=0.2, width_factor=0.2\n",
        "        ),\n",
        "    ],\n",
        "    name=\"data_augmentation\",\n",
        ")\n",
        "# Compute the mean and the variance of the training data for normalization.\n",
        "data_augmentation.layers[0].adapt(x_train)"
      ]
    },
    {
      "cell_type": "markdown",
      "metadata": {
        "id": "pFoYrR3o04qr"
      },
      "source": [
        "## Implement a Multi-layer Perceptron (MLP)"
      ]
    },
    {
      "cell_type": "code",
      "execution_count": 6,
      "metadata": {
        "id": "mRwIT9Ru8W8Y"
      },
      "outputs": [],
      "source": [
        "def mlp(x, hidden_units, dropout_rate):\n",
        "    for units in hidden_units:\n",
        "        x = layers.Dense(units, activation=tf.nn.gelu)(x)\n",
        "        x = layers.Dropout(dropout_rate)(x)\n",
        "    return x"
      ]
    },
    {
      "cell_type": "markdown",
      "metadata": {
        "id": "FDIDnGh_0_C8"
      },
      "source": [
        "## Implementing Patch Creation Layer"
      ]
    },
    {
      "cell_type": "code",
      "execution_count": 7,
      "metadata": {
        "id": "Cr7K3R1T8XTd"
      },
      "outputs": [],
      "source": [
        "class Patches(layers.Layer):\n",
        "    def __init__(self, patch_size):\n",
        "        super().__init__()\n",
        "        self.patch_size = patch_size\n",
        "\n",
        "    def call(self, images):\n",
        "        batch_size = tf.shape(images)[0]\n",
        "        patches = tf.image.extract_patches(\n",
        "            images=images,\n",
        "            sizes=[1, self.patch_size, self.patch_size, 1],\n",
        "            strides=[1, self.patch_size, self.patch_size, 1],\n",
        "            rates=[1, 1, 1, 1],\n",
        "            padding=\"VALID\",\n",
        "        )\n",
        "        patch_dims = patches.shape[-1]\n",
        "        patches = tf.reshape(patches, [batch_size, -1, patch_dims])\n",
        "        return patches"
      ]
    },
    {
      "cell_type": "markdown",
      "metadata": {
        "id": "94eYhR3HIlu1"
      },
      "source": [
        "### Visualizing the patches for a sample image"
      ]
    },
    {
      "cell_type": "code",
      "execution_count": 8,
      "metadata": {
        "id": "vZ_AO9m58b5n",
        "colab": {
          "base_uri": "https://localhost:8080/",
          "height": 746
        },
        "outputId": "216203b4-7dfd-434b-a66d-47cb13123546"
      },
      "outputs": [
        {
          "output_type": "stream",
          "name": "stdout",
          "text": [
            "Image size: 72 X 72\n",
            "Patch size: 6 X 6\n",
            "Patches per image: 144\n",
            "Elements per patch: 108\n"
          ]
        },
        {
          "output_type": "display_data",
          "data": {
            "text/plain": [
              "<Figure size 400x400 with 1 Axes>"
            ],
            "image/png": "[encoded data removed]"
          },
          "metadata": {}
        },
        {
          "output_type": "display_data",
          "data": {
            "text/plain": [
              "<Figure size 400x400 with 144 Axes>"
            ],
            "image/png": "[encoded data removed]"
          },
          "metadata": {}
        }
      ],
      "source": [
        "import matplotlib.pyplot as plt\n",
        "\n",
        "plt.figure(figsize=(4, 4))\n",
        "image = x_train[np.random.choice(range(x_train.shape[0]))]\n",
        "plt.imshow(image.astype(\"uint8\"))\n",
        "plt.axis(\"off\")\n",
        "\n",
        "resized_image = tf.image.resize(\n",
        "    tf.convert_to_tensor([image]), size=(image_size, image_size)\n",
        ")\n",
        "\n",
        "patches = Patches(patch_size)(resized_image)\n",
        "print(f\"Image size: {image_size} X {image_size}\")\n",
        "print(f\"Patch size: {patch_size} X {patch_size}\")\n",
        "print(f\"Patches per image: {patches.shape[1]}\")\n",
        "print(f\"Elements per patch: {patches.shape[-1]}\")\n",
        "\n",
        "n = int(np.sqrt(patches.shape[1]))\n",
        "\n",
        "plt.figure(figsize=(4, 4))\n",
        "for i, patch in enumerate(patches[0]):\n",
        "    ax = plt.subplot(n, n, i + 1)\n",
        "    patch_img = tf.reshape(patch, (patch_size, patch_size, 3))\n",
        "    plt.imshow(patch_img.numpy().astype(\"uint8\"))\n",
        "    plt.axis(\"off\")"
      ]
    },
    {
      "cell_type": "markdown",
      "metadata": {
        "id": "OS-pwhwwIzIU"
      },
      "source": [
        "## Patch Encoding Layer\n",
        "\n",
        "*   What is the role of Patch Encoding Layer?"
      ]
    },
    {
      "cell_type": "markdown",
      "metadata": {
        "id": "RJux_IyZI_2G"
      },
      "source": [
        "**Solution**\n",
        "- Each patch is linearly projected to a lower-dimensional embeddin, the patch embeddings capture local information from the image patches and serve as the input to the Transformer encoder.The Transformer encoder then utilizes self-attention mechanisms to capture global dependencies between the patch embeddings, allowing the model to understand the relationships between different parts of the image.\n",
        "\n",
        "..."
      ]
    },
    {
      "cell_type": "code",
      "execution_count": 9,
      "metadata": {
        "id": "GxcuieU78eFg"
      },
      "outputs": [],
      "source": [
        "class PatchEncoder(layers.Layer):\n",
        "    def __init__(self, num_patches, projection_dim):\n",
        "        super().__init__()\n",
        "        self.num_patches = num_patches\n",
        "        self.projection = layers.Dense(units=projection_dim)\n",
        "        self.position_embedding = layers.Embedding(\n",
        "            input_dim=num_patches, output_dim=projection_dim\n",
        "        )\n",
        "\n",
        "    def call(self, patch):\n",
        "        positions = tf.range(start=0, limit=self.num_patches, delta=1)\n",
        "        encoded = self.projection(patch) + self.position_embedding(positions)\n",
        "        return encoded"
      ]
    },
    {
      "cell_type": "markdown",
      "metadata": {
        "id": "hnQ-V_qbJDI5"
      },
      "source": [
        "*   What happens in the call function of the PatchEncoder class?"
      ]
    },
    {
      "cell_type": "markdown",
      "metadata": {
        "id": "LJDp_fmmJDiO"
      },
      "source": [
        "**Solution**\n",
        "\n",
        "1. Projects the input patch using the dense layer.\n",
        "2. Retrieves positional embeddings using the embedding layer based on the positions of the patches.\n",
        "3. Adds the projected patch and positional embeddings element-wise.\n",
        "4. Returns the encoded result\n",
        "\n",
        "..."
      ]
    },
    {
      "cell_type": "markdown",
      "metadata": {
        "id": "BsYeLjTWJMUS"
      },
      "source": [
        "## Building the ViT Model\n",
        "\n",
        "*   We will use the MultiHeadAttention layer as self-attention for this implementation\n",
        "*   PS: There are many changes to the original paper for ease of execution"
      ]
    },
    {
      "cell_type": "code",
      "execution_count": 10,
      "metadata": {
        "id": "IaLpri_v8gse"
      },
      "outputs": [],
      "source": [
        "def create_vit_classifier():\n",
        "    inputs = layers.Input(shape=input_shape)\n",
        "    # Augment data.\n",
        "    augmented = data_augmentation(inputs)\n",
        "    # Create patches.\n",
        "    patches = Patches(patch_size)(augmented)\n",
        "    # Encode patches.\n",
        "    encoded_patches = PatchEncoder(num_patches, projection_dim)(patches)\n",
        "\n",
        "    # Create multiple layers of the Transformer block.\n",
        "    for _ in range(transformer_layers):\n",
        "        # Layer normalization 1.\n",
        "        x1 = layers.LayerNormalization(epsilon=1e-6)(encoded_patches)\n",
        "        # Create a multi-head attention layer.\n",
        "        attention_output = layers.MultiHeadAttention(\n",
        "            num_heads=num_heads, key_dim=projection_dim, dropout=0.1\n",
        "        )(x1, x1)\n",
        "        # Skip connection 1.\n",
        "        x2 = layers.Add()([attention_output, encoded_patches])\n",
        "        # Layer normalization 2.\n",
        "        x3 = layers.LayerNormalization(epsilon=1e-6)(x2)\n",
        "        # MLP.\n",
        "        x3 = mlp(x3, hidden_units=transformer_units, dropout_rate=0.1)\n",
        "        # Skip connection 2.\n",
        "        encoded_patches = layers.Add()([x3, x2])\n",
        "\n",
        "    # Create a [batch_size, projection_dim] tensor.\n",
        "    representation = layers.LayerNormalization(epsilon=1e-6)(encoded_patches)\n",
        "    representation = layers.Flatten()(representation)\n",
        "    representation = layers.Dropout(0.5)(representation)\n",
        "    # Add MLP.\n",
        "    features = mlp(representation, hidden_units=mlp_head_units, dropout_rate=0.5)\n",
        "    # Classify outputs.\n",
        "    logits = layers.Dense(num_classes)(features)\n",
        "    # Create the Keras model.\n",
        "    model = keras.Model(inputs=inputs, outputs=logits)\n",
        "    return model"
      ]
    },
    {
      "cell_type": "markdown",
      "metadata": {
        "id": "RWD8Wcq2Jr6I"
      },
      "source": [
        "*   Explain the execution of the ViT model. What is the sequence of operations?\n",
        "*   What is skip connection? Why is it needed?"
      ]
    },
    {
      "cell_type": "markdown",
      "metadata": {
        "id": "4HxC1M3YJ6m2"
      },
      "source": [
        "**Solution**\n",
        "\n",
        "* **Explain the execution of the ViT model. What is the sequence of operations?**\n",
        "  - Input Processing:\n",
        "    - The input image is received through the inputs layer.\n",
        "    - Data augmentation is applied.\n",
        "  - Patching:\n",
        "    - The augmented image is divided into non-overlapping patches.\n",
        "  - Patch Encoding:\n",
        "    - Each patch is encoded using the PatchEncoder layer, by projecting it in a low-dimension representation and an embedding layer for positional information.\n",
        "  - Transformer Blocks:\n",
        "    - For each specified transformer block:\n",
        "      - Layer normalization is applied to the encoded patches.\n",
        "      - Multi-head self-attention processing is performed on the normalized patches.\n",
        "      - The result of the attention operation is added to the original encoded patches using a skip connection.\n",
        "      - Another layer normalization is applied to the output.\n",
        "      - A MLP is applied to the output of the attention operation.\n",
        "      - The output of the MLP is added to the output of the attention operation using another skip connection.\n",
        "  - Global Feature Representation:\n",
        "    - Layer normalization is applied to the final encoded patches.\n",
        "    - The representation is flattened, and a dropout layer is added for regularization.\n",
        "  - Final Classification Head:\n",
        "    - An MLP is applied to the flattened representation.\n",
        "    - The output of the MLP is used for classification through a dense layer.\n",
        "\n",
        "- **What is skip connection? Why is it needed?**\n",
        "\n",
        "  - It is a shortcut connection that bypasses one or more layers. The purpose of skip connections is to facilitate the flow of gradients during training, which helps in mitigating the vanishing gradient problem. They also allow the model to learn identity mappings, making it easier to learn more complex representations. The skip connections essentially provide a direct path for information to flow through the network, helping in the training of deeper models.\n",
        "\n",
        "..."
      ]
    },
    {
      "cell_type": "markdown",
      "metadata": {
        "id": "uvkeA4xgKsnz"
      },
      "source": [
        "*   What is self-attention?\n",
        "*   What is the problem in using global self-attention?\n",
        "*   What can be used instead of global self-attention?"
      ]
    },
    {
      "cell_type": "markdown",
      "metadata": {
        "id": "wGiS4ceeK77i"
      },
      "source": [
        "**Solution**\n",
        "\n",
        "- **What is self-attention?**\n",
        "  - It is a mechanism that allows a set of items in a sequence to focus on different parts of itself when processing information.\n",
        "\n",
        "  - In NLP, self-attention is particularly useful for capturing relationships and dependencies between different words in a sentence. It enables the model to weigh the importance of each word in the context of the entire sequence, allowing for flexible and non-local information integration.\n",
        "\n",
        "  - The self-attention mechanism operates on a set of input vectors (a.k.a. embeddings) and computes a set of output vectors, where each output vector is a weighted sum of the input vectors. The weights are determined dynamically based on the similarity or relevance between the elements in the input sequence. The attention scores are calculated using a compatibility function followed by a softmax operation to obtain normalized weights.\n",
        "- **What is the problem in using global self-attention?**\n",
        "  -\n",
        "Global self-attention has computational challenges due to its quadratic time and space complexity with respect to the sequence length. The dot-product computation for attention scores results in $O(n^2)$ time complexity, making it computationally expensive for long sequences, and the quadratic space complexity of the attention matrix is memory-intensive. This limitation hinders the scalability of global self-attention for large datasets and real-world applications.\n",
        "\n",
        "- **What can be used instead of global self-attention?**\n",
        "  - To address global self-attention, variants like local attention, sparse attention, and approximate attention have been introduced, offering more efficient alternatives that maintain the benefits of self-attention while making it practical for processing long sequences.\n",
        "\n",
        "..."
      ]
    },
    {
      "cell_type": "markdown",
      "metadata": {
        "id": "U3_1FlgsJ9hB"
      },
      "source": [
        "## Training the ViT Model"
      ]
    },
    {
      "cell_type": "code",
      "execution_count": 11,
      "metadata": {
        "id": "WDVSlD838jkH"
      },
      "outputs": [],
      "source": [
        "def run_experiment(model):\n",
        "    optimizer = tfa.optimizers.AdamW(\n",
        "        learning_rate=learning_rate, weight_decay=weight_decay\n",
        "    )\n",
        "\n",
        "    model.compile(\n",
        "        optimizer=optimizer,\n",
        "        loss=keras.losses.SparseCategoricalCrossentropy(from_logits=True),\n",
        "        metrics=[\n",
        "            keras.metrics.SparseCategoricalAccuracy(name=\"accuracy\"),\n",
        "            keras.metrics.SparseTopKCategoricalAccuracy(5, name=\"top-5-accuracy\"),\n",
        "        ],\n",
        "    )\n",
        "\n",
        "    checkpoint_filepath = \"/tmp/checkpoint\"\n",
        "    checkpoint_callback = keras.callbacks.ModelCheckpoint(\n",
        "        checkpoint_filepath,\n",
        "        monitor=\"val_accuracy\",\n",
        "        save_best_only=True,\n",
        "        save_weights_only=True,\n",
        "    )\n",
        "\n",
        "    history = model.fit(\n",
        "        x=x_train,\n",
        "        y=y_train,\n",
        "        batch_size=batch_size,\n",
        "        epochs=num_epochs,\n",
        "        validation_split=0.1,\n",
        "        callbacks=[checkpoint_callback],\n",
        "    )\n",
        "\n",
        "    model.load_weights(checkpoint_filepath)\n",
        "    _, accuracy, top_5_accuracy = model.evaluate(x_test, y_test)\n",
        "    print(f\"Test accuracy: {round(accuracy * 100, 2)}%\")\n",
        "    print(f\"Test top 5 accuracy: {round(top_5_accuracy * 100, 2)}%\")\n",
        "\n",
        "    return history"
      ]
    },
    {
      "cell_type": "code",
      "execution_count": null,
      "metadata": {
        "id": "mJKA65VEKE_l",
        "colab": {
          "base_uri": "https://localhost:8080/"
        },
        "outputId": "c80e0057-ac51-4aa0-d51c-29bacf3e2aba"
      },
      "outputs": [
        {
          "output_type": "stream",
          "name": "stdout",
          "text": [
            "Epoch 1/100\n",
            "176/176 [==============================] - 79s 368ms/step - loss: 4.5140 - accuracy: 0.0406 - top-5-accuracy: 0.1450 - val_loss: 3.9842 - val_accuracy: 0.0926 - val_top-5-accuracy: 0.2782\n",
            "Epoch 2/100\n",
            "176/176 [==============================] - 65s 370ms/step - loss: 3.9911 - accuracy: 0.0886 - top-5-accuracy: 0.2753 - val_loss: 3.6037 - val_accuracy: 0.1452 - val_top-5-accuracy: 0.3966\n",
            "Epoch 3/100\n",
            "176/176 [==============================] - 70s 399ms/step - loss: 3.7326 - accuracy: 0.1248 - top-5-accuracy: 0.3514 - val_loss: 3.3689 - val_accuracy: 0.1896 - val_top-5-accuracy: 0.4620\n",
            "Epoch 4/100\n",
            "176/176 [==============================] - 67s 381ms/step - loss: 3.5442 - accuracy: 0.1542 - top-5-accuracy: 0.4117 - val_loss: 3.2234 - val_accuracy: 0.2236 - val_top-5-accuracy: 0.4982\n",
            "Epoch 5/100\n",
            "176/176 [==============================] - 66s 378ms/step - loss: 3.3889 - accuracy: 0.1848 - top-5-accuracy: 0.4530 - val_loss: 3.0503 - val_accuracy: 0.2504 - val_top-5-accuracy: 0.5412\n",
            "Epoch 6/100\n",
            "176/176 [==============================] - 66s 376ms/step - loss: 3.2507 - accuracy: 0.2082 - top-5-accuracy: 0.4904 - val_loss: 2.9289 - val_accuracy: 0.2710 - val_top-5-accuracy: 0.5708\n",
            "Epoch 7/100\n",
            "176/176 [==============================] - 66s 378ms/step - loss: 3.1314 - accuracy: 0.2324 - top-5-accuracy: 0.5230 - val_loss: 2.8150 - val_accuracy: 0.2914 - val_top-5-accuracy: 0.6010\n",
            "Epoch 8/100\n",
            "176/176 [==============================] - 67s 380ms/step - loss: 3.0180 - accuracy: 0.2535 - top-5-accuracy: 0.5520 - val_loss: 2.7183 - val_accuracy: 0.3112 - val_top-5-accuracy: 0.6238\n",
            "Epoch 9/100\n",
            "176/176 [==============================] - 68s 385ms/step - loss: 2.9123 - accuracy: 0.2734 - top-5-accuracy: 0.5770 - val_loss: 2.6494 - val_accuracy: 0.3312 - val_top-5-accuracy: 0.6428\n",
            "Epoch 10/100\n",
            "176/176 [==============================] - 71s 406ms/step - loss: 2.8107 - accuracy: 0.2950 - top-5-accuracy: 0.6020 - val_loss: 2.5516 - val_accuracy: 0.3476 - val_top-5-accuracy: 0.6596\n",
            "Epoch 11/100\n",
            "176/176 [==============================] - 67s 380ms/step - loss: 2.7207 - accuracy: 0.3114 - top-5-accuracy: 0.6221 - val_loss: 2.5554 - val_accuracy: 0.3572 - val_top-5-accuracy: 0.6574\n",
            "Epoch 12/100\n",
            "176/176 [==============================] - 66s 374ms/step - loss: 2.6474 - accuracy: 0.3269 - top-5-accuracy: 0.6396 - val_loss: 2.4453 - val_accuracy: 0.3728 - val_top-5-accuracy: 0.6772\n",
            "Epoch 13/100\n",
            "176/176 [==============================] - 71s 404ms/step - loss: 2.5580 - accuracy: 0.3433 - top-5-accuracy: 0.6588 - val_loss: 2.3946 - val_accuracy: 0.3820 - val_top-5-accuracy: 0.6898\n",
            "Epoch 14/100\n",
            "176/176 [==============================] - 68s 389ms/step - loss: 2.4944 - accuracy: 0.3595 - top-5-accuracy: 0.6722 - val_loss: 2.3332 - val_accuracy: 0.3980 - val_top-5-accuracy: 0.7012\n",
            "Epoch 15/100\n",
            "176/176 [==============================] - 66s 373ms/step - loss: 2.4283 - accuracy: 0.3697 - top-5-accuracy: 0.6847 - val_loss: 2.2943 - val_accuracy: 0.4026 - val_top-5-accuracy: 0.7076\n",
            "Epoch 16/100\n",
            "176/176 [==============================] - 70s 398ms/step - loss: 2.3617 - accuracy: 0.3852 - top-5-accuracy: 0.7016 - val_loss: 2.2929 - val_accuracy: 0.4060 - val_top-5-accuracy: 0.7106\n",
            "Epoch 17/100\n",
            "176/176 [==============================] - 71s 404ms/step - loss: 2.3156 - accuracy: 0.3945 - top-5-accuracy: 0.7132 - val_loss: 2.2310 - val_accuracy: 0.4198 - val_top-5-accuracy: 0.7206\n",
            "Epoch 18/100\n",
            "176/176 [==============================] - 70s 399ms/step - loss: 2.2521 - accuracy: 0.4088 - top-5-accuracy: 0.7249 - val_loss: 2.1897 - val_accuracy: 0.4354 - val_top-5-accuracy: 0.7226\n",
            "Epoch 19/100\n",
            "176/176 [==============================] - 66s 375ms/step - loss: 2.1942 - accuracy: 0.4239 - top-5-accuracy: 0.7364 - val_loss: 2.1523 - val_accuracy: 0.4432 - val_top-5-accuracy: 0.7352\n",
            "Epoch 20/100\n",
            "176/176 [==============================] - 66s 374ms/step - loss: 2.1549 - accuracy: 0.4308 - top-5-accuracy: 0.7466 - val_loss: 2.1187 - val_accuracy: 0.4468 - val_top-5-accuracy: 0.7408\n",
            "Epoch 21/100\n",
            "176/176 [==============================] - 66s 378ms/step - loss: 2.0925 - accuracy: 0.4432 - top-5-accuracy: 0.7559 - val_loss: 2.1069 - val_accuracy: 0.4496 - val_top-5-accuracy: 0.7446\n",
            "Epoch 22/100\n",
            "176/176 [==============================] - 66s 375ms/step - loss: 2.0529 - accuracy: 0.4522 - top-5-accuracy: 0.7638 - val_loss: 2.0517 - val_accuracy: 0.4572 - val_top-5-accuracy: 0.7566\n",
            "Epoch 23/100\n",
            "176/176 [==============================] - 71s 403ms/step - loss: 1.9994 - accuracy: 0.4660 - top-5-accuracy: 0.7758 - val_loss: 2.0443 - val_accuracy: 0.4664 - val_top-5-accuracy: 0.7554\n",
            "Epoch 24/100\n",
            "176/176 [==============================] - 65s 368ms/step - loss: 1.9617 - accuracy: 0.4706 - top-5-accuracy: 0.7813 - val_loss: 2.0484 - val_accuracy: 0.4626 - val_top-5-accuracy: 0.7618\n",
            "Epoch 25/100\n",
            "176/176 [==============================] - 71s 403ms/step - loss: 1.9060 - accuracy: 0.4829 - top-5-accuracy: 0.7940 - val_loss: 1.9979 - val_accuracy: 0.4706 - val_top-5-accuracy: 0.7694\n",
            "Epoch 26/100\n",
            "176/176 [==============================] - 67s 379ms/step - loss: 1.8611 - accuracy: 0.4951 - top-5-accuracy: 0.7996 - val_loss: 1.9921 - val_accuracy: 0.4742 - val_top-5-accuracy: 0.7706\n",
            "Epoch 27/100\n",
            "176/176 [==============================] - 66s 375ms/step - loss: 1.8191 - accuracy: 0.5027 - top-5-accuracy: 0.8088 - val_loss: 1.9829 - val_accuracy: 0.4828 - val_top-5-accuracy: 0.7732\n",
            "Epoch 28/100\n",
            "176/176 [==============================] - 66s 376ms/step - loss: 1.7785 - accuracy: 0.5154 - top-5-accuracy: 0.8163 - val_loss: 1.9513 - val_accuracy: 0.4874 - val_top-5-accuracy: 0.7796\n",
            "Epoch 29/100\n",
            "176/176 [==============================] - 66s 374ms/step - loss: 1.7512 - accuracy: 0.5181 - top-5-accuracy: 0.8204 - val_loss: 1.9428 - val_accuracy: 0.4904 - val_top-5-accuracy: 0.7752\n",
            "Epoch 30/100\n",
            "176/176 [==============================] - 64s 366ms/step - loss: 1.7083 - accuracy: 0.5269 - top-5-accuracy: 0.8292 - val_loss: 1.9463 - val_accuracy: 0.4898 - val_top-5-accuracy: 0.7786\n",
            "Epoch 31/100\n",
            "176/176 [==============================] - 70s 398ms/step - loss: 1.6696 - accuracy: 0.5378 - top-5-accuracy: 0.8362 - val_loss: 1.9027 - val_accuracy: 0.4992 - val_top-5-accuracy: 0.7838\n",
            "Epoch 32/100\n",
            "176/176 [==============================] - 71s 404ms/step - loss: 1.6429 - accuracy: 0.5443 - top-5-accuracy: 0.8411 - val_loss: 1.9036 - val_accuracy: 0.5102 - val_top-5-accuracy: 0.7880\n",
            "Epoch 33/100\n",
            "176/176 [==============================] - 71s 404ms/step - loss: 1.6064 - accuracy: 0.5517 - top-5-accuracy: 0.8458 - val_loss: 1.8753 - val_accuracy: 0.5112 - val_top-5-accuracy: 0.7914\n",
            "Epoch 34/100\n",
            "176/176 [==============================] - 65s 369ms/step - loss: 1.5681 - accuracy: 0.5604 - top-5-accuracy: 0.8533 - val_loss: 1.8898 - val_accuracy: 0.5064 - val_top-5-accuracy: 0.7892\n",
            "Epoch 35/100\n",
            "176/176 [==============================] - 65s 368ms/step - loss: 1.5389 - accuracy: 0.5676 - top-5-accuracy: 0.8581 - val_loss: 1.8969 - val_accuracy: 0.5074 - val_top-5-accuracy: 0.7890\n",
            "Epoch 36/100\n",
            "176/176 [==============================] - 71s 406ms/step - loss: 1.5175 - accuracy: 0.5718 - top-5-accuracy: 0.8606 - val_loss: 1.8598 - val_accuracy: 0.5136 - val_top-5-accuracy: 0.7962\n",
            "Epoch 37/100\n",
            "176/176 [==============================] - 66s 376ms/step - loss: 1.4881 - accuracy: 0.5800 - top-5-accuracy: 0.8666 - val_loss: 1.8663 - val_accuracy: 0.5164 - val_top-5-accuracy: 0.7956\n",
            "Epoch 38/100\n",
            "176/176 [==============================] - 71s 405ms/step - loss: 1.4575 - accuracy: 0.5874 - top-5-accuracy: 0.8694 - val_loss: 1.8696 - val_accuracy: 0.5174 - val_top-5-accuracy: 0.7938\n",
            "Epoch 39/100\n",
            "176/176 [==============================] - 65s 368ms/step - loss: 1.4384 - accuracy: 0.5902 - top-5-accuracy: 0.8760 - val_loss: 1.8982 - val_accuracy: 0.5056 - val_top-5-accuracy: 0.7964\n",
            "Epoch 40/100\n",
            "176/176 [==============================] - 64s 366ms/step - loss: 1.4099 - accuracy: 0.6006 - top-5-accuracy: 0.8770 - val_loss: 1.8785 - val_accuracy: 0.5154 - val_top-5-accuracy: 0.7944\n",
            "Epoch 41/100\n",
            "176/176 [==============================] - 71s 405ms/step - loss: 1.3976 - accuracy: 0.6026 - top-5-accuracy: 0.8819 - val_loss: 1.8749 - val_accuracy: 0.5216 - val_top-5-accuracy: 0.8028\n",
            "Epoch 42/100\n",
            "176/176 [==============================] - 65s 368ms/step - loss: 1.3581 - accuracy: 0.6094 - top-5-accuracy: 0.8862 - val_loss: 1.8716 - val_accuracy: 0.5212 - val_top-5-accuracy: 0.8014\n",
            "Epoch 43/100\n",
            "176/176 [==============================] - 64s 366ms/step - loss: 1.3456 - accuracy: 0.6178 - top-5-accuracy: 0.8886 - val_loss: 1.8669 - val_accuracy: 0.5136 - val_top-5-accuracy: 0.8002\n",
            "Epoch 44/100\n",
            "176/176 [==============================] - 71s 404ms/step - loss: 1.3268 - accuracy: 0.6191 - top-5-accuracy: 0.8896 - val_loss: 1.8581 - val_accuracy: 0.5218 - val_top-5-accuracy: 0.8022\n",
            "Epoch 45/100\n",
            "176/176 [==============================] - 65s 368ms/step - loss: 1.2949 - accuracy: 0.6285 - top-5-accuracy: 0.8956 - val_loss: 1.8699 - val_accuracy: 0.5218 - val_top-5-accuracy: 0.8026\n",
            "Epoch 46/100\n",
            "176/176 [==============================] - 71s 403ms/step - loss: 1.2838 - accuracy: 0.6313 - top-5-accuracy: 0.8981 - val_loss: 1.8426 - val_accuracy: 0.5284 - val_top-5-accuracy: 0.8042\n",
            "Epoch 47/100\n",
            "176/176 [==============================] - 65s 367ms/step - loss: 1.2650 - accuracy: 0.6374 - top-5-accuracy: 0.9013 - val_loss: 1.8584 - val_accuracy: 0.5228 - val_top-5-accuracy: 0.8044\n",
            "Epoch 48/100\n",
            "176/176 [==============================] - 64s 366ms/step - loss: 1.2461 - accuracy: 0.6399 - top-5-accuracy: 0.9032 - val_loss: 1.8317 - val_accuracy: 0.5272 - val_top-5-accuracy: 0.8080\n",
            "Epoch 49/100\n",
            "176/176 [==============================] - 66s 373ms/step - loss: 1.2269 - accuracy: 0.6447 - top-5-accuracy: 0.9050 - val_loss: 1.8622 - val_accuracy: 0.5304 - val_top-5-accuracy: 0.8080\n",
            "Epoch 50/100\n",
            "176/176 [==============================] - 65s 367ms/step - loss: 1.2179 - accuracy: 0.6460 - top-5-accuracy: 0.9082 - val_loss: 1.8280 - val_accuracy: 0.5262 - val_top-5-accuracy: 0.8080\n",
            "Epoch 51/100\n",
            "176/176 [==============================] - 65s 367ms/step - loss: 1.1952 - accuracy: 0.6531 - top-5-accuracy: 0.9122 - val_loss: 1.8723 - val_accuracy: 0.5252 - val_top-5-accuracy: 0.8032\n",
            "Epoch 52/100\n",
            "176/176 [==============================] - 71s 406ms/step - loss: 1.1733 - accuracy: 0.6585 - top-5-accuracy: 0.9146 - val_loss: 1.8555 - val_accuracy: 0.5310 - val_top-5-accuracy: 0.8090\n",
            "Epoch 53/100\n",
            "176/176 [==============================] - 65s 368ms/step - loss: 1.1783 - accuracy: 0.6575 - top-5-accuracy: 0.9131 - val_loss: 1.8639 - val_accuracy: 0.5284 - val_top-5-accuracy: 0.8098\n",
            "Epoch 54/100\n",
            " 52/176 [=======>......................] - ETA: 44s - loss: 1.1003 - accuracy: 0.6810 - top-5-accuracy: 0.9240"
          ]
        }
      ],
      "source": [
        "vit_classifier = create_vit_classifier()\n",
        "history = run_experiment(vit_classifier)"
      ]
    },
    {
      "cell_type": "markdown",
      "metadata": {
        "id": "8F-UBiR_KGVr"
      },
      "source": [
        "### Creating history plots"
      ]
    },
    {
      "cell_type": "code",
      "execution_count": null,
      "metadata": {
        "id": "BUtcXmmYBBun"
      },
      "outputs": [],
      "source": [
        "plt.plot(history.history[\"loss\"], label=\"train_loss\")\n",
        "plt.plot(history.history[\"val_loss\"], label=\"val_loss\")\n",
        "plt.xlabel(\"Epochs\")\n",
        "plt.ylabel(\"Loss\")\n",
        "plt.title(\"Train and Validation Losses Over Epochs\", fontsize=14)\n",
        "plt.legend()\n",
        "plt.grid()\n",
        "plt.show()"
      ]
    },
    {
      "cell_type": "markdown",
      "metadata": {
        "id": "FNpi8W_xKYnC"
      },
      "source": [
        "### Evaluating the trained ViT transformer"
      ]
    },
    {
      "cell_type": "code",
      "execution_count": null,
      "metadata": {
        "id": "0y2v4BhxBFHs"
      },
      "outputs": [],
      "source": [
        "loss, accuracy, top_5_accuracy = vit_classifier.evaluate(x_test, y_test)\n",
        "print(f\"Test loss: {round(loss, 2)}\")\n",
        "print(f\"Test accuracy: {round(accuracy * 100, 2)}%\")\n",
        "print(f\"Test top 5 accuracy: {round(top_5_accuracy * 100, 2)}%\")"
      ]
    },
    {
      "cell_type": "markdown",
      "metadata": {
        "id": "MDy8XAvEm830"
      },
      "source": [
        "# Shifted Patch Tokenization\n",
        "\n",
        "In a ViT pipeline, the input images are divided into patches that are then linearly projected into tokens. Shifted patch tokenization (STP) is introduced to combat the low receptive field of ViTs. The steps for Shifted Patch Tokenization are as follows:\n",
        "*   Start with an image.\n",
        "*   Shift the image in diagonal directions.\n",
        "*   Concat the diagonally shifted images with the original image.\n",
        "*   Extract patches of the concatenated images.\n",
        "*   Flatten the spatial dimension of all patches.\n",
        "*   Layer normalize the flattened patches and then project it.\n",
        "\n",
        "More details about the implementation can be read from the paper [Vision Transformer for Small-Size Datasets](https://arxiv.org/abs/2112.13492v1)\n",
        "\n",
        "---\n",
        "*   Implement a shiftedpatchtokenizer class\n",
        "*   The class should implement the __init__() and call() functions\n",
        "*   Implement left-up, right-up, left-down and right-down shift operations\n"
      ]
    },
    {
      "cell_type": "code",
      "execution_count": null,
      "metadata": {
        "id": "z0upIqeZ1RL5"
      },
      "outputs": [],
      "source": [
        "class ShiftedPatchTokenization(layers.Layer):\n",
        "    def __init__(\n",
        "        self,\n",
        "        image_size=IMAGE_SIZE,\n",
        "        patch_size=PATCH_SIZE,\n",
        "        num_patches=NUM_PATCHES,\n",
        "        projection_dim=PROJECTION_DIM,\n",
        "        vanilla=False,\n",
        "        **kwargs,\n",
        "    ):\n",
        "        super().__init__(**kwargs)\n",
        "        self.vanilla = vanilla  # Flag to swtich to vanilla patch extractor\n",
        "        self.image_size = image_size\n",
        "        self.patch_size = patch_size\n",
        "        self.half_patch = patch_size // 2\n",
        "        self.flatten_patches = layers.Reshape((num_patches, -1))\n",
        "        self.projection = layers.Dense(units=projection_dim)\n",
        "        self.layer_norm = layers.LayerNormalization(epsilon=LAYER_NORM_EPS)\n",
        "\n",
        "    def crop_shift_pad(self, images, mode):\n",
        "        # Build the diagonally shifted images\n",
        "        if mode == \"left-up\":\n",
        "            crop_height = self.half_patch\n",
        "            crop_width = self.half_patch\n",
        "            shift_height = 0\n",
        "            shift_width = 0\n",
        "        elif mode == \"left-down\":\n",
        "            crop_height = 0\n",
        "            crop_width = self.half_patch\n",
        "            shift_height = self.half_patch\n",
        "            shift_width = 0\n",
        "        elif mode == \"right-up\":\n",
        "            crop_height = self.half_patch\n",
        "            crop_width = 0\n",
        "            shift_height = 0\n",
        "            shift_width = self.half_patch\n",
        "        else:\n",
        "            crop_height = 0\n",
        "            crop_width = 0\n",
        "            shift_height = self.half_patch\n",
        "            shift_width = self.half_patch\n",
        "\n",
        "        # Crop the shifted images and pad them\n",
        "        crop = tf.image.crop_to_bounding_box(\n",
        "            images,\n",
        "            offset_height=crop_height,\n",
        "            offset_width=crop_width,\n",
        "            target_height=self.image_size - self.half_patch,\n",
        "            target_width=self.image_size - self.half_patch,\n",
        "        )\n",
        "        shift_pad = tf.image.pad_to_bounding_box(\n",
        "            crop,\n",
        "            offset_height=shift_height,\n",
        "            offset_width=shift_width,\n",
        "            target_height=self.image_size,\n",
        "            target_width=self.image_size,\n",
        "        )\n",
        "        return shift_pad\n",
        "\n",
        "    def call(self, images):\n",
        "        if not self.vanilla:\n",
        "            # Concat the shifted images with the original image\n",
        "            images = tf.concat(\n",
        "                [\n",
        "                    images,\n",
        "                    self.crop_shift_pad(images, mode=\"left-up\"),\n",
        "                    self.crop_shift_pad(images, mode=\"left-down\"),\n",
        "                    self.crop_shift_pad(images, mode=\"right-up\"),\n",
        "                    self.crop_shift_pad(images, mode=\"right-down\"),\n",
        "                ],\n",
        "                axis=-1,\n",
        "            )\n",
        "        # Patchify the images and flatten it\n",
        "        patches = tf.image.extract_patches(\n",
        "            images=images,\n",
        "            sizes=[1, self.patch_size, self.patch_size, 1],\n",
        "            strides=[1, self.patch_size, self.patch_size, 1],\n",
        "            rates=[1, 1, 1, 1],\n",
        "            padding=\"VALID\",\n",
        "        )\n",
        "        flat_patches = self.flatten_patches(patches)\n",
        "        if not self.vanilla:\n",
        "            # Layer normalize the flat patches and linearly project it\n",
        "            tokens = self.layer_norm(flat_patches)\n",
        "            tokens = self.projection(tokens)\n",
        "        else:\n",
        "            # Linearly project the flat patches\n",
        "            tokens = self.projection(flat_patches)\n",
        "        return (tokens, patches)\n",
        "\n",
        "class PatchEncoder(layers.Layer):\n",
        "    def __init__(\n",
        "        self, num_patches=NUM_PATCHES, projection_dim=PROJECTION_DIM, **kwargs\n",
        "    ):\n",
        "        super().__init__(**kwargs)\n",
        "        self.num_patches = num_patches\n",
        "        self.position_embedding = layers.Embedding(\n",
        "            input_dim=num_patches, output_dim=projection_dim\n",
        "        )\n",
        "        self.positions = tf.range(start=0, limit=self.num_patches, delta=1)\n",
        "\n",
        "    def call(self, encoded_patches):\n",
        "        encoded_positions = self.position_embedding(self.positions)\n",
        "        encoded_patches = encoded_patches + encoded_positions\n",
        "        return encoded_patches"
      ]
    },
    {
      "cell_type": "markdown",
      "metadata": {
        "id": "wBvcw4BKL6Fi"
      },
      "source": [
        "*   Visualize the patches for a random image"
      ]
    },
    {
      "cell_type": "code",
      "execution_count": null,
      "metadata": {
        "id": "fVC3fX4AL8LN"
      },
      "outputs": [],
      "source": [
        "# solution\n",
        "\n",
        "plt.figure(figsize=(4, 4))\n",
        "image = x_train[np.random.choice(range(x_train.shape[0]))]\n",
        "plt.imshow(image.astype(\"uint8\"))\n",
        "plt.axis(\"off\")\n",
        "\n",
        "resized_image = tf.image.resize(\n",
        "    tf.convert_to_tensor([image]), size=(image_size, image_size)\n",
        ")\n",
        "\n",
        "patches = Patches(patch_size)(resized_image)\n",
        "print(f\"Image size: {image_size} X {image_size}\")\n",
        "print(f\"Patch size: {patch_size} X {patch_size}\")\n",
        "print(f\"Patches per image: {patches.shape[1]}\")\n",
        "print(f\"Elements per patch: {patches.shape[-1]}\")\n",
        "\n",
        "n = int(np.sqrt(patches.shape[1]))\n",
        "\n",
        "plt.figure(figsize=(4, 4))\n",
        "for i, patch in enumerate(patches[0]):\n",
        "    ax = plt.subplot(n, n, i + 1)\n",
        "    patch_img = tf.reshape(patch, (patch_size, patch_size, 3))\n",
        "    plt.imshow(patch_img.numpy().astype(\"uint8\"))\n",
        "    plt.axis(\"off\")\n"
      ]
    },
    {
      "cell_type": "markdown",
      "metadata": {
        "id": "9Z1NjMKI1Rme"
      },
      "source": [
        "## Build the ViT model\n",
        "\n",
        "*   Create the ViT classifier by replacing the Patch Layer with the Shifted Patch Layer"
      ]
    },
    {
      "cell_type": "code",
      "execution_count": null,
      "metadata": {
        "id": "Rg0fDXqj1bpn"
      },
      "outputs": [],
      "source": [
        "# solution\n",
        "def create_vit_classifier_shifted_path_layer():\n",
        "    inputs = layers.Input(shape=input_shape)\n",
        "    # Augment data.\n",
        "    augmented = data_augmentation(inputs)\n",
        "    # Create patches.\n",
        "    (tokens, _) = ShiftedPatchTokenization(vanilla=False)(augmented)\n",
        "    # Encode patches.\n",
        "    encoded_patches = PatchEncoder()(tokens)\n",
        "\n",
        "    # Create multiple layers of the Transformer block.\n",
        "    for _ in range(transformer_layers):\n",
        "        # Layer normalization 1.\n",
        "        x1 = layers.LayerNormalization(epsilon=1e-6)(encoded_patches)\n",
        "        # Create a multi-head attention layer.\n",
        "        attention_output = layers.MultiHeadAttention(\n",
        "            num_heads=num_heads, key_dim=projection_dim, dropout=0.1\n",
        "        )(x1, x1)\n",
        "        # Skip connection 1.\n",
        "        x2 = layers.Add()([attention_output, encoded_patches])\n",
        "        # Layer normalization 2.\n",
        "        x3 = layers.LayerNormalization(epsilon=1e-6)(x2)\n",
        "        # MLP.\n",
        "        x3 = mlp(x3, hidden_units=transformer_units, dropout_rate=0.1)\n",
        "        # Skip connection 2.\n",
        "        encoded_patches = layers.Add()([x3, x2])\n",
        "\n",
        "    # Create a [batch_size, projection_dim] tensor.\n",
        "    representation = layers.LayerNormalization(epsilon=1e-6)(encoded_patches)\n",
        "    representation = layers.Flatten()(representation)\n",
        "    representation = layers.Dropout(0.5)(representation)\n",
        "    # Add MLP.\n",
        "    features = mlp(representation, hidden_units=mlp_head_units, dropout_rate=0.5)\n",
        "    # Classify outputs.\n",
        "    logits = layers.Dense(num_classes)(features)\n",
        "    # Create the Keras model.\n",
        "    model = keras.Model(inputs=inputs, outputs=logits)\n",
        "    return model\n"
      ]
    },
    {
      "cell_type": "markdown",
      "metadata": {
        "id": "Mla5r-oE1kBm"
      },
      "source": [
        "*   Compile and train the classifier"
      ]
    },
    {
      "cell_type": "code",
      "execution_count": null,
      "metadata": {
        "id": "IH3VD6QpMzjM"
      },
      "outputs": [],
      "source": [
        "# solution\n",
        "vit_classifier_SPL = create_vit_classifier_shifted_path_layer()\n",
        "history_SPL = run_experiment(vit_classifier_SPL)"
      ]
    },
    {
      "cell_type": "markdown",
      "metadata": {
        "id": "IM8HOAZIM2yn"
      },
      "source": [
        "*   Create the history plot for the new ViT model\n",
        "*   Evaluate the model using the test set"
      ]
    },
    {
      "cell_type": "code",
      "execution_count": null,
      "metadata": {
        "id": "YSIZ8gF9NEeM"
      },
      "outputs": [],
      "source": [
        "# solution\n",
        "plt.plot(history_SPL.history[\"loss\"], label=\"train_loss\")\n",
        "plt.plot(historySPL.history[\"val_loss\"], label=\"val_loss\")\n",
        "plt.xlabel(\"Epochs\")\n",
        "plt.ylabel(\"Loss\")\n",
        "plt.title(\"Train and Validation Losses Over Epochs\", fontsize=14)\n",
        "plt.legend()\n",
        "plt.grid()\n",
        "plt.show()\n",
        "\n",
        "loss_SPL, accuracy_SPL, top_5_accuracy_SPL = vit_classifier_SPL.evaluate(x_test, y_test)\n",
        "print(f\"Test loss: {round(loss_SPL, 2)}\")\n",
        "print(f\"Test accuracy: {round(accuracy_SPL * 100, 2)}%\")\n",
        "print(f\"Test top 5 accuracy: {round(top_5_accuracy_SPL * 100, 2)}%\")\n"
      ]
    },
    {
      "cell_type": "markdown",
      "metadata": {
        "id": "Llmndpwc2hVI"
      },
      "source": [
        "*   Compute confusion matrix and classification summary of both the models\n",
        "*   Compare both the models with respect to the computed metrics"
      ]
    },
    {
      "cell_type": "code",
      "execution_count": null,
      "metadata": {
        "id": "bR0WHJXpNH9g"
      },
      "outputs": [],
      "source": [
        "# solution\n",
        "\n"
      ]
    },
    {
      "cell_type": "markdown",
      "metadata": {
        "id": "8-PGXE2mL8H-"
      },
      "source": [
        "**Solution**\n",
        "\n",
        "*(Double-click or enter to edit)*\n",
        "\n",
        "..."
      ]
    },
    {
      "cell_type": "markdown",
      "metadata": {
        "id": "6U56nxPa2ywK"
      },
      "source": [
        "*   Compare DeiT with ViT.\n",
        "*   What are the differences in both the architectures.\n",
        "*   What is one limitation of ViT that is overcome with a DeiT?"
      ]
    },
    {
      "cell_type": "markdown",
      "metadata": {
        "id": "uiblE8UVNSdi"
      },
      "source": [
        "**Solution**\n",
        "\n",
        "*(Double-click or enter to edit)*\n",
        "\n",
        "..."
      ]
    },
    {
      "cell_type": "markdown",
      "metadata": {
        "id": "GBd21JmGNU3D"
      },
      "source": [
        "*   What is a SWIN Transformer?\n",
        "*   How is it different from DeiT and ViT?"
      ]
    },
    {
      "cell_type": "markdown",
      "metadata": {
        "id": "l0pApNlJNTQL"
      },
      "source": [
        "**Solution**\n",
        "\n",
        "*(Double-click or enter to edit)*\n",
        "\n",
        "..."
      ]
    },
    {
      "cell_type": "markdown",
      "metadata": {
        "id": "CxoKmgAv26_8"
      },
      "source": [
        "*   What is distillation?\n",
        "*   Explain the distillation used in DeiT\n",
        "*   What is its significance? Why do we need distillation?"
      ]
    },
    {
      "cell_type": "markdown",
      "metadata": {
        "id": "yvuDY_lANTqu"
      },
      "source": [
        "**Solution**\n",
        "\n",
        "*(Double-click or enter to edit)*\n",
        "\n",
        "..."
      ]
    },
    {
      "cell_type": "markdown",
      "metadata": {
        "id": "u0ZcGNZk3YEB"
      },
      "source": [
        "*   Which is better as a teacher model? A transformer based teacher of a CNN based teacher?"
      ]
    },
    {
      "cell_type": "markdown",
      "metadata": {
        "id": "HEWQ8qfNNT7T"
      },
      "source": [
        "**Solution**\n",
        "\n",
        "*(Double-click or enter to edit)*\n",
        "\n",
        "..."
      ]
    },
    {
      "cell_type": "markdown",
      "metadata": {
        "id": "NnN_t5Me7N5O"
      },
      "source": [
        "\n",
        "---\n",
        "\n",
        "## **End of lab10: Vision Transformers**"
      ]
    }
  ],
  "metadata": {
    "colab": {
      "provenance": [],
      "gpuType": "T4"
    },
    "kernelspec": {
      "display_name": "Python 3",
      "name": "python3"
    },
    "language_info": {
      "codemirror_mode": {
        "name": "ipython",
        "version": 3
      },
      "file_extension": ".py",
      "mimetype": "text/x-python",
      "name": "python",
      "nbconvert_exporter": "python",
      "pygments_lexer": "ipython3",
      "version": "3.10.12"
    },
    "accelerator": "GPU"
  },
  "nbformat": 4,
  "nbformat_minor": 0
}