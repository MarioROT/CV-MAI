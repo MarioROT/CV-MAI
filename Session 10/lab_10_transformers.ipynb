{
  "cells": [
    {
      "cell_type": "markdown",
      "metadata": {
        "id": "view-in-github",
        "colab_type": "text"
      },
      "source": [
        "<a href=\"https://colab.research.google.com/github/MarioROT/CV-MAI/blob/main/Session%2010/lab_10_transformers.ipynb\" target=\"_parent\"><img src=\"https://colab.research.google.com/assets/colab-badge.svg\" alt=\"Open In Colab\"/></a>"
      ]
    },
    {
      "cell_type": "markdown",
      "metadata": {
        "id": "xZ7Rk_R4HIJn"
      },
      "source": [
        "# Laboratory #10 : Vision Transformers\n",
        "\n",
        "At the end of this laboratory, you would get familiarized with\n",
        "\n",
        "*   Vision Transformers\n",
        "\n",
        "**Remember this is a graded exercise.**\n",
        "\n",
        "*   For every plot, make sure you provide appropriate titles, axis labels, legends, wherever applicable.\n",
        "*   Create reusable functions where ever possible, so that the code could be reused at different places.\n",
        "*   Add sufficient comments and explanations wherever necessary.\n",
        "*   **Once you have the code completed, use GPU to train model faster.**\n",
        "\n",
        "---"
      ]
    },
    {
      "cell_type": "markdown",
      "metadata": {
        "id": "gQRtFkg6FSlG"
      },
      "source": [
        "# Vision Transformers\n",
        "\n",
        "Vision Transformers were introduced by Alexey Dosovitskiy et al. in the paper [An Image is Worth 16x16 Words: Transformers for Image Recognition at Scale](https://arxiv.org/abs/2010.11929)\n",
        "\n",
        "Read the ViT paper and answer the below descriptive questions.\n",
        "\n",
        "*   What are the differences between CNN and Transformers?\n",
        "*   What is Multi-head self-attention?\n",
        "*   What is Inductive Bias?"
      ]
    },
    {
      "cell_type": "markdown",
      "metadata": {
        "id": "7Lyt2KtJiEM_"
      },
      "source": [
        "**Solution**\n",
        "- What are the differences between CNN and Transformers?\n",
        "  - CNNs (Convolutional Neural Networks) are commonly used in computer vision tasks and have been the standard approach for image recognition. They rely on convolutional layers to extract local features from images and use pooling layers to downsample the feature maps.Transformers, on the other hand, have been widely used in natural language processing tasks but have limited applications in computer vision. They are based on self-attention mechanisms that allow them to capture global dependencies in the input sequence.\n",
        "\n",
        "  - Unlike CNNs, which operate on local patches of an image, Transformers can directly process sequences of image patches without the need for convolutional layers. This makes them more flexible and efficient in terms of computational resources required for training.\n",
        "  - CNNs have inherent inductive biases such as translation equivariance and locality, which make them effective in tasks with limited data. Transformers lack these biases and may not generalize well when trained on insufficient amounts of data.\n",
        "  - While CNNs are well-suited for tasks with spatial information, Transformers are better at capturing long-range dependencies and global context, making them suitable for tasks that require understanding relationships between different parts of an image.\n",
        "\n",
        "- What is Multi-head self-attention?\n",
        "  - Multi-head self-attention is a mechanism used in Transformers that allows the model to attend to different parts of the input sequence simultaneously. It involves splitting the input into multiple smaller representations, called heads, and applying self-attention independently on each head.\n",
        "\n",
        "  - Each head learns different relationships and captures different aspects of the input sequence, enabling the model to capture both local and global dependencies effectively.\n",
        "\n",
        "  - The outputs of the multiple attention heads are then concatenated and linearly transformed to obtain the final representation. This allows the model to capture different types of information and improve its ability to understand complex patterns in the input.\n",
        "\n",
        "- Inductive Bias\n",
        "  - Inductive bias are assumptions or biases that a ML model includes during the learning process to make predictions based on limited training data.\n",
        "\n",
        "  - CNNs have inherent inductive biases such as locality, two-dimensional neighborhood structure, and translation equivariance. These biases are baked into each layer of the CNN model, allowing it to effectively capture spatial information and patterns in images.\n",
        "\n",
        "  - In contrast, Vision Transformers (ViTs) have much less image-specific inductive bias than CNNs. While ViTs use self-attention layers to capture global dependencies in the input sequence, they do not have the same level of built-in assumptions about spatial relationships. ViTs rely on the learning process to discover and understand spatial relations between image patches.\n",
        "\n",
        "  - The reduced inductive bias in ViTs allows them to be more flexible and adaptable to different image recognition tasks, but it also means that they may require larger amounts of training data to generalize effectively.\n",
        "\n",
        "..."
      ]
    },
    {
      "cell_type": "markdown",
      "metadata": {
        "id": "blK0wdXkGxWM"
      },
      "source": [
        "*   Explain the model architecture of ViT."
      ]
    },
    {
      "cell_type": "markdown",
      "metadata": {
        "id": "H2kTURmHHVUB"
      },
      "source": [
        "**Solution**\n",
        "\n",
        "The Vision Transformer (ViT) model architecture is based on the regulat Transformer architecture.\n",
        " 1. ViT takes an image as input and divides it into a sequence of fixed-size non-overlapping patches.\n",
        " 2. Each patch is linearly projected to a lower-dimensional representation, called the patch embedding, which serves as the input to the Transformer encoder.\n",
        " 3. The Transformer encoder consists of multiple layers, each containing a multi-head self-attention mechanism and a feed-forward neural network. Layers included follow  Normalization --> Multi-Head Attention --> Normalization --> MLP.\n",
        " 4. The self-attention mechanism allows the model to capture global dependencies between the patches, while the feed-forward network applies non-linear transformations to the patch embeddings.\n",
        " 5. The outputs of the Transformer encoder are then passed through a classification head, which maps the sequence of patch embeddings to the final output classes.\n",
        "\n",
        "\n",
        "..."
      ]
    },
    {
      "cell_type": "markdown",
      "metadata": {
        "id": "d3fPvtIgUo_R"
      },
      "source": [
        "# Introduction\n",
        "\n",
        "We will implement the Vision Transformer (ViT) model for image classification and demonstrates it on the CIFAR-100 dataset.\n",
        "The ViT model applies the Transformer architecture with self-attention to sequences of image patches, without using convolution layers.\n"
      ]
    },
    {
      "cell_type": "markdown",
      "metadata": {
        "id": "sfv-aT740MVJ"
      },
      "source": [
        "## Setup\n",
        "For this exercise, we require TensorFlow 2.4 or higher, as well as\n",
        "[TensorFlow Addons](https://www.tensorflow.org/addons/overview)"
      ]
    },
    {
      "cell_type": "code",
      "execution_count": 1,
      "metadata": {
        "id": "0qx2czPY7sIB",
        "colab": {
          "base_uri": "https://localhost:8080/"
        },
        "outputId": "f6aa2914-4e5c-4d50-9722-e6deae9ea31e"
      },
      "outputs": [
        {
          "output_type": "stream",
          "name": "stdout",
          "text": [
            "Collecting tensorflow_addons\n",
            "  Downloading tensorflow_addons-0.23.0-cp310-cp310-manylinux_2_17_x86_64.manylinux2014_x86_64.whl (611 kB)\n",
            "\u001b[2K     \u001b[90m━━━━━━━━━━━━━━━━━━━━━━━━━━━━━━━━━━━━━━━━\u001b[0m \u001b[32m611.8/611.8 kB\u001b[0m \u001b[31m5.0 MB/s\u001b[0m eta \u001b[36m0:00:00\u001b[0m\n",
            "\u001b[?25hRequirement already satisfied: packaging in /usr/local/lib/python3.10/dist-packages (from tensorflow_addons) (23.2)\n",
            "Collecting typeguard<3.0.0,>=2.7 (from tensorflow_addons)\n",
            "  Downloading typeguard-2.13.3-py3-none-any.whl (17 kB)\n",
            "Installing collected packages: typeguard, tensorflow_addons\n",
            "Successfully installed tensorflow_addons-0.23.0 typeguard-2.13.3\n"
          ]
        }
      ],
      "source": [
        "pip install -U tensorflow_addons"
      ]
    },
    {
      "cell_type": "code",
      "execution_count": 2,
      "metadata": {
        "id": "vLf_7xWI8NB8",
        "colab": {
          "base_uri": "https://localhost:8080/"
        },
        "outputId": "5d6d7409-86fc-405b-be5a-0f7fa4244f99"
      },
      "outputs": [
        {
          "output_type": "stream",
          "name": "stderr",
          "text": [
            "/usr/local/lib/python3.10/dist-packages/tensorflow_addons/utils/tfa_eol_msg.py:23: UserWarning: \n",
            "\n",
            "TensorFlow Addons (TFA) has ended development and introduction of new features.\n",
            "TFA has entered a minimal maintenance and release mode until a planned end of life in May 2024.\n",
            "Please modify downstream libraries to take dependencies from other repositories in our TensorFlow community (e.g. Keras, Keras-CV, and Keras-NLP). \n",
            "\n",
            "For more information see: https://github.com/tensorflow/addons/issues/2807 \n",
            "\n",
            "  warnings.warn(\n"
          ]
        }
      ],
      "source": [
        "import numpy as np\n",
        "import tensorflow as tf\n",
        "from tensorflow import keras\n",
        "from tensorflow.keras import layers\n",
        "import tensorflow_addons as tfa"
      ]
    },
    {
      "cell_type": "markdown",
      "metadata": {
        "id": "BKnbipxm0fn6"
      },
      "source": [
        "## Preparing the data\n",
        "\n",
        "We will use the CIFAR-100 dataset available in tf.keras.datasets package."
      ]
    },
    {
      "cell_type": "code",
      "execution_count": 3,
      "metadata": {
        "id": "aUv0hh9o8P58",
        "colab": {
          "base_uri": "https://localhost:8080/"
        },
        "outputId": "3f873f23-0af9-4ef7-a2dc-660745be4d14"
      },
      "outputs": [
        {
          "output_type": "stream",
          "name": "stdout",
          "text": [
            "Downloading data from https://www.cs.toronto.edu/~kriz/cifar-100-python.tar.gz\n",
            "169001437/169001437 [==============================] - 11s 0us/step\n",
            "x_train shape: (50000, 32, 32, 3) - y_train shape: (50000, 1)\n",
            "x_test shape: (10000, 32, 32, 3) - y_test shape: (10000, 1)\n"
          ]
        }
      ],
      "source": [
        "num_classes = 100\n",
        "input_shape = (32, 32, 3)\n",
        "\n",
        "(x_train, y_train), (x_test, y_test) = keras.datasets.cifar100.load_data()\n",
        "\n",
        "print(f\"x_train shape: {x_train.shape} - y_train shape: {y_train.shape}\")\n",
        "print(f\"x_test shape: {x_test.shape} - y_test shape: {y_test.shape}\")"
      ]
    },
    {
      "cell_type": "markdown",
      "metadata": {
        "id": "V2op-WxA0l9t"
      },
      "source": [
        "## Configure the Hyper-parameters"
      ]
    },
    {
      "cell_type": "code",
      "execution_count": 4,
      "metadata": {
        "id": "5kDxBNE08TCQ"
      },
      "outputs": [],
      "source": [
        "learning_rate = 0.001\n",
        "weight_decay = 0.0001\n",
        "batch_size = 256\n",
        "num_epochs = 100\n",
        "image_size = 72  # We'll resize input images to this size\n",
        "patch_size = 6  # Size of the patches to be extract from the input images\n",
        "num_patches = (image_size // patch_size) ** 2\n",
        "projection_dim = 64\n",
        "num_heads = 4\n",
        "transformer_units = [\n",
        "    projection_dim * 2,\n",
        "    projection_dim,\n",
        "]  # Size of the transformer layers\n",
        "transformer_layers = 8\n",
        "mlp_head_units = [2048, 1024]  # Size of the dense layers of the final classifier"
      ]
    },
    {
      "cell_type": "markdown",
      "metadata": {
        "id": "_2YBwB800wvu"
      },
      "source": [
        "## Data Augmentation Pipeline"
      ]
    },
    {
      "cell_type": "code",
      "execution_count": 5,
      "metadata": {
        "id": "TrPHMK6y8Uzk"
      },
      "outputs": [],
      "source": [
        "data_augmentation = keras.Sequential(\n",
        "    [\n",
        "        layers.Normalization(),\n",
        "        layers.Resizing(image_size, image_size),\n",
        "        layers.RandomFlip(\"horizontal\"),\n",
        "        layers.RandomRotation(factor=0.02),\n",
        "        layers.RandomZoom(\n",
        "            height_factor=0.2, width_factor=0.2\n",
        "        ),\n",
        "    ],\n",
        "    name=\"data_augmentation\",\n",
        ")\n",
        "# Compute the mean and the variance of the training data for normalization.\n",
        "data_augmentation.layers[0].adapt(x_train)"
      ]
    },
    {
      "cell_type": "markdown",
      "metadata": {
        "id": "pFoYrR3o04qr"
      },
      "source": [
        "## Implement a Multi-layer Perceptron (MLP)"
      ]
    },
    {
      "cell_type": "code",
      "execution_count": 6,
      "metadata": {
        "id": "mRwIT9Ru8W8Y"
      },
      "outputs": [],
      "source": [
        "def mlp(x, hidden_units, dropout_rate):\n",
        "    for units in hidden_units:\n",
        "        x = layers.Dense(units, activation=tf.nn.gelu)(x)\n",
        "        x = layers.Dropout(dropout_rate)(x)\n",
        "    return x"
      ]
    },
    {
      "cell_type": "markdown",
      "metadata": {
        "id": "FDIDnGh_0_C8"
      },
      "source": [
        "## Implementing Patch Creation Layer"
      ]
    },
    {
      "cell_type": "code",
      "execution_count": 7,
      "metadata": {
        "id": "Cr7K3R1T8XTd"
      },
      "outputs": [],
      "source": [
        "class Patches(layers.Layer):\n",
        "    def __init__(self, patch_size):\n",
        "        super().__init__()\n",
        "        self.patch_size = patch_size\n",
        "\n",
        "    def call(self, images):\n",
        "        batch_size = tf.shape(images)[0]\n",
        "        patches = tf.image.extract_patches(\n",
        "            images=images,\n",
        "            sizes=[1, self.patch_size, self.patch_size, 1],\n",
        "            strides=[1, self.patch_size, self.patch_size, 1],\n",
        "            rates=[1, 1, 1, 1],\n",
        "            padding=\"VALID\",\n",
        "        )\n",
        "        patch_dims = patches.shape[-1]\n",
        "        patches = tf.reshape(patches, [batch_size, -1, patch_dims])\n",
        "        return patches"
      ]
    },
    {
      "cell_type": "markdown",
      "metadata": {
        "id": "94eYhR3HIlu1"
      },
      "source": [
        "### Visualizing the patches for a sample image"
      ]
    },
    {
      "cell_type": "code",
      "execution_count": 9,
      "metadata": {
        "id": "vZ_AO9m58b5n",
        "colab": {
          "base_uri": "https://localhost:8080/",
          "height": 746
        },
        "outputId": "6c6b1558-1eb6-4830-b609-db67f8c74a6a"
      },
      "outputs": [
        {
          "output_type": "stream",
          "name": "stdout",
          "text": [
            "Image size: 72 X 72\n",
            "Patch size: 6 X 6\n",
            "Patches per image: 144\n",
            "Elements per patch: 108\n"
          ]
        },
        {
          "output_type": "display_data",
          "data": {
            "text/plain": [
              "<Figure size 400x400 with 1 Axes>"
            ],
            "image/png": "[encoded data removed]"
          },
          "metadata": {}
        },
        {
          "output_type": "display_data",
          "data": {
            "text/plain": [
              "<Figure size 400x400 with 144 Axes>"
            ],
            "image/png": "[encoded data removed]"
          },
          "metadata": {}
        }
      ],
      "source": [
        "import matplotlib.pyplot as plt\n",
        "\n",
        "plt.figure(figsize=(4, 4))\n",
        "image = x_train[np.random.choice(range(x_train.shape[0]))]\n",
        "plt.imshow(image.astype(\"uint8\"))\n",
        "plt.axis(\"off\")\n",
        "\n",
        "resized_image = tf.image.resize(\n",
        "    tf.convert_to_tensor([image]), size=(image_size, image_size)\n",
        ")\n",
        "\n",
        "patches = Patches(patch_size)(resized_image)\n",
        "print(f\"Image size: {image_size} X {image_size}\")\n",
        "print(f\"Patch size: {patch_size} X {patch_size}\")\n",
        "print(f\"Patches per image: {patches.shape[1]}\")\n",
        "print(f\"Elements per patch: {patches.shape[-1]}\")\n",
        "\n",
        "n = int(np.sqrt(patches.shape[1]))\n",
        "\n",
        "plt.figure(figsize=(4, 4))\n",
        "for i, patch in enumerate(patches[0]):\n",
        "    ax = plt.subplot(n, n, i + 1)\n",
        "    patch_img = tf.reshape(patch, (patch_size, patch_size, 3))\n",
        "    plt.imshow(patch_img.numpy().astype(\"uint8\"))\n",
        "    plt.axis(\"off\")"
      ]
    },
    {
      "cell_type": "markdown",
      "metadata": {
        "id": "OS-pwhwwIzIU"
      },
      "source": [
        "## Patch Encoding Layer\n",
        "\n",
        "*   What is the role of Patch Encoding Layer?"
      ]
    },
    {
      "cell_type": "markdown",
      "metadata": {
        "id": "RJux_IyZI_2G"
      },
      "source": [
        "**Solution**\n",
        "- Each patch is linearly projected to a lower-dimensional embeddin, the patch embeddings capture local information from the image patches and serve as the input to the Transformer encoder.The Transformer encoder then utilizes self-attention mechanisms to capture global dependencies between the patch embeddings, allowing the model to understand the relationships between different parts of the image.\n",
        "\n",
        "..."
      ]
    },
    {
      "cell_type": "code",
      "execution_count": 10,
      "metadata": {
        "id": "GxcuieU78eFg"
      },
      "outputs": [],
      "source": [
        "class PatchEncoder(layers.Layer):\n",
        "    def __init__(self, num_patches, projection_dim):\n",
        "        super().__init__()\n",
        "        self.num_patches = num_patches\n",
        "        self.projection = layers.Dense(units=projection_dim)\n",
        "        self.position_embedding = layers.Embedding(\n",
        "            input_dim=num_patches, output_dim=projection_dim\n",
        "        )\n",
        "\n",
        "    def call(self, patch):\n",
        "        positions = tf.range(start=0, limit=self.num_patches, delta=1)\n",
        "        encoded = self.projection(patch) + self.position_embedding(positions)\n",
        "        return encoded"
      ]
    },
    {
      "cell_type": "markdown",
      "metadata": {
        "id": "hnQ-V_qbJDI5"
      },
      "source": [
        "*   What happens in the call function of the PatchEncoder class?"
      ]
    },
    {
      "cell_type": "markdown",
      "metadata": {
        "id": "LJDp_fmmJDiO"
      },
      "source": [
        "**Solution**\n",
        "\n",
        "1. Projects the input patch using the dense layer.\n",
        "2. Retrieves positional embeddings using the embedding layer based on the positions of the patches.\n",
        "3. Adds the projected patch and positional embeddings element-wise.\n",
        "4. Returns the encoded result\n",
        "\n",
        "..."
      ]
    },
    {
      "cell_type": "markdown",
      "metadata": {
        "id": "BsYeLjTWJMUS"
      },
      "source": [
        "## Building the ViT Model\n",
        "\n",
        "*   We will use the MultiHeadAttention layer as self-attention for this implementation\n",
        "*   PS: There are many changes to the original paper for ease of execution"
      ]
    },
    {
      "cell_type": "code",
      "execution_count": 13,
      "metadata": {
        "id": "IaLpri_v8gse"
      },
      "outputs": [],
      "source": [
        "def create_vit_classifier():\n",
        "    inputs = layers.Input(shape=input_shape)\n",
        "    # Augment data.\n",
        "    augmented = data_augmentation(inputs)\n",
        "    # Create patches.\n",
        "    patches = Patches(patch_size)(augmented)\n",
        "    # Encode patches.\n",
        "    encoded_patches = PatchEncoder(num_patches, projection_dim)(patches)\n",
        "\n",
        "    # Create multiple layers of the Transformer block.\n",
        "    for _ in range(transformer_layers):\n",
        "        # Layer normalization 1.\n",
        "        x1 = layers.LayerNormalization(epsilon=1e-6)(encoded_patches)\n",
        "        # Create a multi-head attention layer.\n",
        "        attention_output = layers.MultiHeadAttention(\n",
        "            num_heads=num_heads, key_dim=projection_dim, dropout=0.1\n",
        "        )(x1, x1)\n",
        "        # Skip connection 1.\n",
        "        x2 = layers.Add()([attention_output, encoded_patches])\n",
        "        # Layer normalization 2.\n",
        "        x3 = layers.LayerNormalization(epsilon=1e-6)(x2)\n",
        "        # MLP.\n",
        "        x3 = mlp(x3, hidden_units=transformer_units, dropout_rate=0.1)\n",
        "        # Skip connection 2.\n",
        "        encoded_patches = layers.Add()([x3, x2])\n",
        "\n",
        "    # Create a [batch_size, projection_dim] tensor.\n",
        "    representation = layers.LayerNormalization(epsilon=1e-6)(encoded_patches)\n",
        "    representation = layers.Flatten()(representation)\n",
        "    representation = layers.Dropout(0.5)(representation)\n",
        "    # Add MLP.\n",
        "    features = mlp(representation, hidden_units=mlp_head_units, dropout_rate=0.5)\n",
        "    # Classify outputs.\n",
        "    logits = layers.Dense(num_classes)(features)\n",
        "    # Create the Keras model.\n",
        "    model = keras.Model(inputs=inputs, outputs=logits)\n",
        "    return model"
      ]
    },
    {
      "cell_type": "markdown",
      "metadata": {
        "id": "RWD8Wcq2Jr6I"
      },
      "source": [
        "*   Explain the execution of the ViT model. What is the sequence of operations?\n",
        "*   What is skip connection? Why is it needed?"
      ]
    },
    {
      "cell_type": "markdown",
      "metadata": {
        "id": "4HxC1M3YJ6m2"
      },
      "source": [
        "**Solution**\n",
        "\n",
        "* **Explain the execution of the ViT model. What is the sequence of operations?**\n",
        "  - Input Processing:\n",
        "    - The input image is received through the inputs layer.\n",
        "    - Data augmentation is applied.\n",
        "  - Patching:\n",
        "    - The augmented image is divided into non-overlapping patches.\n",
        "  - Patch Encoding:\n",
        "    - Each patch is encoded using the PatchEncoder layer, by projecting it in a low-dimension representation and an embedding layer for positional information.\n",
        "  - Transformer Blocks:\n",
        "    - For each specified transformer block:\n",
        "      - Layer normalization is applied to the encoded patches.\n",
        "      - Multi-head self-attention processing is performed on the normalized patches.\n",
        "      - The result of the attention operation is added to the original encoded patches using a skip connection.\n",
        "      - Another layer normalization is applied to the output.\n",
        "      - A MLP is applied to the output of the attention operation.\n",
        "      - The output of the MLP is added to the output of the attention operation using another skip connection.\n",
        "  - Global Feature Representation:\n",
        "    - Layer normalization is applied to the final encoded patches.\n",
        "    - The representation is flattened, and a dropout layer is added for regularization.\n",
        "  - Final Classification Head:\n",
        "    - An MLP is applied to the flattened representation.\n",
        "    - The output of the MLP is used for classification through a dense layer.\n",
        "\n",
        "- **What is skip connection? Why is it needed?**\n",
        "\n",
        "  - It is a shortcut connection that bypasses one or more layers. The purpose of skip connections is to facilitate the flow of gradients during training, which helps in mitigating the vanishing gradient problem. They also allow the model to learn identity mappings, making it easier to learn more complex representations. The skip connections essentially provide a direct path for information to flow through the network, helping in the training of deeper models.\n",
        "\n",
        "..."
      ]
    },
    {
      "cell_type": "markdown",
      "metadata": {
        "id": "uvkeA4xgKsnz"
      },
      "source": [
        "*   What is self-attention?\n",
        "*   What is the problem in using global self-attention?\n",
        "*   What can be used instead of global self-attention?"
      ]
    },
    {
      "cell_type": "markdown",
      "metadata": {
        "id": "wGiS4ceeK77i"
      },
      "source": [
        "**Solution**\n",
        "\n",
        "- **What is self-attention?**\n",
        "  - It is a mechanism that allows a set of items in a sequence to focus on different parts of itself when processing information.\n",
        "\n",
        "  - In NLP, self-attention is particularly useful for capturing relationships and dependencies between different words in a sentence. It enables the model to weigh the importance of each word in the context of the entire sequence, allowing for flexible and non-local information integration.\n",
        "\n",
        "  - The self-attention mechanism operates on a set of input vectors (a.k.a. embeddings) and computes a set of output vectors, where each output vector is a weighted sum of the input vectors. The weights are determined dynamically based on the similarity or relevance between the elements in the input sequence. The attention scores are calculated using a compatibility function followed by a softmax operation to obtain normalized weights.\n",
        "- **What is the problem in using global self-attention?**\n",
        "  -\n",
        "Global self-attention has computational challenges due to its quadratic time and space complexity with respect to the sequence length. The dot-product computation for attention scores results in $O(n^2)$ time complexity, making it computationally expensive for long sequences, and the quadratic space complexity of the attention matrix is memory-intensive. This limitation hinders the scalability of global self-attention for large datasets and real-world applications.\n",
        "\n",
        "- **What can be used instead of global self-attention?**\n",
        "  - To address global self-attention, variants like local attention, sparse attention, and approximate attention have been introduced, offering more efficient alternatives that maintain the benefits of self-attention while making it practical for processing long sequences.\n",
        "\n",
        "..."
      ]
    },
    {
      "cell_type": "markdown",
      "metadata": {
        "id": "U3_1FlgsJ9hB"
      },
      "source": [
        "## Training the ViT Model"
      ]
    },
    {
      "cell_type": "code",
      "execution_count": 11,
      "metadata": {
        "id": "WDVSlD838jkH"
      },
      "outputs": [],
      "source": [
        "def run_experiment(model):\n",
        "    optimizer = tfa.optimizers.AdamW(\n",
        "        learning_rate=learning_rate, weight_decay=weight_decay\n",
        "    )\n",
        "\n",
        "    model.compile(\n",
        "        optimizer=optimizer,\n",
        "        loss=keras.losses.SparseCategoricalCrossentropy(from_logits=True),\n",
        "        metrics=[\n",
        "            keras.metrics.SparseCategoricalAccuracy(name=\"accuracy\"),\n",
        "            keras.metrics.SparseTopKCategoricalAccuracy(5, name=\"top-5-accuracy\"),\n",
        "        ],\n",
        "    )\n",
        "\n",
        "    checkpoint_filepath = \"/tmp/checkpoint\"\n",
        "    checkpoint_callback = keras.callbacks.ModelCheckpoint(\n",
        "        checkpoint_filepath,\n",
        "        monitor=\"val_accuracy\",\n",
        "        save_best_only=True,\n",
        "        save_weights_only=True,\n",
        "    )\n",
        "\n",
        "    history = model.fit(\n",
        "        x=x_train,\n",
        "        y=y_train,\n",
        "        batch_size=batch_size,\n",
        "        epochs=num_epochs,\n",
        "        validation_split=0.1,\n",
        "        callbacks=[checkpoint_callback],\n",
        "    )\n",
        "\n",
        "    model.load_weights(checkpoint_filepath)\n",
        "    _, accuracy, top_5_accuracy = model.evaluate(x_test, y_test)\n",
        "    print(f\"Test accuracy: {round(accuracy * 100, 2)}%\")\n",
        "    print(f\"Test top 5 accuracy: {round(top_5_accuracy * 100, 2)}%\")\n",
        "\n",
        "    return history"
      ]
    },
    {
      "cell_type": "code",
      "execution_count": null,
      "metadata": {
        "id": "mJKA65VEKE_l",
        "colab": {
          "base_uri": "https://localhost:8080/"
        },
        "outputId": "eb720267-2bed-44f3-c11a-61034521dca7"
      },
      "outputs": [
        {
          "output_type": "stream",
          "name": "stdout",
          "text": [
            "Epoch 1/100\n",
            "  4/176 [..............................] - ETA: 1:01:09 - loss: 6.9746 - accuracy: 0.0176 - top-5-accuracy: 0.0625"
          ]
        }
      ],
      "source": [
        "vit_classifier = create_vit_classifier()\n",
        "history = run_experiment(vit_classifier)"
      ]
    },
    {
      "cell_type": "markdown",
      "metadata": {
        "id": "8F-UBiR_KGVr"
      },
      "source": [
        "### Creating history plots"
      ]
    },
    {
      "cell_type": "code",
      "execution_count": null,
      "metadata": {
        "id": "BUtcXmmYBBun"
      },
      "outputs": [],
      "source": [
        "plt.plot(history.history[\"loss\"], label=\"train_loss\")\n",
        "plt.plot(history.history[\"val_loss\"], label=\"val_loss\")\n",
        "plt.xlabel(\"Epochs\")\n",
        "plt.ylabel(\"Loss\")\n",
        "plt.title(\"Train and Validation Losses Over Epochs\", fontsize=14)\n",
        "plt.legend()\n",
        "plt.grid()\n",
        "plt.show()"
      ]
    },
    {
      "cell_type": "markdown",
      "metadata": {
        "id": "FNpi8W_xKYnC"
      },
      "source": [
        "### Evaluating the trained ViT transformer"
      ]
    },
    {
      "cell_type": "code",
      "execution_count": null,
      "metadata": {
        "id": "0y2v4BhxBFHs",
        "outputId": "3c173a27-285f-4c7e-9200-a581b730e771"
      },
      "outputs": [
        {
          "name": "stdout",
          "output_type": "stream",
          "text": [
            "313/313 [==============================] - 39s 126ms/step - loss: 3.0218 - accuracy: 0.2555 - top-5-accuracy: 0.5393\n",
            "Test loss: 3.02\n",
            "Test accuracy: 25.55%\n",
            "Test top 5 accuracy: 53.93%\n"
          ]
        }
      ],
      "source": [
        "loss, accuracy, top_5_accuracy = vit_classifier.evaluate(x_test, y_test)\n",
        "print(f\"Test loss: {round(loss, 2)}\")\n",
        "print(f\"Test accuracy: {round(accuracy * 100, 2)}%\")\n",
        "print(f\"Test top 5 accuracy: {round(top_5_accuracy * 100, 2)}%\")"
      ]
    },
    {
      "cell_type": "markdown",
      "metadata": {
        "id": "MDy8XAvEm830"
      },
      "source": [
        "# Shifted Patch Tokenization\n",
        "\n",
        "In a ViT pipeline, the input images are divided into patches that are then linearly projected into tokens. Shifted patch tokenization (STP) is introduced to combat the low receptive field of ViTs. The steps for Shifted Patch Tokenization are as follows:\n",
        "*   Start with an image.\n",
        "*   Shift the image in diagonal directions.\n",
        "*   Concat the diagonally shifted images with the original image.\n",
        "*   Extract patches of the concatenated images.\n",
        "*   Flatten the spatial dimension of all patches.\n",
        "*   Layer normalize the flattened patches and then project it.\n",
        "\n",
        "More details about the implementation can be read from the paper [Vision Transformer for Small-Size Datasets](https://arxiv.org/abs/2112.13492v1)\n",
        "\n",
        "---\n",
        "*   Implement a shiftedpatchtokenizer class\n",
        "*   The class should implement the __init__() and call() functions\n",
        "*   Implement left-up, right-up, left-down and right-down shift operations\n"
      ]
    },
    {
      "cell_type": "code",
      "execution_count": null,
      "metadata": {
        "id": "z0upIqeZ1RL5"
      },
      "outputs": [],
      "source": [
        "# solution\n",
        "\n"
      ]
    },
    {
      "cell_type": "markdown",
      "metadata": {
        "id": "wBvcw4BKL6Fi"
      },
      "source": [
        "*   Visualize the patches for a random image"
      ]
    },
    {
      "cell_type": "code",
      "execution_count": null,
      "metadata": {
        "id": "fVC3fX4AL8LN"
      },
      "outputs": [],
      "source": [
        "# solution\n",
        "\n"
      ]
    },
    {
      "cell_type": "markdown",
      "metadata": {
        "id": "9Z1NjMKI1Rme"
      },
      "source": [
        "## Build the ViT model\n",
        "\n",
        "*   Create the ViT classifier by replacing the Patch Layer with the Shifted Patch Layer"
      ]
    },
    {
      "cell_type": "code",
      "execution_count": null,
      "metadata": {
        "id": "Rg0fDXqj1bpn"
      },
      "outputs": [],
      "source": [
        "# solution\n",
        "\n"
      ]
    },
    {
      "cell_type": "markdown",
      "metadata": {
        "id": "Mla5r-oE1kBm"
      },
      "source": [
        "*   Compile and train the classifier"
      ]
    },
    {
      "cell_type": "code",
      "execution_count": null,
      "metadata": {
        "id": "IH3VD6QpMzjM"
      },
      "outputs": [],
      "source": [
        "# solution\n",
        "\n"
      ]
    },
    {
      "cell_type": "markdown",
      "metadata": {
        "id": "IM8HOAZIM2yn"
      },
      "source": [
        "*   Create the history plot for the new ViT model\n",
        "*   Evaluate the model using the test set"
      ]
    },
    {
      "cell_type": "code",
      "execution_count": null,
      "metadata": {
        "id": "YSIZ8gF9NEeM"
      },
      "outputs": [],
      "source": [
        "# solution\n",
        "\n"
      ]
    },
    {
      "cell_type": "markdown",
      "metadata": {
        "id": "Llmndpwc2hVI"
      },
      "source": [
        "*   Compute confusion matrix and classification summary of both the models\n",
        "*   Compare both the models with respect to the computed metrics"
      ]
    },
    {
      "cell_type": "code",
      "execution_count": null,
      "metadata": {
        "id": "bR0WHJXpNH9g"
      },
      "outputs": [],
      "source": [
        "# solution\n",
        "\n"
      ]
    },
    {
      "cell_type": "markdown",
      "metadata": {
        "id": "8-PGXE2mL8H-"
      },
      "source": [
        "**Solution**\n",
        "\n",
        "*(Double-click or enter to edit)*\n",
        "\n",
        "..."
      ]
    },
    {
      "cell_type": "markdown",
      "metadata": {
        "id": "6U56nxPa2ywK"
      },
      "source": [
        "*   Compare DeiT with ViT.\n",
        "*   What are the differences in both the architectures.\n",
        "*   What is one limitation of ViT that is overcome with a DeiT?"
      ]
    },
    {
      "cell_type": "markdown",
      "metadata": {
        "id": "uiblE8UVNSdi"
      },
      "source": [
        "**Solution**\n",
        "\n",
        "*(Double-click or enter to edit)*\n",
        "\n",
        "..."
      ]
    },
    {
      "cell_type": "markdown",
      "metadata": {
        "id": "GBd21JmGNU3D"
      },
      "source": [
        "*   What is a SWIN Transformer?\n",
        "*   How is it different from DeiT and ViT?"
      ]
    },
    {
      "cell_type": "markdown",
      "metadata": {
        "id": "l0pApNlJNTQL"
      },
      "source": [
        "**Solution**\n",
        "\n",
        "*(Double-click or enter to edit)*\n",
        "\n",
        "..."
      ]
    },
    {
      "cell_type": "markdown",
      "metadata": {
        "id": "CxoKmgAv26_8"
      },
      "source": [
        "*   What is distillation?\n",
        "*   Explain the distillation used in DeiT\n",
        "*   What is its significance? Why do we need distillation?"
      ]
    },
    {
      "cell_type": "markdown",
      "metadata": {
        "id": "yvuDY_lANTqu"
      },
      "source": [
        "**Solution**\n",
        "\n",
        "*(Double-click or enter to edit)*\n",
        "\n",
        "..."
      ]
    },
    {
      "cell_type": "markdown",
      "metadata": {
        "id": "u0ZcGNZk3YEB"
      },
      "source": [
        "*   Which is better as a teacher model? A transformer based teacher of a CNN based teacher?"
      ]
    },
    {
      "cell_type": "markdown",
      "metadata": {
        "id": "HEWQ8qfNNT7T"
      },
      "source": [
        "**Solution**\n",
        "\n",
        "*(Double-click or enter to edit)*\n",
        "\n",
        "..."
      ]
    },
    {
      "cell_type": "markdown",
      "metadata": {
        "id": "NnN_t5Me7N5O"
      },
      "source": [
        "\n",
        "---\n",
        "\n",
        "## **End of lab10: Vision Transformers**"
      ]
    }
  ],
  "metadata": {
    "colab": {
      "provenance": [],
      "include_colab_link": true
    },
    "gpuClass": "standard",
    "kernelspec": {
      "display_name": "Python 3 (ipykernel)",
      "language": "python",
      "name": "python3"
    },
    "language_info": {
      "codemirror_mode": {
        "name": "ipython",
        "version": 3
      },
      "file_extension": ".py",
      "mimetype": "text/x-python",
      "name": "python",
      "nbconvert_exporter": "python",
      "pygments_lexer": "ipython3",
      "version": "3.10.12"
    }
  },
  "nbformat": 4,
  "nbformat_minor": 0
}