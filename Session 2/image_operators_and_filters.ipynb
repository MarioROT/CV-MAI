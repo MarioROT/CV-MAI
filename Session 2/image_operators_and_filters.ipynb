{
 "cells": [
  {
   "cell_type": "markdown",
   "metadata": {
    "id": "ZaLHjbgl4sdC"
   },
   "source": [
    "# Laboratory #02 : Image Operators and Filters\n",
    "\n",
    "At the end of this laboratory, you would get familiarized with\n",
    "\n",
    "*   Image Handling\n",
    "*   Image Manipulation\n",
    "*   Histogram and Histogram Equalization\n",
    "*   Basic filtering techniques\n",
    "\n",
    "### **Remember this is a graded exercise.**\n",
    "\n",
    "*   For every plot, make sure you provide appropriate titles, axis labels, legends, wherever applicable.\n",
    "*   Add sufficient comments and explanations wherever necessary.\n",
    "\n",
    "---\n"
   ]
  },
  {
   "cell_type": "code",
   "execution_count": null,
   "metadata": {
    "id": "BuqI1scQ4imT"
   },
   "outputs": [],
   "source": [
    "# Loading necessary libraries (Feel free to add new libraries if you need for any computation)\n",
    "\n",
    "import numpy as np\n",
    "from matplotlib import pyplot as plt\n",
    "from skimage import data, exposure, filters, io, morphology "
   ]
  },
  {
   "cell_type": "markdown",
   "metadata": {
    "id": "OV5XxAg85xJ_"
   },
   "source": [
    "# Channels and color spaces\n",
    "\n",
    "### **Exercise: Image Creation and Color Manipulation**\n",
    "\n",
    "*   Create a 100 x 100 image for each of the below visualization\n",
    "\n",
    "![black_and_white_patches.png](https://drive.google.com/uc?export=view&id=1Iuf870gS6DuFzMtnXs53DLuiXy0oARaw)\n",
    "\n",
    "*   Visualize the created images in a 1 x 3 subplot using matplotlib.\n"
   ]
  },
  {
   "cell_type": "code",
   "execution_count": null,
   "metadata": {
    "id": "SvftuOlr5woU"
   },
   "outputs": [],
   "source": [
    "# solution\n",
    "\n"
   ]
  },
  {
   "cell_type": "markdown",
   "metadata": {
    "id": "kJ52BL-WrWV-"
   },
   "source": [
    "*   Use the above three images to create the following image\n",
    "\n",
    "![color_patches.png](https://drive.google.com/uc?export=view&id=1UxmFHToC4TUjgtB7UQMbB3DM3RIZlgBZ)\n",
    "\n",
    "*Hint: Remember channels and color spaces*"
   ]
  },
  {
   "cell_type": "code",
   "execution_count": null,
   "metadata": {
    "id": "VjFNuJ4Rraiw"
   },
   "outputs": [],
   "source": [
    "# solution\n",
    "\n"
   ]
  },
  {
   "cell_type": "markdown",
   "metadata": {
    "id": "e3jnTbnqIkN_"
   },
   "source": [
    "### **Exercise: Color Manipulation**\n",
    "\n",
    "*   Read the image 'sillas.jpg' from the images folder\n",
    "\n",
    "![sillas.jpg](https://drive.google.com/uc?export=view&id=1Ged9FdDWIcipbNxNatGgCZyRdQvcGtoG)\n",
    "\n",
    "*   Extract individual channels and plot them using matplotlib subplot.\n",
    "\n"
   ]
  },
  {
   "cell_type": "code",
   "execution_count": null,
   "metadata": {
    "id": "6T8NHYIAJ7fr"
   },
   "outputs": [],
   "source": [
    "# solution\n",
    "\n"
   ]
  },
  {
   "cell_type": "markdown",
   "metadata": {
    "id": "v2KsIGB8shvy"
   },
   "source": [
    "*   The color **red** looks too bright for the eyes. Isn't it?? Lets change the color and see how it appears.\n",
    "    *    Create a new image where everything that is **'red' is changed to 'blue'**.\n",
    "*   Visualize the original image and the created image using matplotlib subplot."
   ]
  },
  {
   "cell_type": "code",
   "execution_count": null,
   "metadata": {
    "id": "111KEZossmpl"
   },
   "outputs": [],
   "source": [
    "# solution\n",
    "\n"
   ]
  },
  {
   "cell_type": "markdown",
   "metadata": {
    "id": "I7ILNRvsJ9fm"
   },
   "source": [
    "# Image Manipulation\n",
    "\n",
    "### **Exercise: Image Operators**\n",
    "\n",
    "*   You can find images 'model.png' and 'coat.png' in the images folder (First two images of the below visualization). Your task is to create an image from the given two images such a way that the model is wearing the coat (Third image in the visualization).\n",
    "*   You can also find different textures in the images folder. Your task is to change the coat texture to any one of the given textures.\n",
    "*   Visualize the images similar to the given visualization.\n",
    "\n",
    "*Hint: Think masks!!!*\n",
    "\n",
    "![model_and_coat.png](https://drive.google.com/uc?export=view&id=1DOieJOrfwe34z0-3EEBVyX1Ac45sb5SN)\n"
   ]
  },
  {
   "cell_type": "code",
   "execution_count": null,
   "metadata": {
    "id": "GVfOvZnCH4pK"
   },
   "outputs": [],
   "source": [
    "# solution\n",
    "\n"
   ]
  },
  {
   "cell_type": "markdown",
   "metadata": {
    "id": "aTEmlIhY0w46"
   },
   "source": [
    "# Contrast Enhancement\n",
    "\n",
    "### **Exercise: Histogram Computation**\n",
    "\n",
    "*   Read the **'astronaut' image** from data module.\n",
    "*   Convert the image to grayscale.\n",
    "*   Compute the **histogram of the image.** *Hint: histogram function is available in skimage.exposure package*\n",
    "*   Plot the histogram using matplotlib plot.\n",
    "\n",
    "\n"
   ]
  },
  {
   "cell_type": "code",
   "execution_count": null,
   "metadata": {
    "id": "Pkh-HIjW2SBW"
   },
   "outputs": [],
   "source": [
    "# solution\n",
    "\n"
   ]
  },
  {
   "cell_type": "markdown",
   "metadata": {
    "id": "mIeB6eUYs-lR"
   },
   "source": [
    "*   Change the bin count to 8 and compute the histogram of the image and plot the computed histogram using matplotlib plot."
   ]
  },
  {
   "cell_type": "code",
   "execution_count": null,
   "metadata": {
    "id": "UXxj9_ZptB0_"
   },
   "outputs": [],
   "source": [
    "# solution\n",
    "\n"
   ]
  },
  {
   "cell_type": "markdown",
   "metadata": {
    "id": "NyBcGEtEJXP_"
   },
   "source": [
    "\n",
    "\n",
    "*   What happens when you change the bin count? Does your inference change based on the bin count? If yes, then how do you define the correct bin count.\n",
    "*   What happens when the bin count is very low and what happens when it is very high?\n",
    "\n"
   ]
  },
  {
   "cell_type": "markdown",
   "metadata": {
    "id": "tw8L1ZKvKOvo"
   },
   "source": [
    "**Solution**\n",
    "\n",
    "*(Double-click or enter to edit)*\n",
    "\n",
    "..."
   ]
  },
  {
   "cell_type": "markdown",
   "metadata": {
    "id": "4ecOWgER2U_n"
   },
   "source": [
    "\n",
    "*   Compute histogram of the color image (without converting it to grayscale).\n",
    "*   Plot the total histogram and also histogram for each channel (show it in a single plot with differnt legends for each histogram).\n"
   ]
  },
  {
   "cell_type": "code",
   "execution_count": null,
   "metadata": {
    "id": "0R425Nve2Til"
   },
   "outputs": [],
   "source": [
    "#solution\n",
    "\n"
   ]
  },
  {
   "cell_type": "markdown",
   "metadata": {
    "id": "vr9af6my4uKv"
   },
   "source": [
    "### **Exercise: Histogram Equalization**\n",
    "\n",
    "*   Read 'aquatermi_lowcontrast.jpg' image from the images folder.\n",
    "*   Compute the histogram of the image.\n",
    "*   Perform histogram equalization of the image to enhance the contrast. *Hint: Use equalize_hist function available in skimage.exposure*\n",
    "*   Also compute histogram of the equalized image.\n",
    "*   Use 2 x 2 subplot to show the original image and the enhanced image along with the corresponding histograms.\n",
    "\n"
   ]
  },
  {
   "cell_type": "code",
   "execution_count": null,
   "metadata": {
    "id": "0ROMuC8F6IYf"
   },
   "outputs": [],
   "source": [
    "# solution\n",
    "\n"
   ]
  },
  {
   "cell_type": "markdown",
   "metadata": {
    "id": "IvDnkRKA8PXe"
   },
   "source": [
    "\n",
    "*   The above function in skimage.exposure uses cdf and interpolation technique to normalize the histogram. How is it different from linear contrast stretch?\n"
   ]
  },
  {
   "cell_type": "markdown",
   "metadata": {
    "id": "JOCa3PzJLhl0"
   },
   "source": [
    "**Solution**\n",
    "\n",
    "*(Double-click or enter to edit)*\n",
    "\n",
    "..."
   ]
  },
  {
   "cell_type": "markdown",
   "metadata": {
    "id": "boFCTwGV8kaz"
   },
   "source": [
    "### **Exercise: Linear Contrast Stretch**\n",
    "\n",
    "*   Write a function to compute the linear contrast stretch (Do not use an inbuilt function). \n",
    "*   Provide grayscale image array and bin count as parameters to the function and return the enhanced image array.\n",
    "*   Use a 2 x 2 plot to visualize the original image, histogram, enhanced image and the corresponding histogram.\n",
    "\n"
   ]
  },
  {
   "cell_type": "code",
   "execution_count": null,
   "metadata": {
    "id": "l6mlhI_s8lLv"
   },
   "outputs": [],
   "source": [
    "# solution\n",
    "\n"
   ]
  },
  {
   "cell_type": "markdown",
   "metadata": {
    "id": "lfuWqX2BWyXm"
   },
   "source": [
    "# Filters\n",
    "\n",
    "### **Exercise: Mean Filter**\n",
    "\n",
    "*   Load the **coins** image from the data module.\n",
    "*   Define a disk structuring element (selem) of radius 20. *Hint: Structuring elements are defined in the skimage.morphology module*\n",
    "*   Use mean filter using the created selem. *Hint: The mean filter is available in skimage.filters.rank module*\n",
    "*   Increase the radius of the selem by 10 and apply the mean filter.\n",
    "*   Reduce the radius of the selem by 10 and apply the mean filter.\n",
    "*   Visualize all the smoothened images along with the original image.\n",
    "\n",
    "\n"
   ]
  },
  {
   "cell_type": "code",
   "execution_count": null,
   "metadata": {
    "id": "qp7_zxDjL7vS"
   },
   "outputs": [],
   "source": [
    "# solution\n",
    "\n"
   ]
  },
  {
   "cell_type": "markdown",
   "metadata": {
    "id": "7DIOQCcsvEqG"
   },
   "source": [
    "*   Use different selem (square, rectangle, star, diamond) to view the behaviour of the mean filter (It is not necessary to repeat with different sizes; it is sufficient to show the one with optimal parameter).\n",
    "*   Create a 2 x n subplot to show the selem in the first row and the corresponding smoothened image in the second row."
   ]
  },
  {
   "cell_type": "code",
   "execution_count": null,
   "metadata": {
    "id": "3GbQXmYvvXUO"
   },
   "outputs": [],
   "source": [
    "# solution\n",
    "\n"
   ]
  },
  {
   "cell_type": "markdown",
   "metadata": {
    "id": "jV7OHQwKZ9GU"
   },
   "source": [
    "*   How does changing the radius of disk affect the smoothing functionality?"
   ]
  },
  {
   "cell_type": "markdown",
   "metadata": {
    "id": "QG91LBzwMBUR"
   },
   "source": [
    "**Solution**\n",
    "\n",
    "*(Double-click or enter to edit)*\n",
    "\n",
    "..."
   ]
  },
  {
   "cell_type": "markdown",
   "metadata": {
    "id": "mPJFLYMkMBqs"
   },
   "source": [
    "\n",
    "*   What is the observed behaviour with difference in the structuring element?\n",
    "\n"
   ]
  },
  {
   "cell_type": "markdown",
   "metadata": {
    "id": "hcJkpvnjMFY5"
   },
   "source": [
    "**Solution**\n",
    "\n",
    "*(Double-click or enter to edit)*\n",
    "\n",
    "..."
   ]
  },
  {
   "cell_type": "markdown",
   "metadata": {
    "id": "v5hySxTKM4AB"
   },
   "source": [
    "\n",
    "\n",
    "*   What is the difference between mean filter and gaussian filter?\n",
    "*   Where do you use mean filters and where do you use gaussian filters?\n",
    "\n"
   ]
  },
  {
   "cell_type": "markdown",
   "metadata": {
    "id": "w0foSx_GNDB5"
   },
   "source": [
    "**Solution**\n",
    "\n",
    "*(Double-click or enter to edit)*\n",
    "\n",
    "..."
   ]
  },
  {
   "cell_type": "markdown",
   "metadata": {
    "id": "gqRUGL7KNEK5"
   },
   "source": [
    "\n",
    "---\n",
    "\n",
    "## **End of P2: Image operators and filters**\n",
    "\n",
    "Deadline for P2 submission in CampusVirtual is: **Thursday, the 6th of October, 2022**\n"
   ]
  }
 ],
 "metadata": {
  "colab": {
   "authorship_tag": "ABX9TyPs+7OmQKl06bCVLggAj4BU",
   "collapsed_sections": [],
   "provenance": []
  },
  "kernelspec": {
   "display_name": "Python 3 (ipykernel)",
   "language": "python",
   "name": "python3"
  },
  "language_info": {
   "codemirror_mode": {
    "name": "ipython",
    "version": 3
   },
   "file_extension": ".py",
   "mimetype": "text/x-python",
   "name": "python",
   "nbconvert_exporter": "python",
   "pygments_lexer": "ipython3",
   "version": "3.10.12"
  }
 },
 "nbformat": 4,
 "nbformat_minor": 4
}
